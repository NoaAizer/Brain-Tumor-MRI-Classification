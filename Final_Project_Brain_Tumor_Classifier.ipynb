{
 "cells": [
  {
   "cell_type": "markdown",
   "metadata": {},
   "source": [
    " <h1 align=\"center\">Final_Project_Brain_Tumor_Classifier</h1>"
   ]
  },
  {
   "cell_type": "markdown",
   "metadata": {},
   "source": [
    " <h3 align=\"center\">Authors: Noa Aizer & Ido Shapira</h3>   "
   ]
  },
  {
   "cell_type": "markdown",
   "metadata": {},
   "source": [
    "#### Project Overview and Objective:\n",
    "- The main purpose of this project was to build models that would classify if a subject has a tumor or not based on an MRI scan. The model would try to learn the pattern of Brain Tumor in the MRI scans with different conditions such as - brain shape, size of the tumor etc.\n",
    "- In addition, we would like to test whether we can, after training a model, develop an application that, given an image, will be able to classify whether a person has a brain tumor or not, so that it will be open for use by each doctor.\n",
    "\n",
    "#### Data-Set Description:\n",
    "The image data that was used for this problem is Brain MRI Images for Brain Tumor Detection from Kaggle web. It consists 253 MRI scans of two classes:\n",
    "* NO - no tumor, encoded as 0 - 98 images\n",
    "* YES - tumor, encoded as 1 - 155 images\n",
    "\n",
    "#### Our Techniques: \n",
    "We will build a number of models based on different learning techniques some of which we learned in the course during the semester.\n",
    "1. KNN model - finding a K-nearby neighbor.\n",
    "2. SVM model - Support Vector Machine\n",
    "3. Random Forest model - a forest of decision trees.\n",
    "4. CNN model - a technique we learned in the \"deep learning\" course that we think will give good results on the database.\n"
   ]
  },
  {
   "cell_type": "markdown",
   "metadata": {},
   "source": [
    "## Code:"
   ]
  },
  {
   "cell_type": "markdown",
   "metadata": {},
   "source": [
    "### Import all the necessary libraries:\n",
    "We have used Python libraries:\n",
    "- sklearn\n",
    "- tensorflow"
   ]
  },
  {
   "cell_type": "code",
   "execution_count": 1,
   "metadata": {
    "execution": {
     "iopub.execute_input": "2021-05-20T10:17:49.287680Z",
     "iopub.status.busy": "2021-05-20T10:17:49.287371Z",
     "iopub.status.idle": "2021-05-20T10:17:54.213405Z",
     "shell.execute_reply": "2021-05-20T10:17:54.212588Z",
     "shell.execute_reply.started": "2021-05-20T10:17:49.287615Z"
    },
    "id": "sCV30xyVhFbE"
   },
   "outputs": [],
   "source": [
    "import tensorflow as tf\n",
    "import numpy as np\n",
    "from tensorflow.keras.preprocessing.image import ImageDataGenerator"
   ]
  },
  {
   "cell_type": "code",
   "execution_count": 2,
   "metadata": {
    "execution": {
     "iopub.execute_input": "2021-05-20T10:17:54.215195Z",
     "iopub.status.busy": "2021-05-20T10:17:54.214874Z",
     "iopub.status.idle": "2021-05-20T10:17:54.223717Z",
     "shell.execute_reply": "2021-05-20T10:17:54.222790Z",
     "shell.execute_reply.started": "2021-05-20T10:17:54.215160Z"
    },
    "id": "FIleuCAjoFD8"
   },
   "outputs": [
    {
     "data": {
      "text/plain": [
       "'2.3.1'"
      ]
     },
     "execution_count": 2,
     "metadata": {},
     "output_type": "execute_result"
    }
   ],
   "source": [
    "tf.__version__"
   ]
  },
  {
   "cell_type": "markdown",
   "metadata": {
    "id": "oxQxCBWyoGPE"
   },
   "source": [
    "## Part 1 - Data Preprocessing"
   ]
  },
  {
   "cell_type": "markdown",
   "metadata": {},
   "source": [
    "## Split into train , test data"
   ]
  },
  {
   "cell_type": "code",
   "execution_count": 3,
   "metadata": {},
   "outputs": [
    {
     "name": "stderr",
     "output_type": "stream",
     "text": [
      "Copying files: 253 files [00:00, 971.18 files/s]\n"
     ]
    }
   ],
   "source": [
    "# ! pip install split-folders\n",
    "import splitfolders\n",
    "\n",
    "# train, test split\n",
    "splitfolders.ratio('./data/brain_tumor_dataset/', output=\"./data/brain_tumor_dataset_split\", ratio=(0.7, 0.3))"
   ]
  },
  {
   "cell_type": "markdown",
   "metadata": {
    "id": "MvE-heJNo3GG"
   },
   "source": [
    "### Preprocessing the Training set"
   ]
  },
  {
   "cell_type": "code",
   "execution_count": 4,
   "metadata": {
    "execution": {
     "iopub.execute_input": "2021-05-20T10:35:29.379448Z",
     "iopub.status.busy": "2021-05-20T10:35:29.379133Z",
     "iopub.status.idle": "2021-05-20T10:35:29.488698Z",
     "shell.execute_reply": "2021-05-20T10:35:29.487666Z",
     "shell.execute_reply.started": "2021-05-20T10:35:29.379419Z"
    },
    "id": "0koUcJMJpEBD"
   },
   "outputs": [
    {
     "name": "stdout",
     "output_type": "stream",
     "text": [
      "Found 176 images belonging to 2 classes.\n"
     ]
    }
   ],
   "source": [
    "train_datagen = ImageDataGenerator(rescale = 1./255,\n",
    "                                   shear_range = 0.2,\n",
    "                                   zoom_range = 0.2,\n",
    "                                   horizontal_flip = True)\n",
    "training_set = train_datagen.flow_from_directory('./data/brain_tumor_dataset_split/train',\n",
    "                                                 target_size = (64,64),\n",
    "                                                 batch_size = 32,\n",
    "                                                 class_mode = 'binary')"
   ]
  },
  {
   "cell_type": "code",
   "execution_count": 5,
   "metadata": {
    "execution": {
     "iopub.execute_input": "2021-05-20T10:35:30.851056Z",
     "iopub.status.busy": "2021-05-20T10:35:30.850649Z",
     "iopub.status.idle": "2021-05-20T10:35:30.860647Z",
     "shell.execute_reply": "2021-05-20T10:35:30.859655Z",
     "shell.execute_reply.started": "2021-05-20T10:35:30.851015Z"
    }
   },
   "outputs": [
    {
     "data": {
      "text/plain": [
       "{'no': 0, 'yes': 1}"
      ]
     },
     "execution_count": 5,
     "metadata": {},
     "output_type": "execute_result"
    }
   ],
   "source": [
    "training_set.class_indices"
   ]
  },
  {
   "cell_type": "code",
   "execution_count": 6,
   "metadata": {
    "execution": {
     "iopub.execute_input": "2021-05-20T10:35:32.169935Z",
     "iopub.status.busy": "2021-05-20T10:35:32.169625Z",
     "iopub.status.idle": "2021-05-20T10:35:32.174754Z",
     "shell.execute_reply": "2021-05-20T10:35:32.173909Z",
     "shell.execute_reply.started": "2021-05-20T10:35:32.169906Z"
    }
   },
   "outputs": [
    {
     "name": "stdout",
     "output_type": "stream",
     "text": [
      "Yes: 108\n",
      "No: 68\n"
     ]
    }
   ],
   "source": [
    "yes=np.count_nonzero(training_set.classes)\n",
    "print(\"Yes:\",yes)\n",
    "print(\"No:\",176-yes)"
   ]
  },
  {
   "cell_type": "markdown",
   "metadata": {
    "id": "mrCMmGw9pHys"
   },
   "source": [
    "### Preprocessing the Test set"
   ]
  },
  {
   "cell_type": "code",
   "execution_count": 7,
   "metadata": {
    "execution": {
     "iopub.execute_input": "2021-05-20T10:35:55.734218Z",
     "iopub.status.busy": "2021-05-20T10:35:55.733894Z",
     "iopub.status.idle": "2021-05-20T10:35:55.843233Z",
     "shell.execute_reply": "2021-05-20T10:35:55.842391Z",
     "shell.execute_reply.started": "2021-05-20T10:35:55.734189Z"
    },
    "id": "SH4WzfOhpKc3"
   },
   "outputs": [
    {
     "name": "stdout",
     "output_type": "stream",
     "text": [
      "Found 77 images belonging to 2 classes.\n"
     ]
    }
   ],
   "source": [
    "test_datagen = ImageDataGenerator(rescale = 1./255)\n",
    "test_set = test_datagen.flow_from_directory('data/brain_tumor_dataset_split/val/',\n",
    "                                            target_size = (64, 64),\n",
    "                                            batch_size = 32,\n",
    "                                            class_mode = 'binary')"
   ]
  },
  {
   "cell_type": "code",
   "execution_count": 8,
   "metadata": {
    "execution": {
     "iopub.execute_input": "2021-05-20T10:38:00.475080Z",
     "iopub.status.busy": "2021-05-20T10:38:00.474770Z",
     "iopub.status.idle": "2021-05-20T10:38:00.480452Z",
     "shell.execute_reply": "2021-05-20T10:38:00.479332Z",
     "shell.execute_reply.started": "2021-05-20T10:38:00.475051Z"
    }
   },
   "outputs": [
    {
     "name": "stdout",
     "output_type": "stream",
     "text": [
      "Yes: 47\n",
      "No: 30\n"
     ]
    }
   ],
   "source": [
    "yes_test=np.count_nonzero(test_set.classes)\n",
    "print(\"Yes:\",yes_test)\n",
    "print(\"No:\",77-yes_test)"
   ]
  },
  {
   "cell_type": "markdown",
   "metadata": {
    "id": "af8O4l90gk7B"
   },
   "source": [
    "## Part 2 - Building the CNN"
   ]
  },
  {
   "cell_type": "code",
   "execution_count": 9,
   "metadata": {
    "execution": {
     "iopub.execute_input": "2021-05-20T10:45:26.759117Z",
     "iopub.status.busy": "2021-05-20T10:45:26.758799Z",
     "iopub.status.idle": "2021-05-20T10:45:26.766068Z",
     "shell.execute_reply": "2021-05-20T10:45:26.765063Z",
     "shell.execute_reply.started": "2021-05-20T10:45:26.759087Z"
    },
    "id": "SAUt4UMPlhLS"
   },
   "outputs": [],
   "source": [
    "### Init the CNN model\n",
    "cnn = tf.keras.models.Sequential()\n",
    "\n",
    "### Convolution and pooling layer\n",
    "cnn.add(tf.keras.layers.Conv2D(filters=32, kernel_size=7, activation='relu', input_shape=[64,64,3]))\n",
    "cnn.add(tf.keras.layers.MaxPool2D(pool_size=2, strides=2))\n",
    "\n",
    "### Adding a second convolutional layer\n",
    "cnn.add(tf.keras.layers.Conv2D(filters=32, kernel_size=3, activation='relu'))\n",
    "cnn.add(tf.keras.layers.MaxPool2D(pool_size=2, strides=2))\n",
    "\n",
    "### Flattening\n",
    "cnn.add(tf.keras.layers.Flatten())\n",
    "\n",
    "### Fully Connection\n",
    "cnn.add(tf.keras.layers.Dense(units=128, activation='relu'))\n",
    "\n",
    "### Output Layer\n",
    "cnn.add(tf.keras.layers.Dense(units=1, activation='sigmoid'))"
   ]
  },
  {
   "cell_type": "markdown",
   "metadata": {
    "id": "D6XkI90snSDl"
   },
   "source": [
    "## Part 3 - Training the CNN"
   ]
  },
  {
   "cell_type": "markdown",
   "metadata": {
    "id": "vfrFQACEnc6i"
   },
   "source": [
    "### Compiling the CNN"
   ]
  },
  {
   "cell_type": "code",
   "execution_count": 10,
   "metadata": {
    "execution": {
     "iopub.execute_input": "2021-05-20T10:45:41.155820Z",
     "iopub.status.busy": "2021-05-20T10:45:41.155462Z",
     "iopub.status.idle": "2021-05-20T10:45:41.166770Z",
     "shell.execute_reply": "2021-05-20T10:45:41.165689Z",
     "shell.execute_reply.started": "2021-05-20T10:45:41.155791Z"
    },
    "id": "NALksrNQpUlJ"
   },
   "outputs": [],
   "source": [
    "cnn.compile(optimizer = 'adam', loss = 'binary_crossentropy', metrics = ['accuracy'])"
   ]
  },
  {
   "cell_type": "markdown",
   "metadata": {},
   "source": [
    "### Summary of the model"
   ]
  },
  {
   "cell_type": "code",
   "execution_count": 11,
   "metadata": {
    "execution": {
     "iopub.execute_input": "2021-05-20T10:45:42.985752Z",
     "iopub.status.busy": "2021-05-20T10:45:42.985421Z",
     "iopub.status.idle": "2021-05-20T10:45:42.995821Z",
     "shell.execute_reply": "2021-05-20T10:45:42.995001Z",
     "shell.execute_reply.started": "2021-05-20T10:45:42.985721Z"
    }
   },
   "outputs": [
    {
     "name": "stdout",
     "output_type": "stream",
     "text": [
      "Model: \"sequential\"\n",
      "_________________________________________________________________\n",
      "Layer (type)                 Output Shape              Param #   \n",
      "=================================================================\n",
      "conv2d (Conv2D)              (None, 58, 58, 32)        4736      \n",
      "_________________________________________________________________\n",
      "max_pooling2d (MaxPooling2D) (None, 29, 29, 32)        0         \n",
      "_________________________________________________________________\n",
      "conv2d_1 (Conv2D)            (None, 27, 27, 32)        9248      \n",
      "_________________________________________________________________\n",
      "max_pooling2d_1 (MaxPooling2 (None, 13, 13, 32)        0         \n",
      "_________________________________________________________________\n",
      "flatten (Flatten)            (None, 5408)              0         \n",
      "_________________________________________________________________\n",
      "dense (Dense)                (None, 128)               692352    \n",
      "_________________________________________________________________\n",
      "dense_1 (Dense)              (None, 1)                 129       \n",
      "=================================================================\n",
      "Total params: 706,465\n",
      "Trainable params: 706,465\n",
      "Non-trainable params: 0\n",
      "_________________________________________________________________\n"
     ]
    }
   ],
   "source": [
    "cnn.summary()"
   ]
  },
  {
   "cell_type": "markdown",
   "metadata": {
    "id": "ehS-v3MIpX2h"
   },
   "source": [
    "### Training the CNN on the Training set and evaluating it on the Test set"
   ]
  },
  {
   "cell_type": "code",
   "execution_count": 12,
   "metadata": {
    "execution": {
     "iopub.execute_input": "2021-05-20T10:45:44.161794Z",
     "iopub.status.busy": "2021-05-20T10:45:44.161453Z",
     "iopub.status.idle": "2021-05-20T10:47:23.628600Z",
     "shell.execute_reply": "2021-05-20T10:47:23.627808Z",
     "shell.execute_reply.started": "2021-05-20T10:45:44.161765Z"
    },
    "id": "XUj1W4PJptta"
   },
   "outputs": [
    {
     "name": "stdout",
     "output_type": "stream",
     "text": [
      "Epoch 1/121\n",
      "6/6 [==============================] - 1s 201ms/step - loss: 0.6868 - accuracy: 0.5455 - val_loss: 0.6443 - val_accuracy: 0.6364\n",
      "Epoch 2/121\n",
      "6/6 [==============================] - 1s 146ms/step - loss: 0.6407 - accuracy: 0.6307 - val_loss: 0.6007 - val_accuracy: 0.6623\n",
      "Epoch 3/121\n",
      "6/6 [==============================] - 1s 144ms/step - loss: 0.5843 - accuracy: 0.7216 - val_loss: 0.5810 - val_accuracy: 0.7273\n",
      "Epoch 4/121\n",
      "6/6 [==============================] - 1s 175ms/step - loss: 0.5767 - accuracy: 0.7045 - val_loss: 0.5611 - val_accuracy: 0.7403\n",
      "Epoch 5/121\n",
      "6/6 [==============================] - 1s 150ms/step - loss: 0.6073 - accuracy: 0.6932 - val_loss: 0.5651 - val_accuracy: 0.7143\n",
      "Epoch 6/121\n",
      "6/6 [==============================] - 1s 154ms/step - loss: 0.5786 - accuracy: 0.7102 - val_loss: 0.5630 - val_accuracy: 0.7273\n",
      "Epoch 7/121\n",
      "6/6 [==============================] - 1s 155ms/step - loss: 0.5420 - accuracy: 0.7386 - val_loss: 0.5896 - val_accuracy: 0.7273\n",
      "Epoch 8/121\n",
      "6/6 [==============================] - 1s 143ms/step - loss: 0.5145 - accuracy: 0.7614 - val_loss: 0.5642 - val_accuracy: 0.7662\n",
      "Epoch 9/121\n",
      "6/6 [==============================] - 1s 173ms/step - loss: 0.5391 - accuracy: 0.6989 - val_loss: 0.5542 - val_accuracy: 0.7143\n",
      "Epoch 10/121\n",
      "6/6 [==============================] - 1s 152ms/step - loss: 0.5228 - accuracy: 0.7330 - val_loss: 0.5433 - val_accuracy: 0.7662\n",
      "Epoch 11/121\n",
      "6/6 [==============================] - 1s 164ms/step - loss: 0.5344 - accuracy: 0.7330 - val_loss: 0.5707 - val_accuracy: 0.7143\n",
      "Epoch 12/121\n",
      "6/6 [==============================] - 1s 157ms/step - loss: 0.4689 - accuracy: 0.7614 - val_loss: 0.5236 - val_accuracy: 0.7662\n",
      "Epoch 13/121\n",
      "6/6 [==============================] - 1s 157ms/step - loss: 0.5415 - accuracy: 0.7670 - val_loss: 0.6266 - val_accuracy: 0.7143\n",
      "Epoch 14/121\n",
      "6/6 [==============================] - 1s 177ms/step - loss: 0.5067 - accuracy: 0.7443 - val_loss: 0.5007 - val_accuracy: 0.8182\n",
      "Epoch 15/121\n",
      "6/6 [==============================] - 1s 181ms/step - loss: 0.4781 - accuracy: 0.7557 - val_loss: 0.5599 - val_accuracy: 0.7273\n",
      "Epoch 16/121\n",
      "6/6 [==============================] - 1s 149ms/step - loss: 0.4211 - accuracy: 0.8295 - val_loss: 0.5254 - val_accuracy: 0.7403\n",
      "Epoch 17/121\n",
      "6/6 [==============================] - 1s 147ms/step - loss: 0.4520 - accuracy: 0.7784 - val_loss: 0.4987 - val_accuracy: 0.7792\n",
      "Epoch 18/121\n",
      "6/6 [==============================] - 1s 160ms/step - loss: 0.4652 - accuracy: 0.7727 - val_loss: 0.4944 - val_accuracy: 0.7662\n",
      "Epoch 19/121\n",
      "6/6 [==============================] - 1s 161ms/step - loss: 0.4473 - accuracy: 0.7955 - val_loss: 0.5312 - val_accuracy: 0.7273\n",
      "Epoch 20/121\n",
      "6/6 [==============================] - 1s 162ms/step - loss: 0.4186 - accuracy: 0.8068 - val_loss: 0.4819 - val_accuracy: 0.7792\n",
      "Epoch 21/121\n",
      "6/6 [==============================] - 1s 165ms/step - loss: 0.3837 - accuracy: 0.8580 - val_loss: 0.5754 - val_accuracy: 0.7532\n",
      "Epoch 22/121\n",
      "6/6 [==============================] - 1s 164ms/step - loss: 0.3859 - accuracy: 0.8352 - val_loss: 0.4739 - val_accuracy: 0.7532\n",
      "Epoch 23/121\n",
      "6/6 [==============================] - 1s 195ms/step - loss: 0.3891 - accuracy: 0.8295 - val_loss: 0.4635 - val_accuracy: 0.8312\n",
      "Epoch 24/121\n",
      "6/6 [==============================] - 1s 227ms/step - loss: 0.3515 - accuracy: 0.8466 - val_loss: 0.5792 - val_accuracy: 0.7532\n",
      "Epoch 25/121\n",
      "6/6 [==============================] - 1s 178ms/step - loss: 0.3956 - accuracy: 0.8352 - val_loss: 0.4862 - val_accuracy: 0.7792\n",
      "Epoch 26/121\n",
      "6/6 [==============================] - 1s 163ms/step - loss: 0.4238 - accuracy: 0.8068 - val_loss: 0.4793 - val_accuracy: 0.7662\n",
      "Epoch 27/121\n",
      "6/6 [==============================] - 1s 163ms/step - loss: 0.3423 - accuracy: 0.8693 - val_loss: 0.5049 - val_accuracy: 0.7792\n",
      "Epoch 28/121\n",
      "6/6 [==============================] - 1s 171ms/step - loss: 0.3295 - accuracy: 0.8636 - val_loss: 0.5093 - val_accuracy: 0.7792\n",
      "Epoch 29/121\n",
      "6/6 [==============================] - 1s 215ms/step - loss: 0.3011 - accuracy: 0.8466 - val_loss: 0.5398 - val_accuracy: 0.7403\n",
      "Epoch 30/121\n",
      "6/6 [==============================] - 1s 157ms/step - loss: 0.3006 - accuracy: 0.8807 - val_loss: 0.5484 - val_accuracy: 0.7922\n",
      "Epoch 31/121\n",
      "6/6 [==============================] - 1s 154ms/step - loss: 0.4138 - accuracy: 0.8182 - val_loss: 0.5250 - val_accuracy: 0.7532\n",
      "Epoch 32/121\n",
      "6/6 [==============================] - 1s 157ms/step - loss: 0.3512 - accuracy: 0.8352 - val_loss: 0.5856 - val_accuracy: 0.7662\n",
      "Epoch 33/121\n",
      "6/6 [==============================] - 1s 156ms/step - loss: 0.3084 - accuracy: 0.8864 - val_loss: 0.5853 - val_accuracy: 0.7792\n",
      "Epoch 34/121\n",
      "6/6 [==============================] - 1s 217ms/step - loss: 0.3475 - accuracy: 0.8523 - val_loss: 0.5189 - val_accuracy: 0.7792\n",
      "Epoch 35/121\n",
      "6/6 [==============================] - 1s 170ms/step - loss: 0.2768 - accuracy: 0.8580 - val_loss: 0.5136 - val_accuracy: 0.7662\n",
      "Epoch 36/121\n",
      "6/6 [==============================] - 1s 162ms/step - loss: 0.3007 - accuracy: 0.8580 - val_loss: 0.5376 - val_accuracy: 0.7922\n",
      "Epoch 37/121\n",
      "6/6 [==============================] - 1s 169ms/step - loss: 0.2542 - accuracy: 0.9034 - val_loss: 0.5306 - val_accuracy: 0.7922\n",
      "Epoch 38/121\n",
      "6/6 [==============================] - 1s 164ms/step - loss: 0.2427 - accuracy: 0.9148 - val_loss: 0.5562 - val_accuracy: 0.7922\n",
      "Epoch 39/121\n",
      "6/6 [==============================] - 1s 217ms/step - loss: 0.3241 - accuracy: 0.8636 - val_loss: 0.6544 - val_accuracy: 0.7532\n",
      "Epoch 40/121\n",
      "6/6 [==============================] - 1s 180ms/step - loss: 0.3032 - accuracy: 0.8636 - val_loss: 0.4969 - val_accuracy: 0.8052\n",
      "Epoch 41/121\n",
      "6/6 [==============================] - 1s 169ms/step - loss: 0.2702 - accuracy: 0.8920 - val_loss: 0.5083 - val_accuracy: 0.7922\n",
      "Epoch 42/121\n",
      "6/6 [==============================] - 1s 172ms/step - loss: 0.2453 - accuracy: 0.9205 - val_loss: 0.5719 - val_accuracy: 0.7792\n",
      "Epoch 43/121\n",
      "6/6 [==============================] - 1s 160ms/step - loss: 0.2355 - accuracy: 0.9318 - val_loss: 0.5885 - val_accuracy: 0.7792\n",
      "Epoch 44/121\n",
      "6/6 [==============================] - 1s 194ms/step - loss: 0.2546 - accuracy: 0.8977 - val_loss: 0.5385 - val_accuracy: 0.8182\n",
      "Epoch 45/121\n",
      "6/6 [==============================] - 1s 157ms/step - loss: 0.2898 - accuracy: 0.8580 - val_loss: 0.5942 - val_accuracy: 0.7662\n",
      "Epoch 46/121\n",
      "6/6 [==============================] - 1s 200ms/step - loss: 0.2109 - accuracy: 0.9261 - val_loss: 0.4815 - val_accuracy: 0.7922\n",
      "Epoch 47/121\n",
      "6/6 [==============================] - 1s 196ms/step - loss: 0.2550 - accuracy: 0.8920 - val_loss: 0.4925 - val_accuracy: 0.8052\n",
      "Epoch 48/121\n",
      "6/6 [==============================] - 1s 228ms/step - loss: 0.2445 - accuracy: 0.9091 - val_loss: 0.5608 - val_accuracy: 0.7792\n",
      "Epoch 49/121\n",
      "6/6 [==============================] - 1s 166ms/step - loss: 0.1945 - accuracy: 0.9375 - val_loss: 0.5174 - val_accuracy: 0.8052\n",
      "Epoch 50/121\n",
      "6/6 [==============================] - 1s 160ms/step - loss: 0.2151 - accuracy: 0.9205 - val_loss: 0.5518 - val_accuracy: 0.7922\n",
      "Epoch 51/121\n",
      "6/6 [==============================] - 1s 161ms/step - loss: 0.1918 - accuracy: 0.9205 - val_loss: 0.5421 - val_accuracy: 0.7922\n",
      "Epoch 52/121\n",
      "6/6 [==============================] - 1s 160ms/step - loss: 0.1689 - accuracy: 0.9318 - val_loss: 0.6005 - val_accuracy: 0.7792\n",
      "Epoch 53/121\n",
      "6/6 [==============================] - 1s 194ms/step - loss: 0.1587 - accuracy: 0.9432 - val_loss: 0.5778 - val_accuracy: 0.8182\n",
      "Epoch 54/121\n",
      "6/6 [==============================] - 1s 165ms/step - loss: 0.1985 - accuracy: 0.9318 - val_loss: 0.5824 - val_accuracy: 0.8182\n",
      "Epoch 55/121\n",
      "6/6 [==============================] - 1s 165ms/step - loss: 0.1756 - accuracy: 0.9318 - val_loss: 0.6634 - val_accuracy: 0.7403\n",
      "Epoch 56/121\n",
      "6/6 [==============================] - 1s 157ms/step - loss: 0.2244 - accuracy: 0.9261 - val_loss: 0.5166 - val_accuracy: 0.8052\n",
      "Epoch 57/121\n",
      "6/6 [==============================] - 1s 167ms/step - loss: 0.2120 - accuracy: 0.9205 - val_loss: 0.6134 - val_accuracy: 0.7532\n",
      "Epoch 58/121\n",
      "6/6 [==============================] - 1s 206ms/step - loss: 0.2035 - accuracy: 0.9034 - val_loss: 0.5338 - val_accuracy: 0.8182\n"
     ]
    },
    {
     "name": "stdout",
     "output_type": "stream",
     "text": [
      "Epoch 59/121\n",
      "6/6 [==============================] - 1s 171ms/step - loss: 0.1781 - accuracy: 0.9375 - val_loss: 0.5860 - val_accuracy: 0.8052\n",
      "Epoch 60/121\n",
      "6/6 [==============================] - 1s 172ms/step - loss: 0.1564 - accuracy: 0.9489 - val_loss: 0.5709 - val_accuracy: 0.8052\n",
      "Epoch 61/121\n",
      "6/6 [==============================] - 1s 166ms/step - loss: 0.1397 - accuracy: 0.9375 - val_loss: 0.6761 - val_accuracy: 0.7792\n",
      "Epoch 62/121\n",
      "6/6 [==============================] - 1s 157ms/step - loss: 0.1454 - accuracy: 0.9489 - val_loss: 0.5818 - val_accuracy: 0.8312\n",
      "Epoch 63/121\n",
      "6/6 [==============================] - 1s 208ms/step - loss: 0.2291 - accuracy: 0.9034 - val_loss: 0.7202 - val_accuracy: 0.7922\n",
      "Epoch 64/121\n",
      "6/6 [==============================] - 1s 173ms/step - loss: 0.1207 - accuracy: 0.9432 - val_loss: 0.6044 - val_accuracy: 0.7922\n",
      "Epoch 65/121\n",
      "6/6 [==============================] - 1s 161ms/step - loss: 0.1310 - accuracy: 0.9432 - val_loss: 0.6463 - val_accuracy: 0.8182\n",
      "Epoch 66/121\n",
      "6/6 [==============================] - 1s 166ms/step - loss: 0.1660 - accuracy: 0.9432 - val_loss: 0.6325 - val_accuracy: 0.8052\n",
      "Epoch 67/121\n",
      "6/6 [==============================] - 1s 180ms/step - loss: 0.1777 - accuracy: 0.9375 - val_loss: 0.8631 - val_accuracy: 0.7662\n",
      "Epoch 68/121\n",
      "6/6 [==============================] - 1s 232ms/step - loss: 0.1870 - accuracy: 0.9091 - val_loss: 0.6555 - val_accuracy: 0.7792\n",
      "Epoch 69/121\n",
      "6/6 [==============================] - 1s 161ms/step - loss: 0.1162 - accuracy: 0.9602 - val_loss: 0.7127 - val_accuracy: 0.7792\n",
      "Epoch 70/121\n",
      "6/6 [==============================] - 1s 186ms/step - loss: 0.1648 - accuracy: 0.9489 - val_loss: 0.6812 - val_accuracy: 0.7922\n",
      "Epoch 71/121\n",
      "6/6 [==============================] - 1s 186ms/step - loss: 0.1541 - accuracy: 0.9545 - val_loss: 0.6725 - val_accuracy: 0.7922\n",
      "Epoch 72/121\n",
      "6/6 [==============================] - 1s 192ms/step - loss: 0.1269 - accuracy: 0.9602 - val_loss: 0.6454 - val_accuracy: 0.8052\n",
      "Epoch 73/121\n",
      "6/6 [==============================] - 1s 200ms/step - loss: 0.1137 - accuracy: 0.9716 - val_loss: 0.8329 - val_accuracy: 0.7922\n",
      "Epoch 74/121\n",
      "6/6 [==============================] - 1s 166ms/step - loss: 0.1065 - accuracy: 0.9602 - val_loss: 0.7131 - val_accuracy: 0.8052\n",
      "Epoch 75/121\n",
      "6/6 [==============================] - 1s 167ms/step - loss: 0.1606 - accuracy: 0.9432 - val_loss: 0.8593 - val_accuracy: 0.7792\n",
      "Epoch 76/121\n",
      "6/6 [==============================] - 1s 158ms/step - loss: 0.1695 - accuracy: 0.9375 - val_loss: 0.6297 - val_accuracy: 0.8442\n",
      "Epoch 77/121\n",
      "6/6 [==============================] - 1s 202ms/step - loss: 0.0810 - accuracy: 0.9773 - val_loss: 0.8317 - val_accuracy: 0.7792\n",
      "Epoch 78/121\n",
      "6/6 [==============================] - 1s 200ms/step - loss: 0.1320 - accuracy: 0.9545 - val_loss: 0.6792 - val_accuracy: 0.7922\n",
      "Epoch 79/121\n",
      "6/6 [==============================] - 1s 163ms/step - loss: 0.1113 - accuracy: 0.9489 - val_loss: 0.8253 - val_accuracy: 0.7922\n",
      "Epoch 80/121\n",
      "6/6 [==============================] - 1s 165ms/step - loss: 0.0664 - accuracy: 0.9716 - val_loss: 0.7649 - val_accuracy: 0.8052\n",
      "Epoch 81/121\n",
      "6/6 [==============================] - 1s 172ms/step - loss: 0.0906 - accuracy: 0.9659 - val_loss: 0.7628 - val_accuracy: 0.8052\n",
      "Epoch 82/121\n",
      "6/6 [==============================] - 1s 212ms/step - loss: 0.0708 - accuracy: 0.9830 - val_loss: 0.8736 - val_accuracy: 0.7922\n",
      "Epoch 83/121\n",
      "6/6 [==============================] - 1s 176ms/step - loss: 0.0542 - accuracy: 0.9830 - val_loss: 0.8777 - val_accuracy: 0.8182\n",
      "Epoch 84/121\n",
      "6/6 [==============================] - 1s 176ms/step - loss: 0.0973 - accuracy: 0.9602 - val_loss: 0.7534 - val_accuracy: 0.8052\n",
      "Epoch 85/121\n",
      "6/6 [==============================] - 1s 177ms/step - loss: 0.0562 - accuracy: 0.9830 - val_loss: 1.0082 - val_accuracy: 0.7922\n",
      "Epoch 86/121\n",
      "6/6 [==============================] - 1s 171ms/step - loss: 0.0429 - accuracy: 0.9943 - val_loss: 1.0475 - val_accuracy: 0.7922\n",
      "Epoch 87/121\n",
      "6/6 [==============================] - 1s 226ms/step - loss: 0.0794 - accuracy: 0.9716 - val_loss: 0.9461 - val_accuracy: 0.8052\n",
      "Epoch 88/121\n",
      "6/6 [==============================] - 1s 168ms/step - loss: 0.0594 - accuracy: 0.9886 - val_loss: 0.8792 - val_accuracy: 0.8182\n",
      "Epoch 89/121\n",
      "6/6 [==============================] - 1s 165ms/step - loss: 0.0594 - accuracy: 0.9886 - val_loss: 1.0209 - val_accuracy: 0.7922\n",
      "Epoch 90/121\n",
      "6/6 [==============================] - 1s 169ms/step - loss: 0.0698 - accuracy: 0.9716 - val_loss: 0.9538 - val_accuracy: 0.7792\n",
      "Epoch 91/121\n",
      "6/6 [==============================] - 1s 160ms/step - loss: 0.0981 - accuracy: 0.9602 - val_loss: 0.9809 - val_accuracy: 0.8052\n",
      "Epoch 92/121\n",
      "6/6 [==============================] - 1s 217ms/step - loss: 0.1113 - accuracy: 0.9545 - val_loss: 1.0942 - val_accuracy: 0.7403\n",
      "Epoch 93/121\n",
      "6/6 [==============================] - 1s 172ms/step - loss: 0.0712 - accuracy: 0.9773 - val_loss: 0.8404 - val_accuracy: 0.7792\n",
      "Epoch 94/121\n",
      "6/6 [==============================] - 1s 201ms/step - loss: 0.0992 - accuracy: 0.9545 - val_loss: 1.1997 - val_accuracy: 0.7662\n",
      "Epoch 95/121\n",
      "6/6 [==============================] - 1s 209ms/step - loss: 0.0948 - accuracy: 0.9659 - val_loss: 1.0872 - val_accuracy: 0.7532\n",
      "Epoch 96/121\n",
      "6/6 [==============================] - 1s 248ms/step - loss: 0.0778 - accuracy: 0.9716 - val_loss: 1.1994 - val_accuracy: 0.7662\n",
      "Epoch 97/121\n",
      "6/6 [==============================] - 1s 181ms/step - loss: 0.0754 - accuracy: 0.9716 - val_loss: 0.8658 - val_accuracy: 0.8182\n",
      "Epoch 98/121\n",
      "6/6 [==============================] - 1s 172ms/step - loss: 0.0639 - accuracy: 0.9659 - val_loss: 1.0652 - val_accuracy: 0.7792\n",
      "Epoch 99/121\n",
      "6/6 [==============================] - 1s 162ms/step - loss: 0.0467 - accuracy: 0.9886 - val_loss: 1.0077 - val_accuracy: 0.7792\n",
      "Epoch 100/121\n",
      "6/6 [==============================] - 1s 185ms/step - loss: 0.0566 - accuracy: 0.9830 - val_loss: 1.1246 - val_accuracy: 0.7532\n",
      "Epoch 101/121\n",
      "6/6 [==============================] - 1s 218ms/step - loss: 0.0581 - accuracy: 0.9830 - val_loss: 1.2924 - val_accuracy: 0.7792\n",
      "Epoch 102/121\n",
      "6/6 [==============================] - 1s 181ms/step - loss: 0.0265 - accuracy: 1.0000 - val_loss: 1.2149 - val_accuracy: 0.7792\n",
      "Epoch 103/121\n",
      "6/6 [==============================] - 1s 176ms/step - loss: 0.0450 - accuracy: 0.9886 - val_loss: 1.2373 - val_accuracy: 0.7792\n",
      "Epoch 104/121\n",
      "6/6 [==============================] - 1s 174ms/step - loss: 0.0211 - accuracy: 1.0000 - val_loss: 1.2580 - val_accuracy: 0.7792\n",
      "Epoch 105/121\n",
      "6/6 [==============================] - 1s 195ms/step - loss: 0.0428 - accuracy: 0.9886 - val_loss: 1.4787 - val_accuracy: 0.7792\n",
      "Epoch 106/121\n",
      "6/6 [==============================] - 1s 200ms/step - loss: 0.0672 - accuracy: 0.9773 - val_loss: 1.1076 - val_accuracy: 0.7792\n",
      "Epoch 107/121\n",
      "6/6 [==============================] - 1s 173ms/step - loss: 0.0750 - accuracy: 0.9602 - val_loss: 1.4092 - val_accuracy: 0.7662\n",
      "Epoch 108/121\n",
      "6/6 [==============================] - 1s 170ms/step - loss: 0.0853 - accuracy: 0.9659 - val_loss: 1.1170 - val_accuracy: 0.7403\n",
      "Epoch 109/121\n",
      "6/6 [==============================] - 1s 175ms/step - loss: 0.1067 - accuracy: 0.9432 - val_loss: 1.4244 - val_accuracy: 0.7662\n",
      "Epoch 110/121\n",
      "6/6 [==============================] - 1s 234ms/step - loss: 0.1407 - accuracy: 0.9318 - val_loss: 1.0564 - val_accuracy: 0.7792\n",
      "Epoch 111/121\n",
      "6/6 [==============================] - 1s 188ms/step - loss: 0.1046 - accuracy: 0.9545 - val_loss: 1.2278 - val_accuracy: 0.7792\n",
      "Epoch 112/121\n",
      "6/6 [==============================] - 1s 174ms/step - loss: 0.0681 - accuracy: 0.9830 - val_loss: 0.9461 - val_accuracy: 0.7792\n",
      "Epoch 113/121\n",
      "6/6 [==============================] - 1s 169ms/step - loss: 0.0658 - accuracy: 0.9602 - val_loss: 1.1008 - val_accuracy: 0.8052\n",
      "Epoch 114/121\n",
      "6/6 [==============================] - 1s 190ms/step - loss: 0.0562 - accuracy: 0.9773 - val_loss: 1.2640 - val_accuracy: 0.7922\n",
      "Epoch 115/121\n",
      "6/6 [==============================] - 1s 250ms/step - loss: 0.0210 - accuracy: 1.0000 - val_loss: 1.1323 - val_accuracy: 0.7922\n",
      "Epoch 116/121\n"
     ]
    },
    {
     "name": "stdout",
     "output_type": "stream",
     "text": [
      "6/6 [==============================] - 1s 191ms/step - loss: 0.0290 - accuracy: 0.9943 - val_loss: 1.2852 - val_accuracy: 0.7922\n",
      "Epoch 117/121\n",
      "6/6 [==============================] - 1s 212ms/step - loss: 0.0665 - accuracy: 0.9830 - val_loss: 1.3857 - val_accuracy: 0.7922\n",
      "Epoch 118/121\n",
      "6/6 [==============================] - 1s 175ms/step - loss: 0.0441 - accuracy: 0.9830 - val_loss: 1.1865 - val_accuracy: 0.7792\n",
      "Epoch 119/121\n",
      "6/6 [==============================] - 1s 227ms/step - loss: 0.0368 - accuracy: 0.9943 - val_loss: 1.5961 - val_accuracy: 0.7532\n",
      "Epoch 120/121\n",
      "6/6 [==============================] - 1s 178ms/step - loss: 0.0217 - accuracy: 1.0000 - val_loss: 1.1997 - val_accuracy: 0.7922\n",
      "Epoch 121/121\n",
      "6/6 [==============================] - 1s 167ms/step - loss: 0.0430 - accuracy: 0.9830 - val_loss: 1.2547 - val_accuracy: 0.7922\n"
     ]
    },
    {
     "data": {
      "text/plain": [
       "<tensorflow.python.keras.callbacks.History at 0x222bc6538e0>"
      ]
     },
     "execution_count": 12,
     "metadata": {},
     "output_type": "execute_result"
    }
   ],
   "source": [
    "cnn.fit(x = training_set, epochs = 121 ,validation_data=test_set)"
   ]
  },
  {
   "cell_type": "markdown",
   "metadata": {},
   "source": [
    "### Train accuracy"
   ]
  },
  {
   "cell_type": "code",
   "execution_count": 13,
   "metadata": {
    "execution": {
     "iopub.execute_input": "2021-05-20T10:51:09.133968Z",
     "iopub.status.busy": "2021-05-20T10:51:09.133643Z",
     "iopub.status.idle": "2021-05-20T10:51:10.142262Z",
     "shell.execute_reply": "2021-05-20T10:51:10.141364Z",
     "shell.execute_reply.started": "2021-05-20T10:51:09.133938Z"
    }
   },
   "outputs": [
    {
     "name": "stdout",
     "output_type": "stream",
     "text": [
      "6/6 [==============================] - 1s 115ms/step - loss: 0.0330 - accuracy: 0.9886\n"
     ]
    },
    {
     "data": {
      "text/plain": [
       "[0.032998401671648026, 0.9886363744735718]"
      ]
     },
     "execution_count": 13,
     "metadata": {},
     "output_type": "execute_result"
    }
   ],
   "source": [
    "cnn.evaluate(training_set)"
   ]
  },
  {
   "cell_type": "markdown",
   "metadata": {
    "execution": {
     "iopub.execute_input": "2021-05-20T10:52:21.412908Z",
     "iopub.status.busy": "2021-05-20T10:52:21.412575Z",
     "iopub.status.idle": "2021-05-20T10:52:21.416845Z",
     "shell.execute_reply": "2021-05-20T10:52:21.415840Z",
     "shell.execute_reply.started": "2021-05-20T10:52:21.412877Z"
    }
   },
   "source": [
    "### Test accuracy "
   ]
  },
  {
   "cell_type": "code",
   "execution_count": 14,
   "metadata": {
    "execution": {
     "iopub.execute_input": "2021-05-20T10:52:43.661824Z",
     "iopub.status.busy": "2021-05-20T10:52:43.661450Z",
     "iopub.status.idle": "2021-05-20T10:52:43.951190Z",
     "shell.execute_reply": "2021-05-20T10:52:43.950446Z",
     "shell.execute_reply.started": "2021-05-20T10:52:43.661792Z"
    }
   },
   "outputs": [
    {
     "name": "stdout",
     "output_type": "stream",
     "text": [
      "3/3 [==============================] - 0s 48ms/step - loss: 1.2547 - accuracy: 0.7922\n"
     ]
    },
    {
     "data": {
      "text/plain": [
       "[1.2546982765197754, 0.7922077775001526]"
      ]
     },
     "execution_count": 14,
     "metadata": {},
     "output_type": "execute_result"
    }
   ],
   "source": [
    "cnn.evaluate(test_set)"
   ]
  },
  {
   "cell_type": "code",
   "execution_count": null,
   "metadata": {},
   "outputs": [],
   "source": []
  },
  {
   "cell_type": "code",
   "execution_count": null,
   "metadata": {},
   "outputs": [],
   "source": []
  },
  {
   "cell_type": "code",
   "execution_count": null,
   "metadata": {},
   "outputs": [],
   "source": []
  },
  {
   "cell_type": "code",
   "execution_count": null,
   "metadata": {},
   "outputs": [],
   "source": []
  },
  {
   "cell_type": "code",
   "execution_count": null,
   "metadata": {},
   "outputs": [],
   "source": []
  },
  {
   "cell_type": "markdown",
   "metadata": {
    "id": "U3PZasO0006Z"
   },
   "source": [
    "## Part 4 - Making single predictions"
   ]
  },
  {
   "cell_type": "code",
   "execution_count": 15,
   "metadata": {
    "execution": {
     "iopub.execute_input": "2021-05-20T10:27:49.498521Z",
     "iopub.status.busy": "2021-05-20T10:27:49.498191Z",
     "iopub.status.idle": "2021-05-20T10:27:49.547436Z",
     "shell.execute_reply": "2021-05-20T10:27:49.546585Z",
     "shell.execute_reply.started": "2021-05-20T10:27:49.498471Z"
    },
    "id": "gsSiWEJY1BPB"
   },
   "outputs": [
    {
     "ename": "FileNotFoundError",
     "evalue": "[Errno 2] No such file or directory: 'brain_tumor_dataset_splitted1/val/no/46 no.jpg'",
     "output_type": "error",
     "traceback": [
      "\u001b[1;31m---------------------------------------------------------------------------\u001b[0m",
      "\u001b[1;31mFileNotFoundError\u001b[0m                         Traceback (most recent call last)",
      "\u001b[1;32m<ipython-input-15-97936918b0da>\u001b[0m in \u001b[0;36m<module>\u001b[1;34m\u001b[0m\n\u001b[0;32m      4\u001b[0m \u001b[1;33m\u001b[0m\u001b[0m\n\u001b[0;32m      5\u001b[0m \u001b[1;32mfrom\u001b[0m \u001b[0mIPython\u001b[0m\u001b[1;33m.\u001b[0m\u001b[0mdisplay\u001b[0m \u001b[1;32mimport\u001b[0m \u001b[0mdisplay\u001b[0m\u001b[1;33m,\u001b[0m \u001b[0mImage\u001b[0m\u001b[1;33m\u001b[0m\u001b[1;33m\u001b[0m\u001b[0m\n\u001b[1;32m----> 6\u001b[1;33m \u001b[0mdisplay\u001b[0m\u001b[1;33m(\u001b[0m\u001b[0mImage\u001b[0m\u001b[1;33m(\u001b[0m\u001b[0mfilename\u001b[0m\u001b[1;33m=\u001b[0m\u001b[1;34m'brain_tumor_dataset_splitted1/val/no/46 no.jpg'\u001b[0m\u001b[1;33m)\u001b[0m\u001b[1;33m)\u001b[0m\u001b[1;33m\u001b[0m\u001b[1;33m\u001b[0m\u001b[0m\n\u001b[0m\u001b[0;32m      7\u001b[0m \u001b[0mtest_image\u001b[0m \u001b[1;33m=\u001b[0m \u001b[0mimage\u001b[0m\u001b[1;33m.\u001b[0m\u001b[0mload_img\u001b[0m\u001b[1;33m(\u001b[0m\u001b[1;34m'brain_tumor_dataset_splitted1/val/no/46 no.jpg'\u001b[0m\u001b[1;33m,\u001b[0m \u001b[0mtarget_size\u001b[0m \u001b[1;33m=\u001b[0m \u001b[1;33m(\u001b[0m\u001b[1;36m64\u001b[0m\u001b[1;33m,\u001b[0m \u001b[1;36m64\u001b[0m\u001b[1;33m)\u001b[0m\u001b[1;33m)\u001b[0m\u001b[1;33m\u001b[0m\u001b[1;33m\u001b[0m\u001b[0m\n\u001b[0;32m      8\u001b[0m \u001b[0mtest_image\u001b[0m \u001b[1;33m=\u001b[0m \u001b[0mimage\u001b[0m\u001b[1;33m.\u001b[0m\u001b[0mimg_to_array\u001b[0m\u001b[1;33m(\u001b[0m\u001b[0mtest_image\u001b[0m\u001b[1;33m)\u001b[0m\u001b[1;33m\u001b[0m\u001b[1;33m\u001b[0m\u001b[0m\n",
      "\u001b[1;32m~\\anaconda3\\lib\\site-packages\\IPython\\core\\display.py\u001b[0m in \u001b[0;36m__init__\u001b[1;34m(self, data, url, filename, format, embed, width, height, retina, unconfined, metadata)\u001b[0m\n\u001b[0;32m   1222\u001b[0m         \u001b[0mself\u001b[0m\u001b[1;33m.\u001b[0m\u001b[0mretina\u001b[0m \u001b[1;33m=\u001b[0m \u001b[0mretina\u001b[0m\u001b[1;33m\u001b[0m\u001b[1;33m\u001b[0m\u001b[0m\n\u001b[0;32m   1223\u001b[0m         \u001b[0mself\u001b[0m\u001b[1;33m.\u001b[0m\u001b[0munconfined\u001b[0m \u001b[1;33m=\u001b[0m \u001b[0munconfined\u001b[0m\u001b[1;33m\u001b[0m\u001b[1;33m\u001b[0m\u001b[0m\n\u001b[1;32m-> 1224\u001b[1;33m         super(Image, self).__init__(data=data, url=url, filename=filename, \n\u001b[0m\u001b[0;32m   1225\u001b[0m                 metadata=metadata)\n\u001b[0;32m   1226\u001b[0m \u001b[1;33m\u001b[0m\u001b[0m\n",
      "\u001b[1;32m~\\anaconda3\\lib\\site-packages\\IPython\\core\\display.py\u001b[0m in \u001b[0;36m__init__\u001b[1;34m(self, data, url, filename, metadata)\u001b[0m\n\u001b[0;32m    628\u001b[0m             \u001b[0mself\u001b[0m\u001b[1;33m.\u001b[0m\u001b[0mmetadata\u001b[0m \u001b[1;33m=\u001b[0m \u001b[1;33m{\u001b[0m\u001b[1;33m}\u001b[0m\u001b[1;33m\u001b[0m\u001b[1;33m\u001b[0m\u001b[0m\n\u001b[0;32m    629\u001b[0m \u001b[1;33m\u001b[0m\u001b[0m\n\u001b[1;32m--> 630\u001b[1;33m         \u001b[0mself\u001b[0m\u001b[1;33m.\u001b[0m\u001b[0mreload\u001b[0m\u001b[1;33m(\u001b[0m\u001b[1;33m)\u001b[0m\u001b[1;33m\u001b[0m\u001b[1;33m\u001b[0m\u001b[0m\n\u001b[0m\u001b[0;32m    631\u001b[0m         \u001b[0mself\u001b[0m\u001b[1;33m.\u001b[0m\u001b[0m_check_data\u001b[0m\u001b[1;33m(\u001b[0m\u001b[1;33m)\u001b[0m\u001b[1;33m\u001b[0m\u001b[1;33m\u001b[0m\u001b[0m\n\u001b[0;32m    632\u001b[0m \u001b[1;33m\u001b[0m\u001b[0m\n",
      "\u001b[1;32m~\\anaconda3\\lib\\site-packages\\IPython\\core\\display.py\u001b[0m in \u001b[0;36mreload\u001b[1;34m(self)\u001b[0m\n\u001b[0;32m   1254\u001b[0m         \u001b[1;34m\"\"\"Reload the raw data from file or URL.\"\"\"\u001b[0m\u001b[1;33m\u001b[0m\u001b[1;33m\u001b[0m\u001b[0m\n\u001b[0;32m   1255\u001b[0m         \u001b[1;32mif\u001b[0m \u001b[0mself\u001b[0m\u001b[1;33m.\u001b[0m\u001b[0membed\u001b[0m\u001b[1;33m:\u001b[0m\u001b[1;33m\u001b[0m\u001b[1;33m\u001b[0m\u001b[0m\n\u001b[1;32m-> 1256\u001b[1;33m             \u001b[0msuper\u001b[0m\u001b[1;33m(\u001b[0m\u001b[0mImage\u001b[0m\u001b[1;33m,\u001b[0m\u001b[0mself\u001b[0m\u001b[1;33m)\u001b[0m\u001b[1;33m.\u001b[0m\u001b[0mreload\u001b[0m\u001b[1;33m(\u001b[0m\u001b[1;33m)\u001b[0m\u001b[1;33m\u001b[0m\u001b[1;33m\u001b[0m\u001b[0m\n\u001b[0m\u001b[0;32m   1257\u001b[0m             \u001b[1;32mif\u001b[0m \u001b[0mself\u001b[0m\u001b[1;33m.\u001b[0m\u001b[0mretina\u001b[0m\u001b[1;33m:\u001b[0m\u001b[1;33m\u001b[0m\u001b[1;33m\u001b[0m\u001b[0m\n\u001b[0;32m   1258\u001b[0m                 \u001b[0mself\u001b[0m\u001b[1;33m.\u001b[0m\u001b[0m_retina_shape\u001b[0m\u001b[1;33m(\u001b[0m\u001b[1;33m)\u001b[0m\u001b[1;33m\u001b[0m\u001b[1;33m\u001b[0m\u001b[0m\n",
      "\u001b[1;32m~\\anaconda3\\lib\\site-packages\\IPython\\core\\display.py\u001b[0m in \u001b[0;36mreload\u001b[1;34m(self)\u001b[0m\n\u001b[0;32m    653\u001b[0m         \u001b[1;34m\"\"\"Reload the raw data from file or URL.\"\"\"\u001b[0m\u001b[1;33m\u001b[0m\u001b[1;33m\u001b[0m\u001b[0m\n\u001b[0;32m    654\u001b[0m         \u001b[1;32mif\u001b[0m \u001b[0mself\u001b[0m\u001b[1;33m.\u001b[0m\u001b[0mfilename\u001b[0m \u001b[1;32mis\u001b[0m \u001b[1;32mnot\u001b[0m \u001b[1;32mNone\u001b[0m\u001b[1;33m:\u001b[0m\u001b[1;33m\u001b[0m\u001b[1;33m\u001b[0m\u001b[0m\n\u001b[1;32m--> 655\u001b[1;33m             \u001b[1;32mwith\u001b[0m \u001b[0mopen\u001b[0m\u001b[1;33m(\u001b[0m\u001b[0mself\u001b[0m\u001b[1;33m.\u001b[0m\u001b[0mfilename\u001b[0m\u001b[1;33m,\u001b[0m \u001b[0mself\u001b[0m\u001b[1;33m.\u001b[0m\u001b[0m_read_flags\u001b[0m\u001b[1;33m)\u001b[0m \u001b[1;32mas\u001b[0m \u001b[0mf\u001b[0m\u001b[1;33m:\u001b[0m\u001b[1;33m\u001b[0m\u001b[1;33m\u001b[0m\u001b[0m\n\u001b[0m\u001b[0;32m    656\u001b[0m                 \u001b[0mself\u001b[0m\u001b[1;33m.\u001b[0m\u001b[0mdata\u001b[0m \u001b[1;33m=\u001b[0m \u001b[0mf\u001b[0m\u001b[1;33m.\u001b[0m\u001b[0mread\u001b[0m\u001b[1;33m(\u001b[0m\u001b[1;33m)\u001b[0m\u001b[1;33m\u001b[0m\u001b[1;33m\u001b[0m\u001b[0m\n\u001b[0;32m    657\u001b[0m         \u001b[1;32melif\u001b[0m \u001b[0mself\u001b[0m\u001b[1;33m.\u001b[0m\u001b[0murl\u001b[0m \u001b[1;32mis\u001b[0m \u001b[1;32mnot\u001b[0m \u001b[1;32mNone\u001b[0m\u001b[1;33m:\u001b[0m\u001b[1;33m\u001b[0m\u001b[1;33m\u001b[0m\u001b[0m\n",
      "\u001b[1;31mFileNotFoundError\u001b[0m: [Errno 2] No such file or directory: 'brain_tumor_dataset_splitted1/val/no/46 no.jpg'"
     ]
    }
   ],
   "source": [
    "import numpy as np\n",
    "from tensorflow.keras.preprocessing import image\n",
    "\n",
    "\n",
    "from IPython.display import display, Image\n",
    "display(Image(filename='brain_tumor_dataset_splitted1/val/no/46 no.jpg'))\n",
    "test_image = image.load_img('brain_tumor_dataset_splitted1/val/no/46 no.jpg', target_size = (64, 64))\n",
    "test_image = image.img_to_array(test_image)\n",
    "test_image = np.expand_dims(test_image, axis = 0)\n",
    "result = cnn.predict(test_image)\n",
    "if result[0][0] == 1:\n",
    "  prediction = 'Yes'\n",
    "else:\n",
    "  prediction = 'No'\n",
    "\n",
    "print(\"Actual: No\")\n",
    "print(\"Predicted:\", prediction)"
   ]
  },
  {
   "cell_type": "code",
   "execution_count": null,
   "metadata": {
    "execution": {
     "iopub.execute_input": "2021-05-20T10:27:57.620664Z",
     "iopub.status.busy": "2021-05-20T10:27:57.620283Z",
     "iopub.status.idle": "2021-05-20T10:27:57.670827Z",
     "shell.execute_reply": "2021-05-20T10:27:57.669770Z",
     "shell.execute_reply.started": "2021-05-20T10:27:57.620628Z"
    }
   },
   "outputs": [],
   "source": [
    "import numpy as np\n",
    "from tensorflow.keras.preprocessing import image\n",
    "\n",
    "\n",
    "from IPython.display import display, Image\n",
    "display(Image(filename='brain_tumor_dataset_splitted1/val/yes/Y147.JPG'))\n",
    "test_image = image.load_img('brain_tumor_dataset_splitted1/val/yes/Y147.JPG', target_size = (64, 64))\n",
    "test_image = image.img_to_array(test_image)\n",
    "test_image = np.expand_dims(test_image, axis = 0)\n",
    "result = cnn.predict(test_image)\n",
    "training_set.class_indices\n",
    "if result[0][0] == 1:\n",
    "  prediction = 'Yes'\n",
    "else:\n",
    "  prediction = 'No'\n",
    "\n",
    "print(\"Actual: Yes\")\n",
    "print(\"Predicted:\", prediction)"
   ]
  }
 ],
 "metadata": {
  "kernelspec": {
   "display_name": "Python 3",
   "language": "python",
   "name": "python3"
  },
  "language_info": {
   "codemirror_mode": {
    "name": "ipython",
    "version": 3
   },
   "file_extension": ".py",
   "mimetype": "text/x-python",
   "name": "python",
   "nbconvert_exporter": "python",
   "pygments_lexer": "ipython3",
   "version": "3.8.3"
  }
 },
 "nbformat": 4,
 "nbformat_minor": 4
}
