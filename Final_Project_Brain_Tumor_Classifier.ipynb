{
 "cells": [
  {
   "cell_type": "code",
   "execution_count": 1,
   "metadata": {
    "execution": {
     "iopub.execute_input": "2021-05-20T10:17:49.287680Z",
     "iopub.status.busy": "2021-05-20T10:17:49.287371Z",
     "iopub.status.idle": "2021-05-20T10:17:54.213405Z",
     "shell.execute_reply": "2021-05-20T10:17:54.212588Z",
     "shell.execute_reply.started": "2021-05-20T10:17:49.287615Z"
    },
    "id": "sCV30xyVhFbE"
   },
   "outputs": [],
   "source": [
    "import tensorflow as tf\n",
    "import numpy as np\n",
    "from tensorflow.keras.preprocessing.image import ImageDataGenerator"
   ]
  },
  {
   "cell_type": "code",
   "execution_count": 2,
   "metadata": {
    "execution": {
     "iopub.execute_input": "2021-05-20T10:17:54.215195Z",
     "iopub.status.busy": "2021-05-20T10:17:54.214874Z",
     "iopub.status.idle": "2021-05-20T10:17:54.223717Z",
     "shell.execute_reply": "2021-05-20T10:17:54.222790Z",
     "shell.execute_reply.started": "2021-05-20T10:17:54.215160Z"
    },
    "id": "FIleuCAjoFD8"
   },
   "outputs": [
    {
     "data": {
      "text/plain": [
       "'2.3.1'"
      ]
     },
     "execution_count": 2,
     "metadata": {},
     "output_type": "execute_result"
    }
   ],
   "source": [
    "tf.__version__"
   ]
  },
  {
   "cell_type": "code",
   "execution_count": 3,
   "metadata": {
    "execution": {
     "iopub.execute_input": "2021-05-20T10:17:56.287758Z",
     "iopub.status.busy": "2021-05-20T10:17:56.287260Z",
     "iopub.status.idle": "2021-05-20T10:18:03.346264Z",
     "shell.execute_reply": "2021-05-20T10:18:03.345342Z",
     "shell.execute_reply.started": "2021-05-20T10:17:56.287719Z"
    }
   },
   "outputs": [
    {
     "name": "stdout",
     "output_type": "stream",
     "text": [
      "Requirement already satisfied: split-folders in c:\\users\\user\\anaconda3\\lib\\site-packages (0.4.3)\n"
     ]
    }
   ],
   "source": [
    "! pip install split-folders"
   ]
  },
  {
   "cell_type": "markdown",
   "metadata": {
    "execution": {
     "iopub.execute_input": "2021-05-20T10:23:22.047004Z",
     "iopub.status.busy": "2021-05-20T10:23:22.046682Z",
     "iopub.status.idle": "2021-05-20T10:23:22.050913Z",
     "shell.execute_reply": "2021-05-20T10:23:22.049710Z",
     "shell.execute_reply.started": "2021-05-20T10:23:22.046977Z"
    }
   },
   "source": [
    "## Easier way to split into train , test data"
   ]
  },
  {
   "cell_type": "code",
   "execution_count": 4,
   "metadata": {
    "execution": {
     "iopub.execute_input": "2021-05-20T10:35:25.664885Z",
     "iopub.status.busy": "2021-05-20T10:35:25.664566Z",
     "iopub.status.idle": "2021-05-20T10:35:25.845214Z",
     "shell.execute_reply": "2021-05-20T10:35:25.844340Z",
     "shell.execute_reply.started": "2021-05-20T10:35:25.664859Z"
    }
   },
   "outputs": [
    {
     "name": "stderr",
     "output_type": "stream",
     "text": [
      "Copying files: 253 files [00:00, 936.55 files/s]\n"
     ]
    }
   ],
   "source": [
    "import splitfolders\n",
    "\n",
    "# train, test split\n",
    "splitfolders.ratio('./data/brain_tumor_dataset/', output=\"./data/brain_tumor_dataset_split\", ratio=(0.7, 0.3))"
   ]
  },
  {
   "cell_type": "markdown",
   "metadata": {
    "id": "oxQxCBWyoGPE"
   },
   "source": [
    "## Part 1 - Data Preprocessing"
   ]
  },
  {
   "cell_type": "markdown",
   "metadata": {
    "id": "MvE-heJNo3GG"
   },
   "source": [
    "### Preprocessing the Training set"
   ]
  },
  {
   "cell_type": "code",
   "execution_count": 5,
   "metadata": {
    "execution": {
     "iopub.execute_input": "2021-05-20T10:35:29.379448Z",
     "iopub.status.busy": "2021-05-20T10:35:29.379133Z",
     "iopub.status.idle": "2021-05-20T10:35:29.488698Z",
     "shell.execute_reply": "2021-05-20T10:35:29.487666Z",
     "shell.execute_reply.started": "2021-05-20T10:35:29.379419Z"
    },
    "id": "0koUcJMJpEBD"
   },
   "outputs": [
    {
     "name": "stdout",
     "output_type": "stream",
     "text": [
      "Found 176 images belonging to 2 classes.\n"
     ]
    }
   ],
   "source": [
    "train_datagen = ImageDataGenerator(rescale = 1./255,\n",
    "                                   shear_range = 0.2,\n",
    "                                   zoom_range = 0.2,\n",
    "                                   horizontal_flip = True)\n",
    "training_set = train_datagen.flow_from_directory('./data/brain_tumor_dataset_split/train',\n",
    "                                                 target_size = (64,64),\n",
    "                                                 batch_size = 32,\n",
    "                                                 class_mode = 'binary')"
   ]
  },
  {
   "cell_type": "code",
   "execution_count": 6,
   "metadata": {
    "execution": {
     "iopub.execute_input": "2021-05-20T10:35:30.851056Z",
     "iopub.status.busy": "2021-05-20T10:35:30.850649Z",
     "iopub.status.idle": "2021-05-20T10:35:30.860647Z",
     "shell.execute_reply": "2021-05-20T10:35:30.859655Z",
     "shell.execute_reply.started": "2021-05-20T10:35:30.851015Z"
    }
   },
   "outputs": [
    {
     "data": {
      "text/plain": [
       "{'no': 0, 'yes': 1}"
      ]
     },
     "execution_count": 6,
     "metadata": {},
     "output_type": "execute_result"
    }
   ],
   "source": [
    "training_set.class_indices"
   ]
  },
  {
   "cell_type": "code",
   "execution_count": 7,
   "metadata": {
    "execution": {
     "iopub.execute_input": "2021-05-20T10:35:32.169935Z",
     "iopub.status.busy": "2021-05-20T10:35:32.169625Z",
     "iopub.status.idle": "2021-05-20T10:35:32.174754Z",
     "shell.execute_reply": "2021-05-20T10:35:32.173909Z",
     "shell.execute_reply.started": "2021-05-20T10:35:32.169906Z"
    }
   },
   "outputs": [
    {
     "name": "stdout",
     "output_type": "stream",
     "text": [
      "Yes: 108\n",
      "No: 68\n"
     ]
    }
   ],
   "source": [
    "yes=np.count_nonzero(training_set.classes)\n",
    "print(\"Yes:\",yes)\n",
    "print(\"No:\",176-yes)"
   ]
  },
  {
   "cell_type": "markdown",
   "metadata": {
    "id": "mrCMmGw9pHys"
   },
   "source": [
    "### Preprocessing the Test set"
   ]
  },
  {
   "cell_type": "code",
   "execution_count": 8,
   "metadata": {
    "execution": {
     "iopub.execute_input": "2021-05-20T10:35:55.734218Z",
     "iopub.status.busy": "2021-05-20T10:35:55.733894Z",
     "iopub.status.idle": "2021-05-20T10:35:55.843233Z",
     "shell.execute_reply": "2021-05-20T10:35:55.842391Z",
     "shell.execute_reply.started": "2021-05-20T10:35:55.734189Z"
    },
    "id": "SH4WzfOhpKc3"
   },
   "outputs": [
    {
     "name": "stdout",
     "output_type": "stream",
     "text": [
      "Found 77 images belonging to 2 classes.\n"
     ]
    }
   ],
   "source": [
    "test_datagen = ImageDataGenerator(rescale = 1./255)\n",
    "test_set = test_datagen.flow_from_directory('data/brain_tumor_dataset_split/val/',\n",
    "                                            target_size = (64, 64),\n",
    "                                            batch_size = 32,\n",
    "                                            class_mode = 'binary')"
   ]
  },
  {
   "cell_type": "code",
   "execution_count": 9,
   "metadata": {
    "execution": {
     "iopub.execute_input": "2021-05-20T10:38:00.475080Z",
     "iopub.status.busy": "2021-05-20T10:38:00.474770Z",
     "iopub.status.idle": "2021-05-20T10:38:00.480452Z",
     "shell.execute_reply": "2021-05-20T10:38:00.479332Z",
     "shell.execute_reply.started": "2021-05-20T10:38:00.475051Z"
    }
   },
   "outputs": [
    {
     "name": "stdout",
     "output_type": "stream",
     "text": [
      "Yes: 47\n",
      "No: 30\n"
     ]
    }
   ],
   "source": [
    "yes_test=np.count_nonzero(test_set.classes)\n",
    "print(\"Yes:\",yes_test)\n",
    "print(\"No:\",77-yes_test)"
   ]
  },
  {
   "cell_type": "markdown",
   "metadata": {
    "id": "af8O4l90gk7B"
   },
   "source": [
    "## Part 2 - Building the CNN"
   ]
  },
  {
   "cell_type": "markdown",
   "metadata": {
    "id": "ces1gXY2lmoX"
   },
   "source": [
    "### Initialising the CNN"
   ]
  },
  {
   "cell_type": "code",
   "execution_count": 10,
   "metadata": {
    "execution": {
     "iopub.execute_input": "2021-05-20T10:45:26.759117Z",
     "iopub.status.busy": "2021-05-20T10:45:26.758799Z",
     "iopub.status.idle": "2021-05-20T10:45:26.766068Z",
     "shell.execute_reply": "2021-05-20T10:45:26.765063Z",
     "shell.execute_reply.started": "2021-05-20T10:45:26.759087Z"
    },
    "id": "SAUt4UMPlhLS"
   },
   "outputs": [],
   "source": [
    "cnn = tf.keras.models.Sequential()"
   ]
  },
  {
   "cell_type": "markdown",
   "metadata": {
    "id": "u5YJj_XMl5LF"
   },
   "source": [
    "### Step 1 - Convolution"
   ]
  },
  {
   "cell_type": "code",
   "execution_count": 11,
   "metadata": {
    "execution": {
     "iopub.execute_input": "2021-05-20T10:45:27.185070Z",
     "iopub.status.busy": "2021-05-20T10:45:27.184809Z",
     "iopub.status.idle": "2021-05-20T10:45:27.199831Z",
     "shell.execute_reply": "2021-05-20T10:45:27.199036Z",
     "shell.execute_reply.started": "2021-05-20T10:45:27.185039Z"
    },
    "id": "XPzPrMckl-hV"
   },
   "outputs": [],
   "source": [
    "cnn.add(tf.keras.layers.Conv2D(filters=32, kernel_size=7, activation='relu', input_shape=[64,64,3]))"
   ]
  },
  {
   "cell_type": "markdown",
   "metadata": {
    "id": "tf87FpvxmNOJ"
   },
   "source": [
    "### Step 2 - Pooling"
   ]
  },
  {
   "cell_type": "code",
   "execution_count": 12,
   "metadata": {
    "execution": {
     "iopub.execute_input": "2021-05-20T10:45:28.138801Z",
     "iopub.status.busy": "2021-05-20T10:45:28.138524Z",
     "iopub.status.idle": "2021-05-20T10:45:28.146863Z",
     "shell.execute_reply": "2021-05-20T10:45:28.146039Z",
     "shell.execute_reply.started": "2021-05-20T10:45:28.138776Z"
    },
    "id": "ncpqPl69mOac"
   },
   "outputs": [],
   "source": [
    "cnn.add(tf.keras.layers.MaxPool2D(pool_size=2, strides=2))"
   ]
  },
  {
   "cell_type": "markdown",
   "metadata": {
    "id": "xaTOgD8rm4mU"
   },
   "source": [
    "### Adding a second convolutional layer"
   ]
  },
  {
   "cell_type": "code",
   "execution_count": 13,
   "metadata": {
    "execution": {
     "iopub.execute_input": "2021-05-20T10:45:29.060137Z",
     "iopub.status.busy": "2021-05-20T10:45:29.059806Z",
     "iopub.status.idle": "2021-05-20T10:45:29.077638Z",
     "shell.execute_reply": "2021-05-20T10:45:29.076834Z",
     "shell.execute_reply.started": "2021-05-20T10:45:29.060107Z"
    },
    "id": "i_-FZjn_m8gk"
   },
   "outputs": [],
   "source": [
    "cnn.add(tf.keras.layers.Conv2D(filters=32, kernel_size=3, activation='relu'))\n",
    "cnn.add(tf.keras.layers.MaxPool2D(pool_size=2, strides=2))"
   ]
  },
  {
   "cell_type": "markdown",
   "metadata": {
    "id": "tmiEuvTunKfk"
   },
   "source": [
    "### Step 3 - Flattening"
   ]
  },
  {
   "cell_type": "code",
   "execution_count": 14,
   "metadata": {
    "execution": {
     "iopub.execute_input": "2021-05-20T10:45:31.311843Z",
     "iopub.status.busy": "2021-05-20T10:45:31.311480Z",
     "iopub.status.idle": "2021-05-20T10:45:31.321127Z",
     "shell.execute_reply": "2021-05-20T10:45:31.320324Z",
     "shell.execute_reply.started": "2021-05-20T10:45:31.311814Z"
    },
    "id": "6AZeOGCvnNZn"
   },
   "outputs": [],
   "source": [
    "cnn.add(tf.keras.layers.Flatten())"
   ]
  },
  {
   "cell_type": "markdown",
   "metadata": {
    "id": "dAoSECOm203v"
   },
   "source": [
    "### Step 4 - Full Connection"
   ]
  },
  {
   "cell_type": "code",
   "execution_count": 15,
   "metadata": {
    "execution": {
     "iopub.execute_input": "2021-05-20T10:45:38.282457Z",
     "iopub.status.busy": "2021-05-20T10:45:38.282142Z",
     "iopub.status.idle": "2021-05-20T10:45:38.296429Z",
     "shell.execute_reply": "2021-05-20T10:45:38.295615Z",
     "shell.execute_reply.started": "2021-05-20T10:45:38.282426Z"
    },
    "id": "8GtmUlLd26Nq"
   },
   "outputs": [],
   "source": [
    "cnn.add(tf.keras.layers.Dense(units=128, activation='relu'))"
   ]
  },
  {
   "cell_type": "markdown",
   "metadata": {
    "id": "yTldFvbX28Na"
   },
   "source": [
    "### Step 5 - Output Layer"
   ]
  },
  {
   "cell_type": "code",
   "execution_count": 16,
   "metadata": {
    "execution": {
     "iopub.execute_input": "2021-05-20T10:45:39.420989Z",
     "iopub.status.busy": "2021-05-20T10:45:39.420706Z",
     "iopub.status.idle": "2021-05-20T10:45:39.434575Z",
     "shell.execute_reply": "2021-05-20T10:45:39.433773Z",
     "shell.execute_reply.started": "2021-05-20T10:45:39.420962Z"
    },
    "id": "1p_Zj1Mc3Ko_"
   },
   "outputs": [],
   "source": [
    "cnn.add(tf.keras.layers.Dense(units=1, activation='sigmoid'))"
   ]
  },
  {
   "cell_type": "markdown",
   "metadata": {
    "id": "D6XkI90snSDl"
   },
   "source": [
    "## Part 3 - Training the CNN"
   ]
  },
  {
   "cell_type": "markdown",
   "metadata": {
    "id": "vfrFQACEnc6i"
   },
   "source": [
    "### Compiling the CNN"
   ]
  },
  {
   "cell_type": "code",
   "execution_count": 17,
   "metadata": {
    "execution": {
     "iopub.execute_input": "2021-05-20T10:45:41.155820Z",
     "iopub.status.busy": "2021-05-20T10:45:41.155462Z",
     "iopub.status.idle": "2021-05-20T10:45:41.166770Z",
     "shell.execute_reply": "2021-05-20T10:45:41.165689Z",
     "shell.execute_reply.started": "2021-05-20T10:45:41.155791Z"
    },
    "id": "NALksrNQpUlJ"
   },
   "outputs": [],
   "source": [
    "cnn.compile(optimizer = 'adam', loss = 'binary_crossentropy', metrics = ['accuracy'])"
   ]
  },
  {
   "cell_type": "markdown",
   "metadata": {},
   "source": [
    "### Summary of the model"
   ]
  },
  {
   "cell_type": "code",
   "execution_count": 18,
   "metadata": {
    "execution": {
     "iopub.execute_input": "2021-05-20T10:45:42.985752Z",
     "iopub.status.busy": "2021-05-20T10:45:42.985421Z",
     "iopub.status.idle": "2021-05-20T10:45:42.995821Z",
     "shell.execute_reply": "2021-05-20T10:45:42.995001Z",
     "shell.execute_reply.started": "2021-05-20T10:45:42.985721Z"
    }
   },
   "outputs": [
    {
     "name": "stdout",
     "output_type": "stream",
     "text": [
      "Model: \"sequential\"\n",
      "_________________________________________________________________\n",
      "Layer (type)                 Output Shape              Param #   \n",
      "=================================================================\n",
      "conv2d (Conv2D)              (None, 58, 58, 32)        4736      \n",
      "_________________________________________________________________\n",
      "max_pooling2d (MaxPooling2D) (None, 29, 29, 32)        0         \n",
      "_________________________________________________________________\n",
      "conv2d_1 (Conv2D)            (None, 27, 27, 32)        9248      \n",
      "_________________________________________________________________\n",
      "max_pooling2d_1 (MaxPooling2 (None, 13, 13, 32)        0         \n",
      "_________________________________________________________________\n",
      "flatten (Flatten)            (None, 5408)              0         \n",
      "_________________________________________________________________\n",
      "dense (Dense)                (None, 128)               692352    \n",
      "_________________________________________________________________\n",
      "dense_1 (Dense)              (None, 1)                 129       \n",
      "=================================================================\n",
      "Total params: 706,465\n",
      "Trainable params: 706,465\n",
      "Non-trainable params: 0\n",
      "_________________________________________________________________\n"
     ]
    }
   ],
   "source": [
    "cnn.summary()"
   ]
  },
  {
   "cell_type": "markdown",
   "metadata": {
    "id": "ehS-v3MIpX2h"
   },
   "source": [
    "### Training the CNN on the Training set and evaluating it on the Test set"
   ]
  },
  {
   "cell_type": "code",
   "execution_count": 19,
   "metadata": {
    "execution": {
     "iopub.execute_input": "2021-05-20T10:45:44.161794Z",
     "iopub.status.busy": "2021-05-20T10:45:44.161453Z",
     "iopub.status.idle": "2021-05-20T10:47:23.628600Z",
     "shell.execute_reply": "2021-05-20T10:47:23.627808Z",
     "shell.execute_reply.started": "2021-05-20T10:45:44.161765Z"
    },
    "id": "XUj1W4PJptta"
   },
   "outputs": [
    {
     "name": "stdout",
     "output_type": "stream",
     "text": [
      "Epoch 1/121\n",
      "6/6 [==============================] - 1s 207ms/step - loss: 0.6577 - accuracy: 0.6307 - val_loss: 0.5877 - val_accuracy: 0.6494\n",
      "Epoch 2/121\n",
      "6/6 [==============================] - 1s 172ms/step - loss: 0.5613 - accuracy: 0.7216 - val_loss: 0.5488 - val_accuracy: 0.7273\n",
      "Epoch 3/121\n",
      "6/6 [==============================] - 1s 151ms/step - loss: 0.5673 - accuracy: 0.7102 - val_loss: 0.5230 - val_accuracy: 0.7403\n",
      "Epoch 4/121\n",
      "6/6 [==============================] - 1s 163ms/step - loss: 0.5818 - accuracy: 0.6818 - val_loss: 0.5225 - val_accuracy: 0.7403\n",
      "Epoch 5/121\n",
      "6/6 [==============================] - 1s 161ms/step - loss: 0.5500 - accuracy: 0.7216 - val_loss: 0.5085 - val_accuracy: 0.7662\n",
      "Epoch 6/121\n",
      "6/6 [==============================] - 1s 144ms/step - loss: 0.5159 - accuracy: 0.7614 - val_loss: 0.4801 - val_accuracy: 0.7922\n",
      "Epoch 7/121\n",
      "6/6 [==============================] - 1s 144ms/step - loss: 0.4733 - accuracy: 0.7784 - val_loss: 0.5208 - val_accuracy: 0.7662\n",
      "Epoch 8/121\n",
      "6/6 [==============================] - 1s 144ms/step - loss: 0.5037 - accuracy: 0.7784 - val_loss: 0.5800 - val_accuracy: 0.7403\n",
      "Epoch 9/121\n",
      "6/6 [==============================] - 1s 152ms/step - loss: 0.5256 - accuracy: 0.7330 - val_loss: 0.4779 - val_accuracy: 0.7532\n",
      "Epoch 10/121\n",
      "6/6 [==============================] - 1s 170ms/step - loss: 0.5005 - accuracy: 0.7670 - val_loss: 0.4666 - val_accuracy: 0.7792\n",
      "Epoch 11/121\n",
      "6/6 [==============================] - 1s 164ms/step - loss: 0.4200 - accuracy: 0.8068 - val_loss: 0.4659 - val_accuracy: 0.8182\n",
      "Epoch 12/121\n",
      "6/6 [==============================] - 1s 157ms/step - loss: 0.4731 - accuracy: 0.7727 - val_loss: 0.6565 - val_accuracy: 0.7143\n",
      "Epoch 13/121\n",
      "6/6 [==============================] - 1s 146ms/step - loss: 0.5013 - accuracy: 0.7784 - val_loss: 0.4789 - val_accuracy: 0.8052\n",
      "Epoch 14/121\n",
      "6/6 [==============================] - 1s 148ms/step - loss: 0.4715 - accuracy: 0.7727 - val_loss: 0.4800 - val_accuracy: 0.7662\n",
      "Epoch 15/121\n",
      "6/6 [==============================] - 1s 161ms/step - loss: 0.4159 - accuracy: 0.7841 - val_loss: 0.4722 - val_accuracy: 0.7662\n",
      "Epoch 16/121\n",
      "6/6 [==============================] - 1s 152ms/step - loss: 0.3936 - accuracy: 0.8295 - val_loss: 0.5000 - val_accuracy: 0.7792\n",
      "Epoch 17/121\n",
      "6/6 [==============================] - 1s 155ms/step - loss: 0.3882 - accuracy: 0.8580 - val_loss: 0.4867 - val_accuracy: 0.8052\n",
      "Epoch 18/121\n",
      "6/6 [==============================] - 1s 144ms/step - loss: 0.4430 - accuracy: 0.7898 - val_loss: 0.6061 - val_accuracy: 0.7792\n",
      "Epoch 19/121\n",
      "6/6 [==============================] - 1s 155ms/step - loss: 0.3484 - accuracy: 0.8523 - val_loss: 0.5604 - val_accuracy: 0.7013\n",
      "Epoch 20/121\n",
      "6/6 [==============================] - 1s 190ms/step - loss: 0.4170 - accuracy: 0.8295 - val_loss: 0.4802 - val_accuracy: 0.8052\n",
      "Epoch 21/121\n",
      "6/6 [==============================] - 1s 195ms/step - loss: 0.3771 - accuracy: 0.8295 - val_loss: 0.4708 - val_accuracy: 0.8312\n",
      "Epoch 22/121\n",
      "6/6 [==============================] - 1s 193ms/step - loss: 0.3892 - accuracy: 0.8580 - val_loss: 0.5671 - val_accuracy: 0.8182\n",
      "Epoch 23/121\n",
      "6/6 [==============================] - 1s 205ms/step - loss: 0.3796 - accuracy: 0.8295 - val_loss: 0.5260 - val_accuracy: 0.8182\n",
      "Epoch 24/121\n",
      "6/6 [==============================] - 1s 185ms/step - loss: 0.4458 - accuracy: 0.8011 - val_loss: 0.5540 - val_accuracy: 0.7792\n",
      "Epoch 25/121\n",
      "6/6 [==============================] - 1s 210ms/step - loss: 0.3836 - accuracy: 0.8182 - val_loss: 0.5090 - val_accuracy: 0.8312\n",
      "Epoch 26/121\n",
      "6/6 [==============================] - 1s 201ms/step - loss: 0.3450 - accuracy: 0.8466 - val_loss: 0.5415 - val_accuracy: 0.8052\n",
      "Epoch 27/121\n",
      "6/6 [==============================] - 1s 177ms/step - loss: 0.3612 - accuracy: 0.8580 - val_loss: 0.5765 - val_accuracy: 0.8182\n",
      "Epoch 28/121\n",
      "6/6 [==============================] - 1s 199ms/step - loss: 0.3184 - accuracy: 0.8693 - val_loss: 0.5301 - val_accuracy: 0.8442\n",
      "Epoch 29/121\n",
      "6/6 [==============================] - 1s 226ms/step - loss: 0.3146 - accuracy: 0.8807 - val_loss: 0.5129 - val_accuracy: 0.8182\n",
      "Epoch 30/121\n",
      "6/6 [==============================] - 1s 182ms/step - loss: 0.3076 - accuracy: 0.8750 - val_loss: 0.5207 - val_accuracy: 0.8182\n",
      "Epoch 31/121\n",
      "6/6 [==============================] - 1s 209ms/step - loss: 0.2796 - accuracy: 0.8864 - val_loss: 0.5860 - val_accuracy: 0.7922\n",
      "Epoch 32/121\n",
      "6/6 [==============================] - 1s 180ms/step - loss: 0.3075 - accuracy: 0.8977 - val_loss: 0.6060 - val_accuracy: 0.7922\n",
      "Epoch 33/121\n",
      "6/6 [==============================] - 1s 219ms/step - loss: 0.2992 - accuracy: 0.8920 - val_loss: 0.6330 - val_accuracy: 0.8182\n",
      "Epoch 34/121\n",
      "6/6 [==============================] - 1s 184ms/step - loss: 0.3034 - accuracy: 0.8636 - val_loss: 0.5483 - val_accuracy: 0.8052\n",
      "Epoch 35/121\n",
      "6/6 [==============================] - 1s 181ms/step - loss: 0.2763 - accuracy: 0.8920 - val_loss: 0.5643 - val_accuracy: 0.8312\n",
      "Epoch 36/121\n",
      "6/6 [==============================] - 1s 180ms/step - loss: 0.2673 - accuracy: 0.8750 - val_loss: 0.6195 - val_accuracy: 0.8052\n",
      "Epoch 37/121\n",
      "6/6 [==============================] - 1s 181ms/step - loss: 0.2392 - accuracy: 0.9148 - val_loss: 0.6492 - val_accuracy: 0.8052\n",
      "Epoch 38/121\n",
      "6/6 [==============================] - 1s 237ms/step - loss: 0.2611 - accuracy: 0.8807 - val_loss: 0.6006 - val_accuracy: 0.7662\n",
      "Epoch 39/121\n",
      "6/6 [==============================] - 1s 197ms/step - loss: 0.3182 - accuracy: 0.8409 - val_loss: 0.6146 - val_accuracy: 0.8052\n",
      "Epoch 40/121\n",
      "6/6 [==============================] - 1s 197ms/step - loss: 0.3179 - accuracy: 0.8750 - val_loss: 0.6571 - val_accuracy: 0.7792\n",
      "Epoch 41/121\n",
      "6/6 [==============================] - 1s 176ms/step - loss: 0.2837 - accuracy: 0.8750 - val_loss: 0.6069 - val_accuracy: 0.8182\n",
      "Epoch 42/121\n",
      "6/6 [==============================] - 1s 223ms/step - loss: 0.2119 - accuracy: 0.9318 - val_loss: 0.6616 - val_accuracy: 0.7662\n",
      "Epoch 43/121\n",
      "6/6 [==============================] - 1s 167ms/step - loss: 0.2184 - accuracy: 0.9034 - val_loss: 0.6883 - val_accuracy: 0.7792\n",
      "Epoch 44/121\n",
      "6/6 [==============================] - 1s 174ms/step - loss: 0.2715 - accuracy: 0.8750 - val_loss: 0.6142 - val_accuracy: 0.7792\n",
      "Epoch 45/121\n",
      "6/6 [==============================] - 1s 172ms/step - loss: 0.3521 - accuracy: 0.8580 - val_loss: 0.6633 - val_accuracy: 0.7662\n",
      "Epoch 46/121\n",
      "6/6 [==============================] - 1s 192ms/step - loss: 0.2761 - accuracy: 0.8920 - val_loss: 0.6363 - val_accuracy: 0.7792\n",
      "Epoch 47/121\n",
      "6/6 [==============================] - 1s 212ms/step - loss: 0.2615 - accuracy: 0.8693 - val_loss: 0.6540 - val_accuracy: 0.7922\n",
      "Epoch 48/121\n",
      "6/6 [==============================] - 1s 184ms/step - loss: 0.2058 - accuracy: 0.9148 - val_loss: 0.6635 - val_accuracy: 0.7662\n",
      "Epoch 49/121\n",
      "6/6 [==============================] - 1s 191ms/step - loss: 0.2387 - accuracy: 0.8977 - val_loss: 0.6675 - val_accuracy: 0.7922\n",
      "Epoch 50/121\n",
      "6/6 [==============================] - 1s 162ms/step - loss: 0.2213 - accuracy: 0.9148 - val_loss: 0.6514 - val_accuracy: 0.7792\n",
      "Epoch 51/121\n",
      "6/6 [==============================] - 1s 169ms/step - loss: 0.1747 - accuracy: 0.9261 - val_loss: 0.6789 - val_accuracy: 0.7792\n",
      "Epoch 52/121\n",
      "6/6 [==============================] - 1s 197ms/step - loss: 0.1563 - accuracy: 0.9489 - val_loss: 0.8617 - val_accuracy: 0.7532\n",
      "Epoch 53/121\n",
      "6/6 [==============================] - 1s 175ms/step - loss: 0.2143 - accuracy: 0.9148 - val_loss: 0.7007 - val_accuracy: 0.8052\n",
      "Epoch 54/121\n",
      "6/6 [==============================] - 1s 156ms/step - loss: 0.1830 - accuracy: 0.9205 - val_loss: 0.7593 - val_accuracy: 0.7792\n",
      "Epoch 55/121\n",
      "6/6 [==============================] - 1s 162ms/step - loss: 0.1522 - accuracy: 0.9432 - val_loss: 0.7811 - val_accuracy: 0.7662\n",
      "Epoch 56/121\n",
      "6/6 [==============================] - 1s 185ms/step - loss: 0.1599 - accuracy: 0.9432 - val_loss: 0.7435 - val_accuracy: 0.7792\n",
      "Epoch 57/121\n",
      "6/6 [==============================] - 1s 202ms/step - loss: 0.1447 - accuracy: 0.9489 - val_loss: 0.8889 - val_accuracy: 0.7532\n",
      "Epoch 58/121\n",
      "6/6 [==============================] - 1s 160ms/step - loss: 0.1717 - accuracy: 0.9545 - val_loss: 0.7260 - val_accuracy: 0.8052\n"
     ]
    },
    {
     "name": "stdout",
     "output_type": "stream",
     "text": [
      "Epoch 59/121\n",
      "6/6 [==============================] - 1s 173ms/step - loss: 0.1304 - accuracy: 0.9545 - val_loss: 0.8007 - val_accuracy: 0.8182\n",
      "Epoch 60/121\n",
      "6/6 [==============================] - 1s 182ms/step - loss: 0.1353 - accuracy: 0.9489 - val_loss: 0.8189 - val_accuracy: 0.7922\n",
      "Epoch 61/121\n",
      "6/6 [==============================] - 1s 226ms/step - loss: 0.1611 - accuracy: 0.9489 - val_loss: 0.7388 - val_accuracy: 0.7922\n",
      "Epoch 62/121\n",
      "6/6 [==============================] - 1s 159ms/step - loss: 0.1520 - accuracy: 0.9375 - val_loss: 0.9091 - val_accuracy: 0.7792\n",
      "Epoch 63/121\n",
      "6/6 [==============================] - 1s 201ms/step - loss: 0.1160 - accuracy: 0.9545 - val_loss: 0.9190 - val_accuracy: 0.7922\n",
      "Epoch 64/121\n",
      "6/6 [==============================] - 1s 199ms/step - loss: 0.1362 - accuracy: 0.9545 - val_loss: 0.8864 - val_accuracy: 0.7922\n",
      "Epoch 65/121\n",
      "6/6 [==============================] - 2s 252ms/step - loss: 0.1201 - accuracy: 0.9545 - val_loss: 0.8792 - val_accuracy: 0.8052\n",
      "Epoch 66/121\n",
      "6/6 [==============================] - 1s 199ms/step - loss: 0.1680 - accuracy: 0.9318 - val_loss: 0.7854 - val_accuracy: 0.7922\n",
      "Epoch 67/121\n",
      "6/6 [==============================] - 1s 190ms/step - loss: 0.1155 - accuracy: 0.9375 - val_loss: 0.7534 - val_accuracy: 0.8182\n",
      "Epoch 68/121\n",
      "6/6 [==============================] - 2s 262ms/step - loss: 0.1524 - accuracy: 0.9375 - val_loss: 0.7886 - val_accuracy: 0.8052\n",
      "Epoch 69/121\n",
      "6/6 [==============================] - 2s 297ms/step - loss: 0.1205 - accuracy: 0.9545 - val_loss: 0.8800 - val_accuracy: 0.8052\n",
      "Epoch 70/121\n",
      "6/6 [==============================] - 1s 234ms/step - loss: 0.1452 - accuracy: 0.9602 - val_loss: 0.8735 - val_accuracy: 0.8182\n",
      "Epoch 71/121\n",
      "6/6 [==============================] - 1s 229ms/step - loss: 0.1259 - accuracy: 0.9375 - val_loss: 0.8108 - val_accuracy: 0.8052\n",
      "Epoch 72/121\n",
      "6/6 [==============================] - 2s 261ms/step - loss: 0.1311 - accuracy: 0.9659 - val_loss: 0.8591 - val_accuracy: 0.7792\n",
      "Epoch 73/121\n",
      "6/6 [==============================] - 2s 251ms/step - loss: 0.1219 - accuracy: 0.9545 - val_loss: 0.8863 - val_accuracy: 0.7922\n",
      "Epoch 74/121\n",
      "6/6 [==============================] - 1s 183ms/step - loss: 0.0783 - accuracy: 0.9886 - val_loss: 0.9123 - val_accuracy: 0.8312\n",
      "Epoch 75/121\n",
      "6/6 [==============================] - 1s 207ms/step - loss: 0.0811 - accuracy: 0.9773 - val_loss: 0.9318 - val_accuracy: 0.8052\n",
      "Epoch 76/121\n",
      "6/6 [==============================] - 1s 184ms/step - loss: 0.0939 - accuracy: 0.9545 - val_loss: 0.9705 - val_accuracy: 0.8052\n",
      "Epoch 77/121\n",
      "6/6 [==============================] - 1s 227ms/step - loss: 0.0842 - accuracy: 0.9602 - val_loss: 1.0643 - val_accuracy: 0.7922\n",
      "Epoch 78/121\n",
      "6/6 [==============================] - 1s 179ms/step - loss: 0.0915 - accuracy: 0.9716 - val_loss: 1.1441 - val_accuracy: 0.7922\n",
      "Epoch 79/121\n",
      "6/6 [==============================] - 1s 169ms/step - loss: 0.1128 - accuracy: 0.9602 - val_loss: 1.1054 - val_accuracy: 0.7532\n",
      "Epoch 80/121\n",
      "6/6 [==============================] - 1s 195ms/step - loss: 0.0892 - accuracy: 0.9716 - val_loss: 1.2375 - val_accuracy: 0.7792\n",
      "Epoch 81/121\n",
      "6/6 [==============================] - 1s 236ms/step - loss: 0.1289 - accuracy: 0.9659 - val_loss: 1.0837 - val_accuracy: 0.7792\n",
      "Epoch 82/121\n",
      "6/6 [==============================] - 1s 202ms/step - loss: 0.1694 - accuracy: 0.9318 - val_loss: 1.1709 - val_accuracy: 0.7662\n",
      "Epoch 83/121\n",
      "6/6 [==============================] - 1s 211ms/step - loss: 0.1289 - accuracy: 0.9489 - val_loss: 0.9351 - val_accuracy: 0.7922\n",
      "Epoch 84/121\n",
      "6/6 [==============================] - 1s 188ms/step - loss: 0.0965 - accuracy: 0.9659 - val_loss: 0.9382 - val_accuracy: 0.8182\n",
      "Epoch 85/121\n",
      "6/6 [==============================] - 1s 204ms/step - loss: 0.1023 - accuracy: 0.9659 - val_loss: 1.1245 - val_accuracy: 0.8052\n",
      "Epoch 86/121\n",
      "6/6 [==============================] - 1s 207ms/step - loss: 0.1299 - accuracy: 0.9545 - val_loss: 1.2029 - val_accuracy: 0.8182\n",
      "Epoch 87/121\n",
      "6/6 [==============================] - 1s 180ms/step - loss: 0.0752 - accuracy: 0.9773 - val_loss: 1.1750 - val_accuracy: 0.8052\n",
      "Epoch 88/121\n",
      "6/6 [==============================] - 1s 167ms/step - loss: 0.0584 - accuracy: 0.9830 - val_loss: 1.2075 - val_accuracy: 0.8052\n",
      "Epoch 89/121\n",
      "6/6 [==============================] - 1s 197ms/step - loss: 0.0503 - accuracy: 0.9830 - val_loss: 1.1428 - val_accuracy: 0.8312\n",
      "Epoch 90/121\n",
      "6/6 [==============================] - 2s 256ms/step - loss: 0.0753 - accuracy: 0.9773 - val_loss: 1.2396 - val_accuracy: 0.8442\n",
      "Epoch 91/121\n",
      "6/6 [==============================] - 1s 203ms/step - loss: 0.0501 - accuracy: 0.9886 - val_loss: 1.1727 - val_accuracy: 0.7792\n",
      "Epoch 92/121\n",
      "6/6 [==============================] - 1s 197ms/step - loss: 0.0497 - accuracy: 0.9886 - val_loss: 1.1845 - val_accuracy: 0.8052\n",
      "Epoch 93/121\n",
      "6/6 [==============================] - 1s 205ms/step - loss: 0.0470 - accuracy: 0.9830 - val_loss: 1.1218 - val_accuracy: 0.8312\n",
      "Epoch 94/121\n",
      "6/6 [==============================] - 2s 253ms/step - loss: 0.0476 - accuracy: 0.9886 - val_loss: 1.1698 - val_accuracy: 0.8312\n",
      "Epoch 95/121\n",
      "6/6 [==============================] - 1s 206ms/step - loss: 0.0429 - accuracy: 0.9943 - val_loss: 1.1300 - val_accuracy: 0.8312\n",
      "Epoch 96/121\n",
      "6/6 [==============================] - 1s 222ms/step - loss: 0.0304 - accuracy: 0.9886 - val_loss: 1.1902 - val_accuracy: 0.8312\n",
      "Epoch 97/121\n",
      "6/6 [==============================] - 1s 201ms/step - loss: 0.0445 - accuracy: 0.9943 - val_loss: 1.1592 - val_accuracy: 0.8182\n",
      "Epoch 98/121\n",
      "6/6 [==============================] - 2s 263ms/step - loss: 0.0431 - accuracy: 0.9773 - val_loss: 1.2188 - val_accuracy: 0.8442\n",
      "Epoch 99/121\n",
      "6/6 [==============================] - 1s 217ms/step - loss: 0.0360 - accuracy: 0.9943 - val_loss: 1.1778 - val_accuracy: 0.8312\n",
      "Epoch 100/121\n",
      "6/6 [==============================] - 1s 236ms/step - loss: 0.0438 - accuracy: 0.9830 - val_loss: 1.2393 - val_accuracy: 0.8052\n",
      "Epoch 101/121\n",
      "6/6 [==============================] - 1s 234ms/step - loss: 0.0242 - accuracy: 0.9943 - val_loss: 1.2738 - val_accuracy: 0.8052\n",
      "Epoch 102/121\n",
      "6/6 [==============================] - 2s 339ms/step - loss: 0.0302 - accuracy: 0.9943 - val_loss: 1.2841 - val_accuracy: 0.8182\n",
      "Epoch 103/121\n",
      "6/6 [==============================] - 1s 227ms/step - loss: 0.0267 - accuracy: 0.9886 - val_loss: 1.2767 - val_accuracy: 0.8182\n",
      "Epoch 104/121\n",
      "6/6 [==============================] - 1s 199ms/step - loss: 0.0210 - accuracy: 0.9943 - val_loss: 1.2396 - val_accuracy: 0.8182\n",
      "Epoch 105/121\n",
      "6/6 [==============================] - 1s 209ms/step - loss: 0.0881 - accuracy: 0.9659 - val_loss: 1.2454 - val_accuracy: 0.7662\n",
      "Epoch 106/121\n",
      "6/6 [==============================] - 1s 222ms/step - loss: 0.0414 - accuracy: 0.9886 - val_loss: 1.4385 - val_accuracy: 0.7922\n",
      "Epoch 107/121\n",
      "6/6 [==============================] - 1s 175ms/step - loss: 0.0638 - accuracy: 0.9886 - val_loss: 1.2665 - val_accuracy: 0.7792\n",
      "Epoch 108/121\n",
      "6/6 [==============================] - 1s 170ms/step - loss: 0.0326 - accuracy: 0.9886 - val_loss: 1.3694 - val_accuracy: 0.7922\n",
      "Epoch 109/121\n",
      "6/6 [==============================] - 1s 180ms/step - loss: 0.0118 - accuracy: 1.0000 - val_loss: 1.3686 - val_accuracy: 0.7922\n",
      "Epoch 110/121\n",
      "6/6 [==============================] - 1s 194ms/step - loss: 0.0367 - accuracy: 0.9830 - val_loss: 1.2631 - val_accuracy: 0.7922\n",
      "Epoch 111/121\n",
      "6/6 [==============================] - 1s 185ms/step - loss: 0.0358 - accuracy: 0.9943 - val_loss: 1.2301 - val_accuracy: 0.7922\n",
      "Epoch 112/121\n",
      "6/6 [==============================] - 1s 194ms/step - loss: 0.0286 - accuracy: 0.9943 - val_loss: 1.2254 - val_accuracy: 0.8182\n",
      "Epoch 113/121\n",
      "6/6 [==============================] - 1s 184ms/step - loss: 0.0200 - accuracy: 0.9943 - val_loss: 1.2662 - val_accuracy: 0.8052\n",
      "Epoch 114/121\n",
      "6/6 [==============================] - 1s 210ms/step - loss: 0.0425 - accuracy: 0.9830 - val_loss: 1.4294 - val_accuracy: 0.7792\n",
      "Epoch 115/121\n",
      "6/6 [==============================] - 1s 207ms/step - loss: 0.0323 - accuracy: 0.9886 - val_loss: 1.4404 - val_accuracy: 0.7922\n",
      "Epoch 116/121\n"
     ]
    },
    {
     "name": "stdout",
     "output_type": "stream",
     "text": [
      "6/6 [==============================] - 1s 162ms/step - loss: 0.0407 - accuracy: 0.9830 - val_loss: 1.5491 - val_accuracy: 0.7662\n",
      "Epoch 117/121\n",
      "6/6 [==============================] - 1s 160ms/step - loss: 0.0197 - accuracy: 0.9943 - val_loss: 1.3985 - val_accuracy: 0.7792\n",
      "Epoch 118/121\n",
      "6/6 [==============================] - 1s 166ms/step - loss: 0.0228 - accuracy: 1.0000 - val_loss: 1.3416 - val_accuracy: 0.8052\n",
      "Epoch 119/121\n",
      "6/6 [==============================] - 1s 163ms/step - loss: 0.0194 - accuracy: 0.9886 - val_loss: 1.3357 - val_accuracy: 0.8182\n",
      "Epoch 120/121\n",
      "6/6 [==============================] - 1s 208ms/step - loss: 0.0346 - accuracy: 0.9830 - val_loss: 1.3644 - val_accuracy: 0.8052\n",
      "Epoch 121/121\n",
      "6/6 [==============================] - 1s 214ms/step - loss: 0.0315 - accuracy: 0.9830 - val_loss: 1.4342 - val_accuracy: 0.7922\n"
     ]
    },
    {
     "data": {
      "text/plain": [
       "<tensorflow.python.keras.callbacks.History at 0x2218cbcce20>"
      ]
     },
     "execution_count": 19,
     "metadata": {},
     "output_type": "execute_result"
    }
   ],
   "source": [
    "cnn.fit(x = training_set, epochs = 121 ,validation_data=test_set)"
   ]
  },
  {
   "cell_type": "markdown",
   "metadata": {},
   "source": [
    "### Train accuracy"
   ]
  },
  {
   "cell_type": "code",
   "execution_count": 20,
   "metadata": {
    "execution": {
     "iopub.execute_input": "2021-05-20T10:51:09.133968Z",
     "iopub.status.busy": "2021-05-20T10:51:09.133643Z",
     "iopub.status.idle": "2021-05-20T10:51:10.142262Z",
     "shell.execute_reply": "2021-05-20T10:51:10.141364Z",
     "shell.execute_reply.started": "2021-05-20T10:51:09.133938Z"
    }
   },
   "outputs": [
    {
     "name": "stdout",
     "output_type": "stream",
     "text": [
      "6/6 [==============================] - 1s 107ms/step - loss: 0.0177 - accuracy: 1.0000\n"
     ]
    },
    {
     "data": {
      "text/plain": [
       "[0.017665710300207138, 1.0]"
      ]
     },
     "execution_count": 20,
     "metadata": {},
     "output_type": "execute_result"
    }
   ],
   "source": [
    "cnn.evaluate(training_set)"
   ]
  },
  {
   "cell_type": "markdown",
   "metadata": {
    "execution": {
     "iopub.execute_input": "2021-05-20T10:52:21.412908Z",
     "iopub.status.busy": "2021-05-20T10:52:21.412575Z",
     "iopub.status.idle": "2021-05-20T10:52:21.416845Z",
     "shell.execute_reply": "2021-05-20T10:52:21.415840Z",
     "shell.execute_reply.started": "2021-05-20T10:52:21.412877Z"
    }
   },
   "source": [
    "### Test accuracy "
   ]
  },
  {
   "cell_type": "code",
   "execution_count": 21,
   "metadata": {
    "execution": {
     "iopub.execute_input": "2021-05-20T10:52:43.661824Z",
     "iopub.status.busy": "2021-05-20T10:52:43.661450Z",
     "iopub.status.idle": "2021-05-20T10:52:43.951190Z",
     "shell.execute_reply": "2021-05-20T10:52:43.950446Z",
     "shell.execute_reply.started": "2021-05-20T10:52:43.661792Z"
    }
   },
   "outputs": [
    {
     "name": "stdout",
     "output_type": "stream",
     "text": [
      "3/3 [==============================] - 0s 47ms/step - loss: 1.4342 - accuracy: 0.7922\n"
     ]
    },
    {
     "data": {
      "text/plain": [
       "[1.4342478513717651, 0.7922077775001526]"
      ]
     },
     "execution_count": 21,
     "metadata": {},
     "output_type": "execute_result"
    }
   ],
   "source": [
    "cnn.evaluate(test_set)"
   ]
  },
  {
   "cell_type": "markdown",
   "metadata": {
    "id": "U3PZasO0006Z"
   },
   "source": [
    "## Part 4 - Making single predictions"
   ]
  },
  {
   "cell_type": "code",
   "execution_count": 22,
   "metadata": {
    "execution": {
     "iopub.execute_input": "2021-05-20T10:27:49.498521Z",
     "iopub.status.busy": "2021-05-20T10:27:49.498191Z",
     "iopub.status.idle": "2021-05-20T10:27:49.547436Z",
     "shell.execute_reply": "2021-05-20T10:27:49.546585Z",
     "shell.execute_reply.started": "2021-05-20T10:27:49.498471Z"
    },
    "id": "gsSiWEJY1BPB"
   },
   "outputs": [
    {
     "ename": "FileNotFoundError",
     "evalue": "[Errno 2] No such file or directory: 'brain_tumor_dataset_splitted1/val/no/46 no.jpg'",
     "output_type": "error",
     "traceback": [
      "\u001b[1;31m---------------------------------------------------------------------------\u001b[0m",
      "\u001b[1;31mFileNotFoundError\u001b[0m                         Traceback (most recent call last)",
      "\u001b[1;32m<ipython-input-22-97936918b0da>\u001b[0m in \u001b[0;36m<module>\u001b[1;34m\u001b[0m\n\u001b[0;32m      4\u001b[0m \u001b[1;33m\u001b[0m\u001b[0m\n\u001b[0;32m      5\u001b[0m \u001b[1;32mfrom\u001b[0m \u001b[0mIPython\u001b[0m\u001b[1;33m.\u001b[0m\u001b[0mdisplay\u001b[0m \u001b[1;32mimport\u001b[0m \u001b[0mdisplay\u001b[0m\u001b[1;33m,\u001b[0m \u001b[0mImage\u001b[0m\u001b[1;33m\u001b[0m\u001b[1;33m\u001b[0m\u001b[0m\n\u001b[1;32m----> 6\u001b[1;33m \u001b[0mdisplay\u001b[0m\u001b[1;33m(\u001b[0m\u001b[0mImage\u001b[0m\u001b[1;33m(\u001b[0m\u001b[0mfilename\u001b[0m\u001b[1;33m=\u001b[0m\u001b[1;34m'brain_tumor_dataset_splitted1/val/no/46 no.jpg'\u001b[0m\u001b[1;33m)\u001b[0m\u001b[1;33m)\u001b[0m\u001b[1;33m\u001b[0m\u001b[1;33m\u001b[0m\u001b[0m\n\u001b[0m\u001b[0;32m      7\u001b[0m \u001b[0mtest_image\u001b[0m \u001b[1;33m=\u001b[0m \u001b[0mimage\u001b[0m\u001b[1;33m.\u001b[0m\u001b[0mload_img\u001b[0m\u001b[1;33m(\u001b[0m\u001b[1;34m'brain_tumor_dataset_splitted1/val/no/46 no.jpg'\u001b[0m\u001b[1;33m,\u001b[0m \u001b[0mtarget_size\u001b[0m \u001b[1;33m=\u001b[0m \u001b[1;33m(\u001b[0m\u001b[1;36m64\u001b[0m\u001b[1;33m,\u001b[0m \u001b[1;36m64\u001b[0m\u001b[1;33m)\u001b[0m\u001b[1;33m)\u001b[0m\u001b[1;33m\u001b[0m\u001b[1;33m\u001b[0m\u001b[0m\n\u001b[0;32m      8\u001b[0m \u001b[0mtest_image\u001b[0m \u001b[1;33m=\u001b[0m \u001b[0mimage\u001b[0m\u001b[1;33m.\u001b[0m\u001b[0mimg_to_array\u001b[0m\u001b[1;33m(\u001b[0m\u001b[0mtest_image\u001b[0m\u001b[1;33m)\u001b[0m\u001b[1;33m\u001b[0m\u001b[1;33m\u001b[0m\u001b[0m\n",
      "\u001b[1;32m~\\anaconda3\\lib\\site-packages\\IPython\\core\\display.py\u001b[0m in \u001b[0;36m__init__\u001b[1;34m(self, data, url, filename, format, embed, width, height, retina, unconfined, metadata)\u001b[0m\n\u001b[0;32m   1222\u001b[0m         \u001b[0mself\u001b[0m\u001b[1;33m.\u001b[0m\u001b[0mretina\u001b[0m \u001b[1;33m=\u001b[0m \u001b[0mretina\u001b[0m\u001b[1;33m\u001b[0m\u001b[1;33m\u001b[0m\u001b[0m\n\u001b[0;32m   1223\u001b[0m         \u001b[0mself\u001b[0m\u001b[1;33m.\u001b[0m\u001b[0munconfined\u001b[0m \u001b[1;33m=\u001b[0m \u001b[0munconfined\u001b[0m\u001b[1;33m\u001b[0m\u001b[1;33m\u001b[0m\u001b[0m\n\u001b[1;32m-> 1224\u001b[1;33m         super(Image, self).__init__(data=data, url=url, filename=filename, \n\u001b[0m\u001b[0;32m   1225\u001b[0m                 metadata=metadata)\n\u001b[0;32m   1226\u001b[0m \u001b[1;33m\u001b[0m\u001b[0m\n",
      "\u001b[1;32m~\\anaconda3\\lib\\site-packages\\IPython\\core\\display.py\u001b[0m in \u001b[0;36m__init__\u001b[1;34m(self, data, url, filename, metadata)\u001b[0m\n\u001b[0;32m    628\u001b[0m             \u001b[0mself\u001b[0m\u001b[1;33m.\u001b[0m\u001b[0mmetadata\u001b[0m \u001b[1;33m=\u001b[0m \u001b[1;33m{\u001b[0m\u001b[1;33m}\u001b[0m\u001b[1;33m\u001b[0m\u001b[1;33m\u001b[0m\u001b[0m\n\u001b[0;32m    629\u001b[0m \u001b[1;33m\u001b[0m\u001b[0m\n\u001b[1;32m--> 630\u001b[1;33m         \u001b[0mself\u001b[0m\u001b[1;33m.\u001b[0m\u001b[0mreload\u001b[0m\u001b[1;33m(\u001b[0m\u001b[1;33m)\u001b[0m\u001b[1;33m\u001b[0m\u001b[1;33m\u001b[0m\u001b[0m\n\u001b[0m\u001b[0;32m    631\u001b[0m         \u001b[0mself\u001b[0m\u001b[1;33m.\u001b[0m\u001b[0m_check_data\u001b[0m\u001b[1;33m(\u001b[0m\u001b[1;33m)\u001b[0m\u001b[1;33m\u001b[0m\u001b[1;33m\u001b[0m\u001b[0m\n\u001b[0;32m    632\u001b[0m \u001b[1;33m\u001b[0m\u001b[0m\n",
      "\u001b[1;32m~\\anaconda3\\lib\\site-packages\\IPython\\core\\display.py\u001b[0m in \u001b[0;36mreload\u001b[1;34m(self)\u001b[0m\n\u001b[0;32m   1254\u001b[0m         \u001b[1;34m\"\"\"Reload the raw data from file or URL.\"\"\"\u001b[0m\u001b[1;33m\u001b[0m\u001b[1;33m\u001b[0m\u001b[0m\n\u001b[0;32m   1255\u001b[0m         \u001b[1;32mif\u001b[0m \u001b[0mself\u001b[0m\u001b[1;33m.\u001b[0m\u001b[0membed\u001b[0m\u001b[1;33m:\u001b[0m\u001b[1;33m\u001b[0m\u001b[1;33m\u001b[0m\u001b[0m\n\u001b[1;32m-> 1256\u001b[1;33m             \u001b[0msuper\u001b[0m\u001b[1;33m(\u001b[0m\u001b[0mImage\u001b[0m\u001b[1;33m,\u001b[0m\u001b[0mself\u001b[0m\u001b[1;33m)\u001b[0m\u001b[1;33m.\u001b[0m\u001b[0mreload\u001b[0m\u001b[1;33m(\u001b[0m\u001b[1;33m)\u001b[0m\u001b[1;33m\u001b[0m\u001b[1;33m\u001b[0m\u001b[0m\n\u001b[0m\u001b[0;32m   1257\u001b[0m             \u001b[1;32mif\u001b[0m \u001b[0mself\u001b[0m\u001b[1;33m.\u001b[0m\u001b[0mretina\u001b[0m\u001b[1;33m:\u001b[0m\u001b[1;33m\u001b[0m\u001b[1;33m\u001b[0m\u001b[0m\n\u001b[0;32m   1258\u001b[0m                 \u001b[0mself\u001b[0m\u001b[1;33m.\u001b[0m\u001b[0m_retina_shape\u001b[0m\u001b[1;33m(\u001b[0m\u001b[1;33m)\u001b[0m\u001b[1;33m\u001b[0m\u001b[1;33m\u001b[0m\u001b[0m\n",
      "\u001b[1;32m~\\anaconda3\\lib\\site-packages\\IPython\\core\\display.py\u001b[0m in \u001b[0;36mreload\u001b[1;34m(self)\u001b[0m\n\u001b[0;32m    653\u001b[0m         \u001b[1;34m\"\"\"Reload the raw data from file or URL.\"\"\"\u001b[0m\u001b[1;33m\u001b[0m\u001b[1;33m\u001b[0m\u001b[0m\n\u001b[0;32m    654\u001b[0m         \u001b[1;32mif\u001b[0m \u001b[0mself\u001b[0m\u001b[1;33m.\u001b[0m\u001b[0mfilename\u001b[0m \u001b[1;32mis\u001b[0m \u001b[1;32mnot\u001b[0m \u001b[1;32mNone\u001b[0m\u001b[1;33m:\u001b[0m\u001b[1;33m\u001b[0m\u001b[1;33m\u001b[0m\u001b[0m\n\u001b[1;32m--> 655\u001b[1;33m             \u001b[1;32mwith\u001b[0m \u001b[0mopen\u001b[0m\u001b[1;33m(\u001b[0m\u001b[0mself\u001b[0m\u001b[1;33m.\u001b[0m\u001b[0mfilename\u001b[0m\u001b[1;33m,\u001b[0m \u001b[0mself\u001b[0m\u001b[1;33m.\u001b[0m\u001b[0m_read_flags\u001b[0m\u001b[1;33m)\u001b[0m \u001b[1;32mas\u001b[0m \u001b[0mf\u001b[0m\u001b[1;33m:\u001b[0m\u001b[1;33m\u001b[0m\u001b[1;33m\u001b[0m\u001b[0m\n\u001b[0m\u001b[0;32m    656\u001b[0m                 \u001b[0mself\u001b[0m\u001b[1;33m.\u001b[0m\u001b[0mdata\u001b[0m \u001b[1;33m=\u001b[0m \u001b[0mf\u001b[0m\u001b[1;33m.\u001b[0m\u001b[0mread\u001b[0m\u001b[1;33m(\u001b[0m\u001b[1;33m)\u001b[0m\u001b[1;33m\u001b[0m\u001b[1;33m\u001b[0m\u001b[0m\n\u001b[0;32m    657\u001b[0m         \u001b[1;32melif\u001b[0m \u001b[0mself\u001b[0m\u001b[1;33m.\u001b[0m\u001b[0murl\u001b[0m \u001b[1;32mis\u001b[0m \u001b[1;32mnot\u001b[0m \u001b[1;32mNone\u001b[0m\u001b[1;33m:\u001b[0m\u001b[1;33m\u001b[0m\u001b[1;33m\u001b[0m\u001b[0m\n",
      "\u001b[1;31mFileNotFoundError\u001b[0m: [Errno 2] No such file or directory: 'brain_tumor_dataset_splitted1/val/no/46 no.jpg'"
     ]
    }
   ],
   "source": [
    "import numpy as np\n",
    "from tensorflow.keras.preprocessing import image\n",
    "\n",
    "\n",
    "from IPython.display import display, Image\n",
    "display(Image(filename='brain_tumor_dataset_splitted1/val/no/46 no.jpg'))\n",
    "test_image = image.load_img('brain_tumor_dataset_splitted1/val/no/46 no.jpg', target_size = (64, 64))\n",
    "test_image = image.img_to_array(test_image)\n",
    "test_image = np.expand_dims(test_image, axis = 0)\n",
    "result = cnn.predict(test_image)\n",
    "if result[0][0] == 1:\n",
    "  prediction = 'Yes'\n",
    "else:\n",
    "  prediction = 'No'\n",
    "\n",
    "print(\"Actual: No\")\n",
    "print(\"Predicted:\", prediction)"
   ]
  },
  {
   "cell_type": "code",
   "execution_count": null,
   "metadata": {
    "execution": {
     "iopub.execute_input": "2021-05-20T10:27:55.289698Z",
     "iopub.status.busy": "2021-05-20T10:27:55.289323Z",
     "iopub.status.idle": "2021-05-20T10:27:55.337549Z",
     "shell.execute_reply": "2021-05-20T10:27:55.336649Z",
     "shell.execute_reply.started": "2021-05-20T10:27:55.289667Z"
    }
   },
   "outputs": [],
   "source": [
    "import numpy as np\n",
    "from tensorflow.keras.preprocessing import image\n",
    "\n",
    "\n",
    "from IPython.display import display, Image\n",
    "display(Image(filename='brain_tumor_dataset_splitted1/val/no/22 no.jpg'))\n",
    "test_image = image.load_img('brain_tumor_dataset_splitted1/val/no/22 no.jpg', target_size = (64, 64))\n",
    "test_image = image.img_to_array(test_image)\n",
    "test_image = np.expand_dims(test_image, axis = 0)\n",
    "result = cnn.predict(test_image)\n",
    "training_set.class_indices\n",
    "if result[0][0] == 1:\n",
    "  prediction = 'Yes'\n",
    "else:\n",
    "  prediction = 'No'\n",
    "\n",
    "print(\"Actual: No\")\n",
    "print(\"Predicted:\", prediction)"
   ]
  },
  {
   "cell_type": "code",
   "execution_count": null,
   "metadata": {
    "execution": {
     "iopub.execute_input": "2021-05-20T10:27:57.620664Z",
     "iopub.status.busy": "2021-05-20T10:27:57.620283Z",
     "iopub.status.idle": "2021-05-20T10:27:57.670827Z",
     "shell.execute_reply": "2021-05-20T10:27:57.669770Z",
     "shell.execute_reply.started": "2021-05-20T10:27:57.620628Z"
    }
   },
   "outputs": [],
   "source": [
    "import numpy as np\n",
    "from tensorflow.keras.preprocessing import image\n",
    "\n",
    "\n",
    "from IPython.display import display, Image\n",
    "display(Image(filename='brain_tumor_dataset_splitted1/val/yes/Y147.JPG'))\n",
    "test_image = image.load_img('brain_tumor_dataset_splitted1/val/yes/Y147.JPG', target_size = (64, 64))\n",
    "test_image = image.img_to_array(test_image)\n",
    "test_image = np.expand_dims(test_image, axis = 0)\n",
    "result = cnn.predict(test_image)\n",
    "training_set.class_indices\n",
    "if result[0][0] == 1:\n",
    "  prediction = 'Yes'\n",
    "else:\n",
    "  prediction = 'No'\n",
    "\n",
    "print(\"Actual: Yes\")\n",
    "print(\"Predicted:\", prediction)"
   ]
  },
  {
   "cell_type": "code",
   "execution_count": null,
   "metadata": {
    "execution": {
     "iopub.execute_input": "2021-05-20T10:27:59.501442Z",
     "iopub.status.busy": "2021-05-20T10:27:59.501087Z",
     "iopub.status.idle": "2021-05-20T10:27:59.550333Z",
     "shell.execute_reply": "2021-05-20T10:27:59.549560Z",
     "shell.execute_reply.started": "2021-05-20T10:27:59.501408Z"
    }
   },
   "outputs": [],
   "source": [
    "import numpy as np\n",
    "from tensorflow.keras.preprocessing import image\n",
    "\n",
    "\n",
    "from IPython.display import display, Image\n",
    "display(Image(filename='brain_tumor_dataset_splitted1/val/yes/Y3.jpg'))\n",
    "test_image = image.load_img('brain_tumor_dataset_splitted1/val/yes/Y3.jpg', target_size = (64, 64))\n",
    "test_image = image.img_to_array(test_image)\n",
    "test_image = np.expand_dims(test_image, axis = 0)\n",
    "result = cnn.predict(test_image)\n",
    "training_set.class_indices\n",
    "if result[0][0] == 1:\n",
    "  prediction = 'Yes'\n",
    "else:\n",
    "  prediction = 'No'\n",
    "\n",
    "print(\"Actual: Yes\")\n",
    "print(\"Predicted:\", prediction)"
   ]
  },
  {
   "cell_type": "code",
   "execution_count": null,
   "metadata": {},
   "outputs": [],
   "source": []
  }
 ],
 "metadata": {
  "kernelspec": {
   "display_name": "Python 3",
   "language": "python",
   "name": "python3"
  },
  "language_info": {
   "codemirror_mode": {
    "name": "ipython",
    "version": 3
   },
   "file_extension": ".py",
   "mimetype": "text/x-python",
   "name": "python",
   "nbconvert_exporter": "python",
   "pygments_lexer": "ipython3",
   "version": "3.8.3"
  }
 },
 "nbformat": 4,
 "nbformat_minor": 4
}
