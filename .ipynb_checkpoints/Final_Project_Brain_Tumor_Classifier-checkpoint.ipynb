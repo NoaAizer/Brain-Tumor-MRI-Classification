{
 "cells": [
  {
   "cell_type": "markdown",
   "metadata": {},
   "source": [
    " <h1 align=\"center\">Final_Project_Brain_Tumor_Classifier</h1>"
   ]
  },
  {
   "cell_type": "markdown",
   "metadata": {},
   "source": [
    " <h3 align=\"center\">Authors: Noa Mansbach & Ido Shapira</h3>   "
   ]
  },
  {
   "cell_type": "markdown",
   "metadata": {},
   "source": [
    "#### Project Overview and Objective:\n",
    "- The main purpose of this project was to build models that would classify if a subject has a tumor or not based on an MRI scan. The model would try to learn the pattern of Brain Tumor in the MRI scans with different conditions such as - brain shape, size of the tumor etc.\n",
    "- In addition, we would like to test whether we can, after training a model, develop an application that, given an image, will be able to classify whether a person has a brain tumor or not, so that it will be open for use by each doctor.\n",
    "\n",
    "#### Data-Set Description:\n",
    "The image data that was used for this problem is Brain MRI Images for Brain Tumor Detection from Kaggle web. It consists 253 MRI scans of two classes:\n",
    "* NO - no tumor, encoded as 0 - 98 images\n",
    "* YES - tumor, encoded as 1 - 155 images\n",
    "\n",
    "#### Our Techniques: \n",
    "We will build a number of models based on different learning techniques some of which we learned in the course during the semester.\n",
    "1. KNN model - finding a K-nearby neighbor.\n",
    "2. SVM model - Support Vector Machine\n",
    "3. Random Forest model - a forest of decision trees.\n",
    "4. CNN model - a technique we learned in the \"deep learning\" course that we think will give good results on the database.\n",
    "\n",
    "#### The difficulties and solutions:\n",
    "1. There was a black frame around the brain area in the images, and we wanted to remove it in order to optimize the model's training. \n",
    "Therefore  we wrote a sophisticated algorithm that finds the edges of the brain area in the image and crops according to it. But then we got that each image has a different size. Eventually we decided to use the resize algorithm to remove the black areas by naive way.\n",
    "2. In our data there were images of different sizes, some in RGB and some in grayscale. To maintain uniformity we converted all the images to be grayscale and 64 * 64 in size.\n",
    "3. The data has an imbalance in the amount of images that contain a tumor and those that do not. There are 155 that contain a tumor and 98 that do not. We saw that this imbalance affects the results of the CNN model. Therefore we solved this by giving a factor of 1.5 to the error weight of the images without the magnification\n",
    "4. We had an overfitting in the CNN model. In order to overcome this we made the model less complex and limited the amount of iterations, also we add dropout of 30%.\n"
   ]
  },
  {
   "cell_type": "markdown",
   "metadata": {},
   "source": [
    "## Code:"
   ]
  },
  {
   "cell_type": "markdown",
   "metadata": {},
   "source": [
    "### Import all the necessary libraries:\n",
    "We have used Python libraries:\n",
    "- sklearn\n",
    "- tensorflow"
   ]
  },
  {
   "cell_type": "code",
   "execution_count": 1,
   "metadata": {
    "execution": {
     "iopub.execute_input": "2021-05-20T10:17:49.287680Z",
     "iopub.status.busy": "2021-05-20T10:17:49.287371Z",
     "iopub.status.idle": "2021-05-20T10:17:54.213405Z",
     "shell.execute_reply": "2021-05-20T10:17:54.212588Z",
     "shell.execute_reply.started": "2021-05-20T10:17:49.287615Z"
    },
    "id": "sCV30xyVhFbE"
   },
   "outputs": [],
   "source": [
    "import numpy as np\n",
    "import pandas as pd\n",
    "import cv2\n",
    "import os\n",
    "from tqdm import tqdm\n",
    "import random as rn\n",
    "\n",
    "from sklearn.model_selection import train_test_split\n",
    "from sklearn.metrics import confusion_matrix\n",
    "from sklearn import metrics\n",
    "\n",
    "from sklearn.svm import SVC\n",
    "from sklearn.neighbors import KNeighborsClassifier\n",
    "from sklearn.ensemble import RandomForestClassifier\n",
    "\n",
    "from sklearn.model_selection import GridSearchCV\n",
    "# ! pip install split-folders\n",
    "import splitfolders\n",
    "\n",
    "import tensorflow as tf\n",
    "from tensorflow.keras.preprocessing.image import ImageDataGenerator\n",
    "from tensorflow.keras.preprocessing import image\n",
    "from IPython.display import display, Image\n",
    "\n",
    "import matplotlib.pyplot as plt\n",
    "import seaborn as sns"
   ]
  },
  {
   "cell_type": "markdown",
   "metadata": {},
   "source": [
    "## fix random seed:"
   ]
  },
  {
   "cell_type": "code",
   "execution_count": 2,
   "metadata": {},
   "outputs": [],
   "source": [
    "rs = 42 # random seed\n",
    "np.random.seed(rs)\n",
    "rn.seed(rs)"
   ]
  },
  {
   "cell_type": "markdown",
   "metadata": {},
   "source": [
    "# Import the data:"
   ]
  },
  {
   "cell_type": "code",
   "execution_count": 3,
   "metadata": {},
   "outputs": [],
   "source": [
    "X = []\n",
    "Z = []\n",
    "IMG_SIZE=64\n",
    "\n",
    "NO_DIR='./data/brain_tumor_dataset/no'\n",
    "YES_DIR='./data/brain_tumor_dataset/yes'"
   ]
  },
  {
   "cell_type": "markdown",
   "metadata": {},
   "source": [
    "We face up with dataset that contains both RGB and gray scale images, therefore we decided to convert all images to be gray scale."
   ]
  },
  {
   "cell_type": "code",
   "execution_count": 4,
   "metadata": {},
   "outputs": [],
   "source": [
    "def make_train_data(label,DIR):\n",
    "    for img in tqdm(os.listdir(DIR)):\n",
    "        path = os.path.join(DIR,img)\n",
    "        img = cv2.imread(path)\n",
    "        img = cv2.resize(img, (IMG_SIZE, IMG_SIZE))\n",
    "        if len(img.shape) == 3:\n",
    "            img = cv2.cvtColor(img, cv2.COLOR_BGR2GRAY)\n",
    "        np_img=np.asarray(img)\n",
    "        X.append(np_img)\n",
    "        Z.append(str(label))"
   ]
  },
  {
   "cell_type": "code",
   "execution_count": 5,
   "metadata": {},
   "outputs": [
    {
     "name": "stderr",
     "output_type": "stream",
     "text": [
      "100%|██████████| 98/98 [00:00<00:00, 796.11it/s]"
     ]
    },
    {
     "name": "stdout",
     "output_type": "stream",
     "text": [
      "98\n"
     ]
    },
    {
     "name": "stderr",
     "output_type": "stream",
     "text": [
      "\n"
     ]
    }
   ],
   "source": [
    "# make 'No' data\n",
    "make_train_data('No',NO_DIR)\n",
    "print(len(X))"
   ]
  },
  {
   "cell_type": "code",
   "execution_count": 6,
   "metadata": {},
   "outputs": [
    {
     "name": "stderr",
     "output_type": "stream",
     "text": [
      "100%|██████████| 155/155 [00:00<00:00, 743.46it/s]"
     ]
    },
    {
     "name": "stdout",
     "output_type": "stream",
     "text": [
      "253\n"
     ]
    },
    {
     "name": "stderr",
     "output_type": "stream",
     "text": [
      "\n"
     ]
    }
   ],
   "source": [
    "# make 'Yes' data\n",
    "make_train_data('Yes',YES_DIR)\n",
    "print(len(X))"
   ]
  },
  {
   "cell_type": "markdown",
   "metadata": {},
   "source": [
    "Description of the data:\n",
    "1. Number of instances: 253\n",
    "2. Number of attributes: 240*240"
   ]
  },
  {
   "cell_type": "markdown",
   "metadata": {},
   "source": [
    "## Check some image"
   ]
  },
  {
   "cell_type": "code",
   "execution_count": 7,
   "metadata": {},
   "outputs": [
    {
     "data": {
      "image/png": "[encoded data removed]",
      "text/plain": [
       "<Figure size 1080x1080 with 6 Axes>"
      ]
     },
     "metadata": {
      "needs_background": "light"
     },
     "output_type": "display_data"
    }
   ],
   "source": [
    "fig,ax=plt.subplots(3,2)\n",
    "fig.set_size_inches(15,15)\n",
    "for i in range(3):\n",
    "    for j in range (2):      \n",
    "#         l=rn.randint(0,len(Z))\n",
    "#         ax[i,j].imshow(X[l], cmap='gray')\n",
    "#         ax[i,j].set_title('Lable: '+Z[l])\n",
    "        if j == 0:\n",
    "            ax[i,j].imshow(X[i], cmap='gray')\n",
    "            ax[i,j].set_title('Lable: '+Z[i])\n",
    "        else:\n",
    "            ax[i,j].imshow(X[len(Z) - 1 - i], cmap='gray')\n",
    "            ax[i,j].set_title('Lable: '+Z[len(Z) -1 - i])\n",
    "        \n",
    "plt.tight_layout()"
   ]
  },
  {
   "cell_type": "markdown",
   "metadata": {},
   "source": [
    "We note that some of the images have large black areas arrond the brain scan, thus we decided to crop the image such that only the brain scan would remain."
   ]
  },
  {
   "cell_type": "code",
   "execution_count": 8,
   "metadata": {},
   "outputs": [],
   "source": [
    "def crop_imgs(set_name, add_pixels_value=0):\n",
    "    \"\"\"\n",
    "    Finds the extreme points on the image and crops the rectangular out of them\n",
    "    \"\"\"\n",
    "    set_new = []\n",
    "    i=0\n",
    "    for img in set_name:\n",
    "        if len(img.shape) == 3:\n",
    "            gray = cv2.cvtColor(img, cv2.COLOR_RGB2GRAY)\n",
    "        gray = cv2.GaussianBlur(gray, (5, 5), 0)\n",
    "\n",
    "                # dilations to remove any small regions of noise\n",
    "        thresh = cv2.threshold(gray, 45, 255, cv2.THRESH_BINARY)[1]\n",
    "        thresh = cv2.erode(thresh, None, iterations=2)\n",
    "        thresh = cv2.dilate(thresh, None, iterations=2)\n",
    "\n",
    "        # find contours in thresholded image, then grab the largest one\n",
    "        cnts = cv2.findContours(thresh.copy(), cv2.RETR_EXTERNAL, cv2.CHAIN_APPROX_SIMPLE)\n",
    "        cnts = imutils.grab_contours(cnts)\n",
    "        c = max(cnts, key=cv2.contourArea)\n",
    "\n",
    "        # find the extreme points\n",
    "        extLeft = tuple(c[c[:, :, 0].argmin()][0])\n",
    "        extRight = tuple(c[c[:, :, 0].argmax()][0])\n",
    "        extTop = tuple(c[c[:, :, 1].argmin()][0])\n",
    "        extBot = tuple(c[c[:, :, 1].argmax()][0])\n",
    "\n",
    "        # add contour on the image\n",
    "        img_cnt = cv2.drawContours(img.copy(), [c], -1, (0, 255, 255), 4)\n",
    "\n",
    "        # add extreme points\n",
    "        img_pnt = cv2.circle(img_cnt.copy(), extLeft, 8, (0, 0, 255), -1)\n",
    "        img_pnt = cv2.circle(img_pnt, extRight, 8, (0, 255, 0), -1)\n",
    "        img_pnt = cv2.circle(img_pnt, extTop, 8, (255, 0, 0), -1)\n",
    "        img_pnt = cv2.circle(img_pnt, extBot, 8, (255, 255, 0), -1)\n",
    "\n",
    "        # crop\n",
    "        ADD_PIXELS = 0\n",
    "        new_img = img[extTop[1]-ADD_PIXELS:extBot[1]+ADD_PIXELS, extLeft[0]-ADD_PIXELS:extRight[0]+ADD_PIXELS].copy()\n",
    "#         if new_img.shape[0] > IMG_SIZE:\n",
    "#             print('img: ', img.shape)\n",
    "#             print('new_img: ', new_img.shape)\n",
    "        new_img = cv2.resize(new_img, (IMG_SIZE, IMG_SIZE) , interpolation=cv2.INTER_CUBIC)\n",
    "        new_img = cv2.cvtColor(new_img, cv2.COLOR_RGB2GRAY)\n",
    "        set_new.append(np.asarray(new_img))\n",
    "        \n",
    "        if i % 25 == 0:\n",
    "            plt.figure(figsize=(15,6))\n",
    "            plt.subplot(141)\n",
    "            plt.imshow(img,cmap='gray')\n",
    "            plt.xticks([])\n",
    "            plt.yticks([])\n",
    "            plt.title('Step 1. Get the original image')\n",
    "            plt.subplot(142)\n",
    "            plt.imshow(img_cnt,cmap='gray')\n",
    "            plt.xticks([])\n",
    "            plt.yticks([])\n",
    "            plt.title('Step 2. Find the biggest contour')\n",
    "            plt.subplot(143)\n",
    "            plt.imshow(img_pnt,cmap='gray')\n",
    "            plt.xticks([])\n",
    "            plt.yticks([])\n",
    "            plt.title('Step 3. Find the extreme points')\n",
    "            plt.subplot(144)\n",
    "            plt.imshow(new_img,cmap='gray')\n",
    "            plt.xticks([])\n",
    "            plt.yticks([])\n",
    "            plt.title('Step 4. Crop and resize the image')\n",
    "        \n",
    "        i= i+1\n",
    "        plt.show()\n",
    "    return set_new"
   ]
  },
  {
   "cell_type": "code",
   "execution_count": 9,
   "metadata": {},
   "outputs": [],
   "source": [
    "# X_crop=crop_imgs(X)"
   ]
  },
  {
   "cell_type": "markdown",
   "metadata": {},
   "source": [
    "### Label encoding:"
   ]
  },
  {
   "cell_type": "markdown",
   "metadata": {},
   "source": [
    "'No' = 0\n",
    "\n",
    "'Yes' = 1"
   ]
  },
  {
   "cell_type": "code",
   "execution_count": 10,
   "metadata": {},
   "outputs": [],
   "source": [
    "Y = np.array(Z)\n",
    "Y = np.where(Y=='No', 0, Y)\n",
    "Y = np.where(Y=='Yes', 1, Y)\n",
    "Y = Y.astype('int32')"
   ]
  },
  {
   "cell_type": "markdown",
   "metadata": {},
   "source": [
    "### Normalization and flatten the images:"
   ]
  },
  {
   "cell_type": "code",
   "execution_count": 11,
   "metadata": {},
   "outputs": [],
   "source": [
    "X = np.array([cv2.normalize(X[i], None, 0, 255, cv2.NORM_MINMAX) for i in range(len(X))]) # normalization\n",
    "X=np.array(X)/255\n",
    "# X = X.flatten().reshape(len(X), (IMG_SIZE ** 2) * 3) # 3 is because it is RGB image \n",
    "X = X.flatten().reshape(len(X), (IMG_SIZE ** 2))"
   ]
  },
  {
   "cell_type": "markdown",
   "metadata": {},
   "source": [
    "### Our dataset:"
   ]
  },
  {
   "cell_type": "code",
   "execution_count": 12,
   "metadata": {},
   "outputs": [
    {
     "data": {
      "text/html": [
       "<div>\n",
       "<style scoped>\n",
       "    .dataframe tbody tr th:only-of-type {\n",
       "        vertical-align: middle;\n",
       "    }\n",
       "\n",
       "    .dataframe tbody tr th {\n",
       "        vertical-align: top;\n",
       "    }\n",
       "\n",
       "    .dataframe thead th {\n",
       "        text-align: right;\n",
       "    }\n",
       "</style>\n",
       "<table border=\"1\" class=\"dataframe\">\n",
       "  <thead>\n",
       "    <tr style=\"text-align: right;\">\n",
       "      <th></th>\n",
       "      <th>0</th>\n",
       "      <th>1</th>\n",
       "      <th>2</th>\n",
       "      <th>3</th>\n",
       "      <th>4</th>\n",
       "      <th>5</th>\n",
       "      <th>6</th>\n",
       "      <th>7</th>\n",
       "      <th>8</th>\n",
       "      <th>9</th>\n",
       "      <th>...</th>\n",
       "      <th>4086</th>\n",
       "      <th>4087</th>\n",
       "      <th>4088</th>\n",
       "      <th>4089</th>\n",
       "      <th>4090</th>\n",
       "      <th>4091</th>\n",
       "      <th>4092</th>\n",
       "      <th>4093</th>\n",
       "      <th>4094</th>\n",
       "      <th>4095</th>\n",
       "    </tr>\n",
       "  </thead>\n",
       "  <tbody>\n",
       "    <tr>\n",
       "      <th>0</th>\n",
       "      <td>1.000000</td>\n",
       "      <td>0.815686</td>\n",
       "      <td>0.156863</td>\n",
       "      <td>0.074510</td>\n",
       "      <td>0.058824</td>\n",
       "      <td>0.047059</td>\n",
       "      <td>0.047059</td>\n",
       "      <td>0.047059</td>\n",
       "      <td>0.050980</td>\n",
       "      <td>0.050980</td>\n",
       "      <td>...</td>\n",
       "      <td>0.047059</td>\n",
       "      <td>0.047059</td>\n",
       "      <td>0.047059</td>\n",
       "      <td>0.047059</td>\n",
       "      <td>0.050980</td>\n",
       "      <td>0.058824</td>\n",
       "      <td>0.035294</td>\n",
       "      <td>0.215686</td>\n",
       "      <td>0.823529</td>\n",
       "      <td>0.996078</td>\n",
       "    </tr>\n",
       "    <tr>\n",
       "      <th>1</th>\n",
       "      <td>0.000000</td>\n",
       "      <td>0.000000</td>\n",
       "      <td>0.000000</td>\n",
       "      <td>0.000000</td>\n",
       "      <td>0.000000</td>\n",
       "      <td>0.000000</td>\n",
       "      <td>0.000000</td>\n",
       "      <td>0.000000</td>\n",
       "      <td>0.000000</td>\n",
       "      <td>0.000000</td>\n",
       "      <td>...</td>\n",
       "      <td>0.000000</td>\n",
       "      <td>0.015686</td>\n",
       "      <td>0.003922</td>\n",
       "      <td>0.011765</td>\n",
       "      <td>0.007843</td>\n",
       "      <td>0.011765</td>\n",
       "      <td>0.007843</td>\n",
       "      <td>0.023529</td>\n",
       "      <td>0.003922</td>\n",
       "      <td>0.007843</td>\n",
       "    </tr>\n",
       "    <tr>\n",
       "      <th>2</th>\n",
       "      <td>0.000000</td>\n",
       "      <td>0.000000</td>\n",
       "      <td>0.000000</td>\n",
       "      <td>0.000000</td>\n",
       "      <td>0.000000</td>\n",
       "      <td>0.000000</td>\n",
       "      <td>0.000000</td>\n",
       "      <td>0.000000</td>\n",
       "      <td>0.000000</td>\n",
       "      <td>0.000000</td>\n",
       "      <td>...</td>\n",
       "      <td>0.000000</td>\n",
       "      <td>0.000000</td>\n",
       "      <td>0.000000</td>\n",
       "      <td>0.000000</td>\n",
       "      <td>0.000000</td>\n",
       "      <td>0.000000</td>\n",
       "      <td>0.000000</td>\n",
       "      <td>0.000000</td>\n",
       "      <td>0.000000</td>\n",
       "      <td>0.000000</td>\n",
       "    </tr>\n",
       "    <tr>\n",
       "      <th>3</th>\n",
       "      <td>0.003922</td>\n",
       "      <td>0.003922</td>\n",
       "      <td>0.003922</td>\n",
       "      <td>0.003922</td>\n",
       "      <td>0.003922</td>\n",
       "      <td>0.003922</td>\n",
       "      <td>0.003922</td>\n",
       "      <td>0.003922</td>\n",
       "      <td>0.003922</td>\n",
       "      <td>0.003922</td>\n",
       "      <td>...</td>\n",
       "      <td>0.003922</td>\n",
       "      <td>0.003922</td>\n",
       "      <td>0.003922</td>\n",
       "      <td>0.003922</td>\n",
       "      <td>0.003922</td>\n",
       "      <td>0.003922</td>\n",
       "      <td>0.003922</td>\n",
       "      <td>0.003922</td>\n",
       "      <td>0.003922</td>\n",
       "      <td>0.003922</td>\n",
       "    </tr>\n",
       "    <tr>\n",
       "      <th>4</th>\n",
       "      <td>0.274510</td>\n",
       "      <td>0.023529</td>\n",
       "      <td>0.015686</td>\n",
       "      <td>0.003922</td>\n",
       "      <td>0.023529</td>\n",
       "      <td>0.019608</td>\n",
       "      <td>0.015686</td>\n",
       "      <td>0.003922</td>\n",
       "      <td>0.011765</td>\n",
       "      <td>0.000000</td>\n",
       "      <td>...</td>\n",
       "      <td>0.000000</td>\n",
       "      <td>0.000000</td>\n",
       "      <td>0.000000</td>\n",
       "      <td>0.000000</td>\n",
       "      <td>0.000000</td>\n",
       "      <td>0.000000</td>\n",
       "      <td>0.000000</td>\n",
       "      <td>0.000000</td>\n",
       "      <td>0.000000</td>\n",
       "      <td>0.000000</td>\n",
       "    </tr>\n",
       "    <tr>\n",
       "      <th>...</th>\n",
       "      <td>...</td>\n",
       "      <td>...</td>\n",
       "      <td>...</td>\n",
       "      <td>...</td>\n",
       "      <td>...</td>\n",
       "      <td>...</td>\n",
       "      <td>...</td>\n",
       "      <td>...</td>\n",
       "      <td>...</td>\n",
       "      <td>...</td>\n",
       "      <td>...</td>\n",
       "      <td>...</td>\n",
       "      <td>...</td>\n",
       "      <td>...</td>\n",
       "      <td>...</td>\n",
       "      <td>...</td>\n",
       "      <td>...</td>\n",
       "      <td>...</td>\n",
       "      <td>...</td>\n",
       "      <td>...</td>\n",
       "      <td>...</td>\n",
       "    </tr>\n",
       "    <tr>\n",
       "      <th>248</th>\n",
       "      <td>0.003922</td>\n",
       "      <td>0.003922</td>\n",
       "      <td>0.003922</td>\n",
       "      <td>0.003922</td>\n",
       "      <td>0.003922</td>\n",
       "      <td>0.000000</td>\n",
       "      <td>0.000000</td>\n",
       "      <td>0.000000</td>\n",
       "      <td>0.000000</td>\n",
       "      <td>0.000000</td>\n",
       "      <td>...</td>\n",
       "      <td>0.000000</td>\n",
       "      <td>0.000000</td>\n",
       "      <td>0.000000</td>\n",
       "      <td>0.000000</td>\n",
       "      <td>0.000000</td>\n",
       "      <td>0.000000</td>\n",
       "      <td>0.000000</td>\n",
       "      <td>0.000000</td>\n",
       "      <td>0.000000</td>\n",
       "      <td>0.003922</td>\n",
       "    </tr>\n",
       "    <tr>\n",
       "      <th>249</th>\n",
       "      <td>0.007843</td>\n",
       "      <td>0.007843</td>\n",
       "      <td>0.007843</td>\n",
       "      <td>0.007843</td>\n",
       "      <td>0.007843</td>\n",
       "      <td>0.015686</td>\n",
       "      <td>0.007843</td>\n",
       "      <td>0.007843</td>\n",
       "      <td>0.007843</td>\n",
       "      <td>0.007843</td>\n",
       "      <td>...</td>\n",
       "      <td>0.015686</td>\n",
       "      <td>0.015686</td>\n",
       "      <td>0.015686</td>\n",
       "      <td>0.007843</td>\n",
       "      <td>0.007843</td>\n",
       "      <td>0.007843</td>\n",
       "      <td>0.019608</td>\n",
       "      <td>0.007843</td>\n",
       "      <td>0.007843</td>\n",
       "      <td>0.007843</td>\n",
       "    </tr>\n",
       "    <tr>\n",
       "      <th>250</th>\n",
       "      <td>0.000000</td>\n",
       "      <td>0.000000</td>\n",
       "      <td>0.000000</td>\n",
       "      <td>0.000000</td>\n",
       "      <td>0.000000</td>\n",
       "      <td>0.000000</td>\n",
       "      <td>0.000000</td>\n",
       "      <td>0.000000</td>\n",
       "      <td>0.000000</td>\n",
       "      <td>0.000000</td>\n",
       "      <td>...</td>\n",
       "      <td>0.000000</td>\n",
       "      <td>0.000000</td>\n",
       "      <td>0.000000</td>\n",
       "      <td>0.000000</td>\n",
       "      <td>0.000000</td>\n",
       "      <td>0.000000</td>\n",
       "      <td>0.000000</td>\n",
       "      <td>0.000000</td>\n",
       "      <td>0.000000</td>\n",
       "      <td>0.000000</td>\n",
       "    </tr>\n",
       "    <tr>\n",
       "      <th>251</th>\n",
       "      <td>0.031373</td>\n",
       "      <td>0.027451</td>\n",
       "      <td>0.023529</td>\n",
       "      <td>0.011765</td>\n",
       "      <td>0.027451</td>\n",
       "      <td>0.027451</td>\n",
       "      <td>0.027451</td>\n",
       "      <td>0.031373</td>\n",
       "      <td>0.031373</td>\n",
       "      <td>0.027451</td>\n",
       "      <td>...</td>\n",
       "      <td>0.043137</td>\n",
       "      <td>0.043137</td>\n",
       "      <td>0.043137</td>\n",
       "      <td>0.313725</td>\n",
       "      <td>0.066667</td>\n",
       "      <td>0.039216</td>\n",
       "      <td>0.047059</td>\n",
       "      <td>0.058824</td>\n",
       "      <td>0.666667</td>\n",
       "      <td>0.349020</td>\n",
       "    </tr>\n",
       "    <tr>\n",
       "      <th>252</th>\n",
       "      <td>0.015686</td>\n",
       "      <td>0.015686</td>\n",
       "      <td>0.015686</td>\n",
       "      <td>0.015686</td>\n",
       "      <td>0.015686</td>\n",
       "      <td>0.015686</td>\n",
       "      <td>0.015686</td>\n",
       "      <td>0.015686</td>\n",
       "      <td>0.015686</td>\n",
       "      <td>0.015686</td>\n",
       "      <td>...</td>\n",
       "      <td>0.007843</td>\n",
       "      <td>0.007843</td>\n",
       "      <td>0.007843</td>\n",
       "      <td>0.007843</td>\n",
       "      <td>0.007843</td>\n",
       "      <td>0.007843</td>\n",
       "      <td>0.007843</td>\n",
       "      <td>0.011765</td>\n",
       "      <td>0.011765</td>\n",
       "      <td>0.011765</td>\n",
       "    </tr>\n",
       "  </tbody>\n",
       "</table>\n",
       "<p>253 rows × 4096 columns</p>\n",
       "</div>"
      ],
      "text/plain": [
       "         0         1         2         3         4         5         6     \\\n",
       "0    1.000000  0.815686  0.156863  0.074510  0.058824  0.047059  0.047059   \n",
       "1    0.000000  0.000000  0.000000  0.000000  0.000000  0.000000  0.000000   \n",
       "2    0.000000  0.000000  0.000000  0.000000  0.000000  0.000000  0.000000   \n",
       "3    0.003922  0.003922  0.003922  0.003922  0.003922  0.003922  0.003922   \n",
       "4    0.274510  0.023529  0.015686  0.003922  0.023529  0.019608  0.015686   \n",
       "..        ...       ...       ...       ...       ...       ...       ...   \n",
       "248  0.003922  0.003922  0.003922  0.003922  0.003922  0.000000  0.000000   \n",
       "249  0.007843  0.007843  0.007843  0.007843  0.007843  0.015686  0.007843   \n",
       "250  0.000000  0.000000  0.000000  0.000000  0.000000  0.000000  0.000000   \n",
       "251  0.031373  0.027451  0.023529  0.011765  0.027451  0.027451  0.027451   \n",
       "252  0.015686  0.015686  0.015686  0.015686  0.015686  0.015686  0.015686   \n",
       "\n",
       "         7         8         9     ...      4086      4087      4088  \\\n",
       "0    0.047059  0.050980  0.050980  ...  0.047059  0.047059  0.047059   \n",
       "1    0.000000  0.000000  0.000000  ...  0.000000  0.015686  0.003922   \n",
       "2    0.000000  0.000000  0.000000  ...  0.000000  0.000000  0.000000   \n",
       "3    0.003922  0.003922  0.003922  ...  0.003922  0.003922  0.003922   \n",
       "4    0.003922  0.011765  0.000000  ...  0.000000  0.000000  0.000000   \n",
       "..        ...       ...       ...  ...       ...       ...       ...   \n",
       "248  0.000000  0.000000  0.000000  ...  0.000000  0.000000  0.000000   \n",
       "249  0.007843  0.007843  0.007843  ...  0.015686  0.015686  0.015686   \n",
       "250  0.000000  0.000000  0.000000  ...  0.000000  0.000000  0.000000   \n",
       "251  0.031373  0.031373  0.027451  ...  0.043137  0.043137  0.043137   \n",
       "252  0.015686  0.015686  0.015686  ...  0.007843  0.007843  0.007843   \n",
       "\n",
       "         4089      4090      4091      4092      4093      4094      4095  \n",
       "0    0.047059  0.050980  0.058824  0.035294  0.215686  0.823529  0.996078  \n",
       "1    0.011765  0.007843  0.011765  0.007843  0.023529  0.003922  0.007843  \n",
       "2    0.000000  0.000000  0.000000  0.000000  0.000000  0.000000  0.000000  \n",
       "3    0.003922  0.003922  0.003922  0.003922  0.003922  0.003922  0.003922  \n",
       "4    0.000000  0.000000  0.000000  0.000000  0.000000  0.000000  0.000000  \n",
       "..        ...       ...       ...       ...       ...       ...       ...  \n",
       "248  0.000000  0.000000  0.000000  0.000000  0.000000  0.000000  0.003922  \n",
       "249  0.007843  0.007843  0.007843  0.019608  0.007843  0.007843  0.007843  \n",
       "250  0.000000  0.000000  0.000000  0.000000  0.000000  0.000000  0.000000  \n",
       "251  0.313725  0.066667  0.039216  0.047059  0.058824  0.666667  0.349020  \n",
       "252  0.007843  0.007843  0.007843  0.007843  0.011765  0.011765  0.011765  \n",
       "\n",
       "[253 rows x 4096 columns]"
      ]
     },
     "execution_count": 12,
     "metadata": {},
     "output_type": "execute_result"
    }
   ],
   "source": [
    "df = pd.DataFrame(data=X)\n",
    "df"
   ]
  },
  {
   "cell_type": "markdown",
   "metadata": {},
   "source": [
    "### Train-Test Split:"
   ]
  },
  {
   "cell_type": "code",
   "execution_count": 13,
   "metadata": {},
   "outputs": [
    {
     "data": {
      "text/html": [
       "<div>\n",
       "<style scoped>\n",
       "    .dataframe tbody tr th:only-of-type {\n",
       "        vertical-align: middle;\n",
       "    }\n",
       "\n",
       "    .dataframe tbody tr th {\n",
       "        vertical-align: top;\n",
       "    }\n",
       "\n",
       "    .dataframe thead th {\n",
       "        text-align: right;\n",
       "    }\n",
       "</style>\n",
       "<table border=\"1\" class=\"dataframe\">\n",
       "  <thead>\n",
       "    <tr style=\"text-align: right;\">\n",
       "      <th></th>\n",
       "      <th>Training dataset</th>\n",
       "      <th>Test dataset</th>\n",
       "      <th>Total</th>\n",
       "    </tr>\n",
       "  </thead>\n",
       "  <tbody>\n",
       "    <tr>\n",
       "      <th>Free</th>\n",
       "      <td>124</td>\n",
       "      <td>31</td>\n",
       "      <td>155</td>\n",
       "    </tr>\n",
       "    <tr>\n",
       "      <th>Full</th>\n",
       "      <td>78</td>\n",
       "      <td>20</td>\n",
       "      <td>98</td>\n",
       "    </tr>\n",
       "  </tbody>\n",
       "</table>\n",
       "</div>"
      ],
      "text/plain": [
       "      Training dataset  Test dataset  Total\n",
       "Free               124            31    155\n",
       "Full                78            20     98"
      ]
     },
     "execution_count": 13,
     "metadata": {},
     "output_type": "execute_result"
    }
   ],
   "source": [
    "# separate data\n",
    "X_train,X_test,y_train,y_test=train_test_split(X,Y,test_size=0.20,random_state=rs, shuffle=True)\n",
    "\n",
    "freqs = pd.DataFrame({\"Training dataset\": [(y_train == 1).sum(),(y_train == 0).sum()],\n",
    "                      \"Test dataset\": [(y_test == 1).sum(),(y_test == 0).sum()],\n",
    "                      \"Total\": [(y_train == 1).sum()+(y_test == 1).sum(),(y_train == 0).sum()+(y_test == 0).sum()]},\n",
    "                     index=[\"Free\", \"Full\"])\n",
    "freqs[[\"Training dataset\", \"Test dataset\", \"Total\"]]"
   ]
  },
  {
   "cell_type": "code",
   "execution_count": null,
   "metadata": {},
   "outputs": [],
   "source": []
  },
  {
   "cell_type": "code",
   "execution_count": 14,
   "metadata": {},
   "outputs": [],
   "source": [
    "def statistics(confusion):\n",
    "    TP = confusion[1, 1]\n",
    "    TN = confusion[0, 0]\n",
    "    FP = confusion[0, 1]\n",
    "    FN = confusion[1, 0]\n",
    "    print('True Positives (TP):',TP)\n",
    "    print('True Negatives (TN):',TN)\n",
    "    print('False Positives (FP):',FP)\n",
    "    print('False Negarives (FN):',FN)\n",
    "    print('Classification Accuracy:',(TP + TN) / float(TP + TN + FP + FN))\n",
    "    precision = TN / float(TN + FP)\n",
    "    print('Precision:',precision)\n",
    "    recall = TP / float(TP + FN)\n",
    "    print('Recall:', recall)\n",
    "    print('f-score:', 2 * precision * recall / (precision + recall))"
   ]
  },
  {
   "cell_type": "code",
   "execution_count": 15,
   "metadata": {},
   "outputs": [],
   "source": [
    "def cm_analysis(y_true, y_pred, labels, figsize=(7,6)):\n",
    "    cm = confusion_matrix(y_true, y_pred, labels=labels)\n",
    "    cm_sum = np.sum(cm, axis=1, keepdims=True)\n",
    "    cm_perc = cm / cm_sum.astype(float) * 100\n",
    "    annot = np.empty_like(cm).astype(str)\n",
    "    nrows, ncols = cm.shape\n",
    "    for i in range(nrows):\n",
    "        for j in range(ncols):\n",
    "            c = cm[i, j]\n",
    "            p = cm_perc[i, j]\n",
    "            if i == j:\n",
    "                s = cm_sum[i]\n",
    "                annot[i, j] = '%.1f%%\\n%d/%d' % (p, c, s)\n",
    "            elif c == 0:\n",
    "                annot[i, j] = '0'\n",
    "            else:\n",
    "                annot[i, j] = '%.1f%%\\n%d' % (p, c)\n",
    "    cm_result = pd.DataFrame(cm, index=labels, columns=labels)\n",
    "    cm_result.index.name = 'Actual'\n",
    "    cm_result.columns.name = 'Predicted'\n",
    "    fig, ax = plt.subplots(figsize=figsize)\n",
    "    sns.heatmap(cm, annot=annot, fmt='', ax=ax, cmap='Blues')\n",
    "    #plt.savefig(filename)\n",
    "    plt.show()\n",
    "    return cm_result, cm"
   ]
  },
  {
   "cell_type": "markdown",
   "metadata": {},
   "source": [
    "# Using Support Vector Machine (SVM)"
   ]
  },
  {
   "cell_type": "code",
   "execution_count": 16,
   "metadata": {},
   "outputs": [
    {
     "name": "stdout",
     "output_type": "stream",
     "text": [
      "Fitting 5 folds for each of 15 candidates, totalling 75 fits\n"
     ]
    },
    {
     "data": {
      "text/plain": [
       "GridSearchCV(estimator=SVC(),\n",
       "             param_grid=[{'C': [0.001, 0.1, 1, 10, 100],\n",
       "                          'kernel': ['rbf', 'linear', 'sigmoid']}],\n",
       "             verbose=1)"
      ]
     },
     "execution_count": 16,
     "metadata": {},
     "output_type": "execute_result"
    }
   ],
   "source": [
    "# Create a svm classifier:\n",
    "param_grid = [\n",
    "  {'C': [0.001, 0.1, 1, 10, 100], 'kernel': ['rbf', 'linear', 'sigmoid']},\n",
    " ]\n",
    "svc = SVC()\n",
    "svc_classifier = GridSearchCV(svc, param_grid, verbose = 1)\n",
    "svc_classifier.fit(X_train, y_train)\n",
    "#fit to the training data"
   ]
  },
  {
   "cell_type": "markdown",
   "metadata": {},
   "source": [
    "### the best parameters for the model:"
   ]
  },
  {
   "cell_type": "code",
   "execution_count": 17,
   "metadata": {},
   "outputs": [
    {
     "name": "stdout",
     "output_type": "stream",
     "text": [
      "0.8271951219512195\n",
      "{'C': 10, 'kernel': 'rbf'}\n"
     ]
    }
   ],
   "source": [
    "print(svc_classifier.best_score_)\n",
    "print(svc_classifier.best_params_)"
   ]
  },
  {
   "cell_type": "markdown",
   "metadata": {},
   "source": [
    "### Prediction:"
   ]
  },
  {
   "cell_type": "code",
   "execution_count": 18,
   "metadata": {},
   "outputs": [],
   "source": [
    "y_pred = svc_classifier.predict(X_test)"
   ]
  },
  {
   "cell_type": "markdown",
   "metadata": {},
   "source": [
    "### Confusion matrix and result report:"
   ]
  },
  {
   "cell_type": "code",
   "execution_count": 19,
   "metadata": {},
   "outputs": [
    {
     "data": {
      "image/png": "[encoded data removed]",
      "text/plain": [
       "<Figure size 504x432 with 2 Axes>"
      ]
     },
     "metadata": {
      "needs_background": "light"
     },
     "output_type": "display_data"
    }
   ],
   "source": [
    "cm_result, cm = cm_analysis(y_test, y_pred, [0,1])"
   ]
  },
  {
   "cell_type": "code",
   "execution_count": 20,
   "metadata": {},
   "outputs": [
    {
     "name": "stdout",
     "output_type": "stream",
     "text": [
      "True Positives (TP): 28\n",
      "True Negatives (TN): 14\n",
      "False Positives (FP): 6\n",
      "False Negarives (FN): 3\n",
      "Classification Accuracy: 0.8235294117647058\n",
      "Precision: 0.7\n",
      "Recall: 0.9032258064516129\n",
      "f-score: 0.7887323943661972\n"
     ]
    }
   ],
   "source": [
    "statistics(cm)"
   ]
  },
  {
   "cell_type": "markdown",
   "metadata": {},
   "source": [
    "# Using k-nearest neighbors (KNN)"
   ]
  },
  {
   "cell_type": "code",
   "execution_count": 21,
   "metadata": {
    "scrolled": false
   },
   "outputs": [
    {
     "name": "stdout",
     "output_type": "stream",
     "text": [
      "Fitting 5 folds for each of 60 candidates, totalling 300 fits\n"
     ]
    },
    {
     "data": {
      "text/plain": [
       "GridSearchCV(estimator=KNeighborsClassifier(),\n",
       "             param_grid=[{'n_neighbors': [1, 2, 3, 4, 5, 6, 7, 8, 9, 10, 11, 12,\n",
       "                                          13, 14, 15, 16, 17, 18, 19, 20, 21,\n",
       "                                          22, 23, 24, 25, 26, 27, 28, 29, 30],\n",
       "                          'weights': ['uniform', 'distance']}],\n",
       "             verbose=1)"
      ]
     },
     "execution_count": 21,
     "metadata": {},
     "output_type": "execute_result"
    }
   ],
   "source": [
    "# Create a knn classifier:\n",
    "param_grid = [\n",
    "  {'n_neighbors': list(range(1, 31)), 'weights': ['uniform', 'distance']},\n",
    " ]\n",
    "knn = KNeighborsClassifier()\n",
    "knn_classifier = GridSearchCV(knn, param_grid, verbose = 1)\n",
    "knn_classifier.fit(X_train,y_train)\n",
    "#fit to the training data"
   ]
  },
  {
   "cell_type": "markdown",
   "metadata": {},
   "source": [
    "### the best parameters for the model:"
   ]
  },
  {
   "cell_type": "code",
   "execution_count": 22,
   "metadata": {},
   "outputs": [
    {
     "name": "stdout",
     "output_type": "stream",
     "text": [
      "0.8021951219512194\n",
      "{'n_neighbors': 14, 'weights': 'distance'}\n"
     ]
    }
   ],
   "source": [
    "print(knn_classifier.best_score_)\n",
    "print(knn_classifier.best_params_)"
   ]
  },
  {
   "cell_type": "markdown",
   "metadata": {},
   "source": [
    "### Prediction:"
   ]
  },
  {
   "cell_type": "code",
   "execution_count": 23,
   "metadata": {},
   "outputs": [],
   "source": [
    "y_pred = knn_classifier.predict(X_test)"
   ]
  },
  {
   "cell_type": "markdown",
   "metadata": {},
   "source": [
    "### Confusion matrix and result report:"
   ]
  },
  {
   "cell_type": "code",
   "execution_count": 24,
   "metadata": {},
   "outputs": [
    {
     "data": {
      "image/png": "[encoded data removed]",
      "text/plain": [
       "<Figure size 504x432 with 2 Axes>"
      ]
     },
     "metadata": {
      "needs_background": "light"
     },
     "output_type": "display_data"
    }
   ],
   "source": [
    "cm_result, cm = cm_analysis(y_test, y_pred, [0,1])"
   ]
  },
  {
   "cell_type": "code",
   "execution_count": 25,
   "metadata": {},
   "outputs": [
    {
     "name": "stdout",
     "output_type": "stream",
     "text": [
      "True Positives (TP): 27\n",
      "True Negatives (TN): 13\n",
      "False Positives (FP): 7\n",
      "False Negarives (FN): 4\n",
      "Classification Accuracy: 0.7843137254901961\n",
      "Precision: 0.65\n",
      "Recall: 0.8709677419354839\n",
      "f-score: 0.7444326617179216\n"
     ]
    }
   ],
   "source": [
    "statistics(cm)"
   ]
  },
  {
   "cell_type": "code",
   "execution_count": null,
   "metadata": {},
   "outputs": [],
   "source": []
  },
  {
   "cell_type": "markdown",
   "metadata": {},
   "source": [
    "# Using Random Forest model"
   ]
  },
  {
   "cell_type": "code",
   "execution_count": 26,
   "metadata": {
    "scrolled": true
   },
   "outputs": [
    {
     "name": "stdout",
     "output_type": "stream",
     "text": [
      "Fitting 5 folds for each of 20 candidates, totalling 100 fits\n"
     ]
    },
    {
     "data": {
      "text/plain": [
       "GridSearchCV(estimator=RandomForestClassifier(),\n",
       "             param_grid={'criterion': ['gini', 'entropy'],\n",
       "                         'max_features': ['sqrt', 'log2'],\n",
       "                         'n_estimators': [10, 50, 100, 200, 500]},\n",
       "             verbose=1)"
      ]
     },
     "execution_count": 26,
     "metadata": {},
     "output_type": "execute_result"
    }
   ],
   "source": [
    "# Create a Random Forest classifier:\n",
    "param_grid = { \n",
    "    'n_estimators': [10,50,100,200,500],\n",
    "    'max_features': ['sqrt', 'log2'],\n",
    "    'criterion' :['gini', 'entropy']\n",
    "}\n",
    "rfc = RandomForestClassifier()\n",
    "rfc_classifier = GridSearchCV(rfc, param_grid, verbose = 1)\n",
    "rfc_classifier.fit(X_train,y_train)\n",
    "#fit to the training data"
   ]
  },
  {
   "cell_type": "markdown",
   "metadata": {},
   "source": [
    "### the best parameters for the model:"
   ]
  },
  {
   "cell_type": "code",
   "execution_count": 27,
   "metadata": {},
   "outputs": [
    {
     "name": "stdout",
     "output_type": "stream",
     "text": [
      "0.8373170731707317\n",
      "{'criterion': 'gini', 'max_features': 'log2', 'n_estimators': 50}\n"
     ]
    }
   ],
   "source": [
    "print(rfc_classifier.best_score_)\n",
    "print(rfc_classifier.best_params_)"
   ]
  },
  {
   "cell_type": "markdown",
   "metadata": {},
   "source": [
    "### Prediction:"
   ]
  },
  {
   "cell_type": "code",
   "execution_count": 28,
   "metadata": {},
   "outputs": [],
   "source": [
    "y_pred = rfc_classifier.predict(X_test)"
   ]
  },
  {
   "cell_type": "markdown",
   "metadata": {},
   "source": [
    "### Confusion matrix and result report:"
   ]
  },
  {
   "cell_type": "code",
   "execution_count": 29,
   "metadata": {},
   "outputs": [
    {
     "data": {
      "image/png": "[encoded data removed]",
      "text/plain": [
       "<Figure size 504x432 with 2 Axes>"
      ]
     },
     "metadata": {
      "needs_background": "light"
     },
     "output_type": "display_data"
    }
   ],
   "source": [
    "cm_result, cm = cm_analysis(y_test, y_pred, [0,1])"
   ]
  },
  {
   "cell_type": "code",
   "execution_count": 30,
   "metadata": {},
   "outputs": [
    {
     "name": "stdout",
     "output_type": "stream",
     "text": [
      "True Positives (TP): 31\n",
      "True Negatives (TN): 14\n",
      "False Positives (FP): 6\n",
      "False Negarives (FN): 0\n",
      "Classification Accuracy: 0.8823529411764706\n",
      "Precision: 0.7\n",
      "Recall: 1.0\n",
      "f-score: 0.8235294117647058\n"
     ]
    }
   ],
   "source": [
    "statistics(cm)"
   ]
  },
  {
   "cell_type": "code",
   "execution_count": null,
   "metadata": {},
   "outputs": [],
   "source": []
  },
  {
   "cell_type": "code",
   "execution_count": null,
   "metadata": {},
   "outputs": [],
   "source": []
  },
  {
   "cell_type": "code",
   "execution_count": null,
   "metadata": {},
   "outputs": [],
   "source": []
  },
  {
   "cell_type": "markdown",
   "metadata": {},
   "source": [
    "# Using Deep Learning method - CNN"
   ]
  },
  {
   "cell_type": "markdown",
   "metadata": {
    "id": "oxQxCBWyoGPE"
   },
   "source": [
    "## Part 1 - Data Preprocessing"
   ]
  },
  {
   "cell_type": "markdown",
   "metadata": {},
   "source": [
    "## Split into train , test data"
   ]
  },
  {
   "cell_type": "code",
   "execution_count": 31,
   "metadata": {},
   "outputs": [
    {
     "name": "stderr",
     "output_type": "stream",
     "text": [
      "Copying files: 253 files [00:00, 9868.03 files/s]\n"
     ]
    }
   ],
   "source": [
    "# train, test split\n",
    "splitfolders.ratio('./data/brain_tumor_dataset/', output=\"./data/brain_tumor_dataset_split\", ratio=(0.7, 0.3))"
   ]
  },
  {
   "cell_type": "markdown",
   "metadata": {
    "id": "MvE-heJNo3GG"
   },
   "source": [
    "### Preprocessing the Training set"
   ]
  },
  {
   "cell_type": "code",
   "execution_count": 32,
   "metadata": {
    "execution": {
     "iopub.execute_input": "2021-05-20T10:35:29.379448Z",
     "iopub.status.busy": "2021-05-20T10:35:29.379133Z",
     "iopub.status.idle": "2021-05-20T10:35:29.488698Z",
     "shell.execute_reply": "2021-05-20T10:35:29.487666Z",
     "shell.execute_reply.started": "2021-05-20T10:35:29.379419Z"
    },
    "id": "0koUcJMJpEBD"
   },
   "outputs": [
    {
     "name": "stdout",
     "output_type": "stream",
     "text": [
      "Found 183 images belonging to 2 classes.\n"
     ]
    }
   ],
   "source": [
    "train_datagen = ImageDataGenerator(rescale = 1./255,\n",
    "                                   shear_range = 0.2,\n",
    "                                   zoom_range = 0.2,\n",
    "                                   horizontal_flip = True)\n",
    "train = train_datagen.flow_from_directory('./data/brain_tumor_dataset_split/train',\n",
    "                                                 target_size = (IMG_SIZE,IMG_SIZE),\n",
    "                                                 batch_size = 32,\n",
    "                                                 class_mode = 'binary',\n",
    "                                                 shuffle=True, seed=rs )"
   ]
  },
  {
   "cell_type": "code",
   "execution_count": 33,
   "metadata": {
    "execution": {
     "iopub.execute_input": "2021-05-20T10:35:30.851056Z",
     "iopub.status.busy": "2021-05-20T10:35:30.850649Z",
     "iopub.status.idle": "2021-05-20T10:35:30.860647Z",
     "shell.execute_reply": "2021-05-20T10:35:30.859655Z",
     "shell.execute_reply.started": "2021-05-20T10:35:30.851015Z"
    }
   },
   "outputs": [
    {
     "data": {
      "text/plain": [
       "{'no': 0, 'yes': 1}"
      ]
     },
     "execution_count": 33,
     "metadata": {},
     "output_type": "execute_result"
    }
   ],
   "source": [
    "train.class_indices"
   ]
  },
  {
   "cell_type": "code",
   "execution_count": 34,
   "metadata": {
    "execution": {
     "iopub.execute_input": "2021-05-20T10:35:32.169935Z",
     "iopub.status.busy": "2021-05-20T10:35:32.169625Z",
     "iopub.status.idle": "2021-05-20T10:35:32.174754Z",
     "shell.execute_reply": "2021-05-20T10:35:32.173909Z",
     "shell.execute_reply.started": "2021-05-20T10:35:32.169906Z"
    }
   },
   "outputs": [
    {
     "name": "stdout",
     "output_type": "stream",
     "text": [
      "Yes: 108\n",
      "No: 68\n"
     ]
    }
   ],
   "source": [
    "yes=np.count_nonzero(train.classes)\n",
    "print(\"Yes:\",yes)\n",
    "print(\"No:\",176-yes)"
   ]
  },
  {
   "cell_type": "markdown",
   "metadata": {
    "id": "mrCMmGw9pHys"
   },
   "source": [
    "### Preprocessing the Test set"
   ]
  },
  {
   "cell_type": "code",
   "execution_count": 35,
   "metadata": {
    "execution": {
     "iopub.execute_input": "2021-05-20T10:35:55.734218Z",
     "iopub.status.busy": "2021-05-20T10:35:55.733894Z",
     "iopub.status.idle": "2021-05-20T10:35:55.843233Z",
     "shell.execute_reply": "2021-05-20T10:35:55.842391Z",
     "shell.execute_reply.started": "2021-05-20T10:35:55.734189Z"
    },
    "id": "SH4WzfOhpKc3"
   },
   "outputs": [
    {
     "name": "stdout",
     "output_type": "stream",
     "text": [
      "Found 84 images belonging to 2 classes.\n"
     ]
    }
   ],
   "source": [
    "test_datagen = ImageDataGenerator(rescale = 1./255)\n",
    "test = test_datagen.flow_from_directory('data/brain_tumor_dataset_split/val/',\n",
    "                                            target_size = (IMG_SIZE, IMG_SIZE),\n",
    "                                            batch_size = 32,\n",
    "                                            class_mode = 'binary',\n",
    "                                            shuffle=True, seed=rs )"
   ]
  },
  {
   "cell_type": "code",
   "execution_count": 36,
   "metadata": {
    "execution": {
     "iopub.execute_input": "2021-05-20T10:38:00.475080Z",
     "iopub.status.busy": "2021-05-20T10:38:00.474770Z",
     "iopub.status.idle": "2021-05-20T10:38:00.480452Z",
     "shell.execute_reply": "2021-05-20T10:38:00.479332Z",
     "shell.execute_reply.started": "2021-05-20T10:38:00.475051Z"
    }
   },
   "outputs": [
    {
     "name": "stdout",
     "output_type": "stream",
     "text": [
      "Yes: 47\n",
      "No: 30\n"
     ]
    }
   ],
   "source": [
    "yes_test=np.count_nonzero(test.classes)\n",
    "print(\"Yes:\",yes_test)\n",
    "print(\"No:\",77-yes_test)"
   ]
  },
  {
   "cell_type": "code",
   "execution_count": 37,
   "metadata": {},
   "outputs": [
    {
     "data": {
      "text/plain": [
       "84"
      ]
     },
     "execution_count": 37,
     "metadata": {},
     "output_type": "execute_result"
    }
   ],
   "source": [
    "len(test.classes)"
   ]
  },
  {
   "cell_type": "markdown",
   "metadata": {
    "id": "af8O4l90gk7B"
   },
   "source": [
    "## Part 2 - Building the CNN"
   ]
  },
  {
   "cell_type": "code",
   "execution_count": 38,
   "metadata": {
    "execution": {
     "iopub.execute_input": "2021-05-20T10:45:26.759117Z",
     "iopub.status.busy": "2021-05-20T10:45:26.758799Z",
     "iopub.status.idle": "2021-05-20T10:45:26.766068Z",
     "shell.execute_reply": "2021-05-20T10:45:26.765063Z",
     "shell.execute_reply.started": "2021-05-20T10:45:26.759087Z"
    },
    "id": "SAUt4UMPlhLS"
   },
   "outputs": [],
   "source": [
    "### Init the CNN model\n",
    "cnn = tf.keras.models.Sequential()\n",
    "\n",
    "### Convolution and pooling layer\n",
    "cnn.add(tf.keras.layers.Conv2D(filters=64, kernel_size=7, activation='relu', input_shape=[IMG_SIZE,IMG_SIZE,3]))\n",
    "cnn.add(tf.keras.layers.MaxPool2D(pool_size=2, strides=2))\n",
    "\n",
    "### Adding a second convolutional layer\n",
    "cnn.add(tf.keras.layers.Conv2D(filters=32, kernel_size=5, activation='relu'))\n",
    "cnn.add(tf.keras.layers.MaxPool2D(pool_size=2, strides=2))\n",
    "\n",
    "### Adding a second convolutional layer\n",
    "cnn.add(tf.keras.layers.Conv2D(filters=32, kernel_size=3, activation='relu'))\n",
    "cnn.add(tf.keras.layers.MaxPool2D(pool_size=2, strides=2))\n",
    "\n",
    "### Adding a second convolutional layer\n",
    "cnn.add(tf.keras.layers.Conv2D(filters=16, kernel_size=3, activation='relu'))\n",
    "cnn.add(tf.keras.layers.MaxPool2D(pool_size=2, strides=2))\n",
    "\n",
    "### Flattening\n",
    "cnn.add(tf.keras.layers.Flatten())\n",
    "\n",
    "### Fully Connection\n",
    "cnn.add(tf.keras.layers.Dense(units=128, activation='relu'))\n",
    "\n",
    "### Dropout\n",
    "cnn.add(tf.keras.layers.Dropout(0.3))\n",
    "\n",
    "### Output Layer\n",
    "# cnn.add(tf.keras.layers.Dense(units=2, activation='softmax'))\n",
    "cnn.add(tf.keras.layers.Dense(units=1, activation='sigmoid'))"
   ]
  },
  {
   "cell_type": "markdown",
   "metadata": {
    "id": "D6XkI90snSDl"
   },
   "source": [
    "## Part 3 - Training the CNN"
   ]
  },
  {
   "cell_type": "markdown",
   "metadata": {
    "id": "vfrFQACEnc6i"
   },
   "source": [
    "### Compiling the CNN"
   ]
  },
  {
   "cell_type": "code",
   "execution_count": 39,
   "metadata": {
    "execution": {
     "iopub.execute_input": "2021-05-20T10:45:41.155820Z",
     "iopub.status.busy": "2021-05-20T10:45:41.155462Z",
     "iopub.status.idle": "2021-05-20T10:45:41.166770Z",
     "shell.execute_reply": "2021-05-20T10:45:41.165689Z",
     "shell.execute_reply.started": "2021-05-20T10:45:41.155791Z"
    },
    "id": "NALksrNQpUlJ"
   },
   "outputs": [],
   "source": [
    "def weighted_loss(weight):\n",
    "    def weighted_cross_entropy_with_logits(labels, logits):\n",
    "        loss = tf.nn.weighted_cross_entropy_with_logits( labels, logits, weight)\n",
    "        return loss\n",
    "    return weighted_cross_entropy_with_logits\n",
    "\n",
    "\n",
    "cnn.compile(optimizer = 'adam', loss = weighted_loss(weight=1.5), metrics = ['accuracy'])\n",
    "# cnn.compile(optimizer = 'adam', loss = 'sparse_categorical_crossentropy', metrics = ['accuracy'])"
   ]
  },
  {
   "cell_type": "markdown",
   "metadata": {},
   "source": [
    "### Summary of the model"
   ]
  },
  {
   "cell_type": "code",
   "execution_count": 40,
   "metadata": {
    "execution": {
     "iopub.execute_input": "2021-05-20T10:45:42.985752Z",
     "iopub.status.busy": "2021-05-20T10:45:42.985421Z",
     "iopub.status.idle": "2021-05-20T10:45:42.995821Z",
     "shell.execute_reply": "2021-05-20T10:45:42.995001Z",
     "shell.execute_reply.started": "2021-05-20T10:45:42.985721Z"
    }
   },
   "outputs": [
    {
     "name": "stdout",
     "output_type": "stream",
     "text": [
      "Model: \"sequential\"\n",
      "_________________________________________________________________\n",
      "Layer (type)                 Output Shape              Param #   \n",
      "=================================================================\n",
      "conv2d (Conv2D)              (None, 58, 58, 64)        9472      \n",
      "_________________________________________________________________\n",
      "max_pooling2d (MaxPooling2D) (None, 29, 29, 64)        0         \n",
      "_________________________________________________________________\n",
      "conv2d_1 (Conv2D)            (None, 25, 25, 32)        51232     \n",
      "_________________________________________________________________\n",
      "max_pooling2d_1 (MaxPooling2 (None, 12, 12, 32)        0         \n",
      "_________________________________________________________________\n",
      "conv2d_2 (Conv2D)            (None, 10, 10, 32)        9248      \n",
      "_________________________________________________________________\n",
      "max_pooling2d_2 (MaxPooling2 (None, 5, 5, 32)          0         \n",
      "_________________________________________________________________\n",
      "conv2d_3 (Conv2D)            (None, 3, 3, 16)          4624      \n",
      "_________________________________________________________________\n",
      "max_pooling2d_3 (MaxPooling2 (None, 1, 1, 16)          0         \n",
      "_________________________________________________________________\n",
      "flatten (Flatten)            (None, 16)                0         \n",
      "_________________________________________________________________\n",
      "dense (Dense)                (None, 128)               2176      \n",
      "_________________________________________________________________\n",
      "dropout (Dropout)            (None, 128)               0         \n",
      "_________________________________________________________________\n",
      "dense_1 (Dense)              (None, 1)                 129       \n",
      "=================================================================\n",
      "Total params: 76,881\n",
      "Trainable params: 76,881\n",
      "Non-trainable params: 0\n",
      "_________________________________________________________________\n"
     ]
    }
   ],
   "source": [
    "cnn.summary()"
   ]
  },
  {
   "cell_type": "markdown",
   "metadata": {
    "id": "ehS-v3MIpX2h"
   },
   "source": [
    "### Training the CNN on the Training set and evaluating it on the Test set"
   ]
  },
  {
   "cell_type": "code",
   "execution_count": 41,
   "metadata": {
    "execution": {
     "iopub.execute_input": "2021-05-20T10:45:44.161794Z",
     "iopub.status.busy": "2021-05-20T10:45:44.161453Z",
     "iopub.status.idle": "2021-05-20T10:47:23.628600Z",
     "shell.execute_reply": "2021-05-20T10:47:23.627808Z",
     "shell.execute_reply.started": "2021-05-20T10:45:44.161765Z"
    },
    "id": "XUj1W4PJptta",
    "scrolled": true
   },
   "outputs": [
    {
     "name": "stdout",
     "output_type": "stream",
     "text": [
      "Epoch 1/120\n",
      "6/6 [==============================] - 3s 105ms/step - loss: 0.8205 - accuracy: 0.5246 - val_loss: 0.8175 - val_accuracy: 0.5595\n",
      "Epoch 2/120\n",
      "6/6 [==============================] - 0s 53ms/step - loss: 0.7958 - accuracy: 0.6017 - val_loss: 0.8165 - val_accuracy: 0.5595\n",
      "Epoch 3/120\n",
      "6/6 [==============================] - 0s 56ms/step - loss: 0.7973 - accuracy: 0.5866 - val_loss: 0.8132 - val_accuracy: 0.5595\n",
      "Epoch 4/120\n",
      "6/6 [==============================] - 0s 59ms/step - loss: 0.8059 - accuracy: 0.5766 - val_loss: 0.8155 - val_accuracy: 0.5595\n",
      "Epoch 5/120\n",
      "6/6 [==============================] - 0s 54ms/step - loss: 0.7992 - accuracy: 0.5888 - val_loss: 0.8102 - val_accuracy: 0.5595\n",
      "Epoch 6/120\n",
      "6/6 [==============================] - 0s 55ms/step - loss: 0.8150 - accuracy: 0.5649 - val_loss: 0.8088 - val_accuracy: 0.5595\n",
      "Epoch 7/120\n",
      "6/6 [==============================] - 0s 55ms/step - loss: 0.8002 - accuracy: 0.5795 - val_loss: 0.8059 - val_accuracy: 0.5595\n",
      "Epoch 8/120\n",
      "6/6 [==============================] - 0s 55ms/step - loss: 0.7742 - accuracy: 0.6127 - val_loss: 0.7976 - val_accuracy: 0.5595\n",
      "Epoch 9/120\n",
      "6/6 [==============================] - 0s 56ms/step - loss: 0.7847 - accuracy: 0.6296 - val_loss: 0.8016 - val_accuracy: 0.5595\n",
      "Epoch 10/120\n",
      "6/6 [==============================] - 0s 53ms/step - loss: 0.7761 - accuracy: 0.6120 - val_loss: 0.7859 - val_accuracy: 0.6905\n",
      "Epoch 11/120\n",
      "6/6 [==============================] - 0s 56ms/step - loss: 0.7839 - accuracy: 0.6768 - val_loss: 0.7943 - val_accuracy: 0.5833\n",
      "Epoch 12/120\n",
      "6/6 [==============================] - 0s 55ms/step - loss: 0.7415 - accuracy: 0.7012 - val_loss: 0.7519 - val_accuracy: 0.7976\n",
      "Epoch 13/120\n",
      "6/6 [==============================] - 0s 55ms/step - loss: 0.7781 - accuracy: 0.6594 - val_loss: 0.7521 - val_accuracy: 0.6786\n",
      "Epoch 14/120\n",
      "6/6 [==============================] - 0s 53ms/step - loss: 0.7593 - accuracy: 0.6813 - val_loss: 0.7331 - val_accuracy: 0.7381\n",
      "Epoch 15/120\n",
      "6/6 [==============================] - 0s 56ms/step - loss: 0.7178 - accuracy: 0.7290 - val_loss: 0.7123 - val_accuracy: 0.7738\n",
      "Epoch 16/120\n",
      "6/6 [==============================] - 0s 53ms/step - loss: 0.7135 - accuracy: 0.7746 - val_loss: 0.6969 - val_accuracy: 0.8095\n",
      "Epoch 17/120\n",
      "6/6 [==============================] - 0s 53ms/step - loss: 0.7459 - accuracy: 0.6803 - val_loss: 0.7015 - val_accuracy: 0.7738\n",
      "Epoch 18/120\n",
      "6/6 [==============================] - 0s 54ms/step - loss: 0.7393 - accuracy: 0.6711 - val_loss: 0.6975 - val_accuracy: 0.7976\n",
      "Epoch 19/120\n",
      "6/6 [==============================] - 0s 54ms/step - loss: 0.7615 - accuracy: 0.6935 - val_loss: 0.6808 - val_accuracy: 0.8333\n",
      "Epoch 20/120\n",
      "6/6 [==============================] - 0s 53ms/step - loss: 0.7347 - accuracy: 0.7196 - val_loss: 0.7193 - val_accuracy: 0.7500\n",
      "Epoch 21/120\n",
      "6/6 [==============================] - 0s 55ms/step - loss: 0.7444 - accuracy: 0.7129 - val_loss: 0.6925 - val_accuracy: 0.7976\n",
      "Epoch 22/120\n",
      "6/6 [==============================] - 0s 54ms/step - loss: 0.7319 - accuracy: 0.6951 - val_loss: 0.6743 - val_accuracy: 0.8452\n",
      "Epoch 23/120\n",
      "6/6 [==============================] - 0s 53ms/step - loss: 0.7162 - accuracy: 0.7570 - val_loss: 0.6995 - val_accuracy: 0.7976\n",
      "Epoch 24/120\n",
      "6/6 [==============================] - 0s 53ms/step - loss: 0.7443 - accuracy: 0.7201 - val_loss: 0.6873 - val_accuracy: 0.8214\n",
      "Epoch 25/120\n",
      "6/6 [==============================] - 0s 55ms/step - loss: 0.7244 - accuracy: 0.7180 - val_loss: 0.6911 - val_accuracy: 0.7976\n",
      "Epoch 26/120\n",
      "6/6 [==============================] - 0s 55ms/step - loss: 0.7042 - accuracy: 0.7677 - val_loss: 0.6675 - val_accuracy: 0.8810\n",
      "Epoch 27/120\n",
      "6/6 [==============================] - 0s 53ms/step - loss: 0.6688 - accuracy: 0.8290 - val_loss: 0.6588 - val_accuracy: 0.8810\n",
      "Epoch 28/120\n",
      "6/6 [==============================] - 0s 55ms/step - loss: 0.6949 - accuracy: 0.7759 - val_loss: 0.6544 - val_accuracy: 0.8690\n",
      "Epoch 29/120\n",
      "6/6 [==============================] - 0s 53ms/step - loss: 0.6775 - accuracy: 0.8030 - val_loss: 0.6863 - val_accuracy: 0.7857\n",
      "Epoch 30/120\n",
      "6/6 [==============================] - 0s 55ms/step - loss: 0.7161 - accuracy: 0.7160 - val_loss: 0.7712 - val_accuracy: 0.6667\n",
      "Epoch 31/120\n",
      "6/6 [==============================] - 0s 54ms/step - loss: 0.7784 - accuracy: 0.6584 - val_loss: 0.6903 - val_accuracy: 0.7738\n",
      "Epoch 32/120\n",
      "6/6 [==============================] - 0s 53ms/step - loss: 0.7003 - accuracy: 0.7869 - val_loss: 0.6781 - val_accuracy: 0.8333\n",
      "Epoch 33/120\n",
      "6/6 [==============================] - 0s 55ms/step - loss: 0.6949 - accuracy: 0.7743 - val_loss: 0.6900 - val_accuracy: 0.7857\n",
      "Epoch 34/120\n",
      "6/6 [==============================] - 0s 56ms/step - loss: 0.6752 - accuracy: 0.8169 - val_loss: 0.6767 - val_accuracy: 0.8095\n",
      "Epoch 35/120\n",
      "6/6 [==============================] - 0s 52ms/step - loss: 0.6620 - accuracy: 0.8319 - val_loss: 0.6631 - val_accuracy: 0.8810\n",
      "Epoch 36/120\n",
      "6/6 [==============================] - 0s 56ms/step - loss: 0.7383 - accuracy: 0.7131 - val_loss: 0.6716 - val_accuracy: 0.8452\n",
      "Epoch 37/120\n",
      "6/6 [==============================] - 0s 54ms/step - loss: 0.7066 - accuracy: 0.7604 - val_loss: 0.6945 - val_accuracy: 0.7738\n",
      "Epoch 38/120\n",
      "6/6 [==============================] - 0s 53ms/step - loss: 0.6992 - accuracy: 0.7756 - val_loss: 0.6994 - val_accuracy: 0.7738\n",
      "Epoch 39/120\n",
      "6/6 [==============================] - 0s 54ms/step - loss: 0.6729 - accuracy: 0.8119 - val_loss: 0.7012 - val_accuracy: 0.7738\n",
      "Epoch 40/120\n",
      "6/6 [==============================] - 0s 55ms/step - loss: 0.6899 - accuracy: 0.8001 - val_loss: 0.6862 - val_accuracy: 0.8095\n",
      "Epoch 41/120\n",
      "6/6 [==============================] - 0s 54ms/step - loss: 0.6936 - accuracy: 0.8041 - val_loss: 0.6717 - val_accuracy: 0.8452\n",
      "Epoch 42/120\n",
      "6/6 [==============================] - 0s 57ms/step - loss: 0.6226 - accuracy: 0.8939 - val_loss: 0.7026 - val_accuracy: 0.7738\n",
      "Epoch 43/120\n",
      "6/6 [==============================] - 0s 55ms/step - loss: 0.6777 - accuracy: 0.7945 - val_loss: 0.6813 - val_accuracy: 0.8333\n",
      "Epoch 44/120\n",
      "6/6 [==============================] - 0s 55ms/step - loss: 0.6604 - accuracy: 0.8375 - val_loss: 0.7002 - val_accuracy: 0.7500\n",
      "Epoch 45/120\n",
      "6/6 [==============================] - 0s 54ms/step - loss: 0.6558 - accuracy: 0.8316 - val_loss: 0.6951 - val_accuracy: 0.7857\n",
      "Epoch 46/120\n",
      "6/6 [==============================] - 0s 56ms/step - loss: 0.6659 - accuracy: 0.8398 - val_loss: 0.6750 - val_accuracy: 0.8214\n",
      "Epoch 47/120\n",
      "6/6 [==============================] - 0s 54ms/step - loss: 0.6424 - accuracy: 0.8621 - val_loss: 0.6827 - val_accuracy: 0.7976\n",
      "Epoch 48/120\n",
      "6/6 [==============================] - 0s 54ms/step - loss: 0.6362 - accuracy: 0.8767 - val_loss: 0.6651 - val_accuracy: 0.8333\n",
      "Epoch 49/120\n",
      "6/6 [==============================] - 0s 53ms/step - loss: 0.6806 - accuracy: 0.8252 - val_loss: 0.6973 - val_accuracy: 0.7857\n",
      "Epoch 50/120\n",
      "6/6 [==============================] - 0s 54ms/step - loss: 0.6601 - accuracy: 0.8349 - val_loss: 0.6635 - val_accuracy: 0.8452\n",
      "Epoch 51/120\n",
      "6/6 [==============================] - 0s 54ms/step - loss: 0.6530 - accuracy: 0.8485 - val_loss: 0.6900 - val_accuracy: 0.7738\n",
      "Epoch 52/120\n",
      "6/6 [==============================] - 0s 53ms/step - loss: 0.6618 - accuracy: 0.8416 - val_loss: 0.6742 - val_accuracy: 0.8214\n",
      "Epoch 53/120\n",
      "6/6 [==============================] - 0s 55ms/step - loss: 0.6414 - accuracy: 0.8939 - val_loss: 0.6750 - val_accuracy: 0.8214\n",
      "Epoch 54/120\n",
      "6/6 [==============================] - 0s 55ms/step - loss: 0.6415 - accuracy: 0.8609 - val_loss: 0.6691 - val_accuracy: 0.8333\n",
      "Epoch 55/120\n",
      "6/6 [==============================] - 0s 53ms/step - loss: 0.6264 - accuracy: 0.9023 - val_loss: 0.6753 - val_accuracy: 0.8095\n",
      "Epoch 56/120\n",
      "6/6 [==============================] - 0s 56ms/step - loss: 0.6252 - accuracy: 0.8970 - val_loss: 0.6563 - val_accuracy: 0.8690\n",
      "Epoch 57/120\n",
      "6/6 [==============================] - 0s 53ms/step - loss: 0.6191 - accuracy: 0.9210 - val_loss: 0.7016 - val_accuracy: 0.7500\n",
      "Epoch 58/120\n",
      "6/6 [==============================] - 0s 54ms/step - loss: 0.6475 - accuracy: 0.8384 - val_loss: 0.6525 - val_accuracy: 0.8690\n",
      "Epoch 59/120\n"
     ]
    },
    {
     "name": "stdout",
     "output_type": "stream",
     "text": [
      "6/6 [==============================] - 0s 55ms/step - loss: 0.6426 - accuracy: 0.8741 - val_loss: 0.6717 - val_accuracy: 0.8214\n",
      "Epoch 60/120\n",
      "6/6 [==============================] - 0s 55ms/step - loss: 0.6583 - accuracy: 0.8651 - val_loss: 0.6684 - val_accuracy: 0.8333\n",
      "Epoch 61/120\n",
      "6/6 [==============================] - 0s 54ms/step - loss: 0.6132 - accuracy: 0.8985 - val_loss: 0.6537 - val_accuracy: 0.8690\n",
      "Epoch 62/120\n",
      "6/6 [==============================] - 0s 54ms/step - loss: 0.6457 - accuracy: 0.8650 - val_loss: 0.6733 - val_accuracy: 0.8214\n",
      "Epoch 63/120\n",
      "6/6 [==============================] - 0s 54ms/step - loss: 0.6269 - accuracy: 0.8966 - val_loss: 0.6433 - val_accuracy: 0.8929\n",
      "Epoch 64/120\n",
      "6/6 [==============================] - 0s 54ms/step - loss: 0.6113 - accuracy: 0.9143 - val_loss: 0.6611 - val_accuracy: 0.8214\n",
      "Epoch 65/120\n",
      "6/6 [==============================] - 0s 54ms/step - loss: 0.6386 - accuracy: 0.8726 - val_loss: 0.6733 - val_accuracy: 0.8214\n",
      "Epoch 66/120\n",
      "6/6 [==============================] - 0s 55ms/step - loss: 0.6237 - accuracy: 0.9018 - val_loss: 0.6534 - val_accuracy: 0.8690\n",
      "Epoch 67/120\n",
      "6/6 [==============================] - 0s 55ms/step - loss: 0.6152 - accuracy: 0.8946 - val_loss: 0.6709 - val_accuracy: 0.8333\n",
      "Epoch 68/120\n",
      "6/6 [==============================] - 0s 55ms/step - loss: 0.6292 - accuracy: 0.8849 - val_loss: 0.6622 - val_accuracy: 0.8452\n",
      "Epoch 69/120\n",
      "6/6 [==============================] - 0s 54ms/step - loss: 0.6437 - accuracy: 0.8763 - val_loss: 0.6612 - val_accuracy: 0.8452\n",
      "Epoch 70/120\n",
      "6/6 [==============================] - 0s 55ms/step - loss: 0.6322 - accuracy: 0.8947 - val_loss: 0.6472 - val_accuracy: 0.8810\n",
      "Epoch 71/120\n",
      "6/6 [==============================] - 0s 54ms/step - loss: 0.6272 - accuracy: 0.8847 - val_loss: 0.6573 - val_accuracy: 0.8571\n",
      "Epoch 72/120\n",
      "6/6 [==============================] - 0s 54ms/step - loss: 0.6185 - accuracy: 0.9094 - val_loss: 0.6598 - val_accuracy: 0.8571\n",
      "Epoch 73/120\n",
      "6/6 [==============================] - 0s 55ms/step - loss: 0.6213 - accuracy: 0.9133 - val_loss: 0.6510 - val_accuracy: 0.8571\n",
      "Epoch 74/120\n",
      "6/6 [==============================] - 0s 55ms/step - loss: 0.6043 - accuracy: 0.9459 - val_loss: 0.6672 - val_accuracy: 0.8214\n",
      "Epoch 75/120\n",
      "6/6 [==============================] - 0s 53ms/step - loss: 0.6111 - accuracy: 0.9393 - val_loss: 0.6876 - val_accuracy: 0.7857\n",
      "Epoch 76/120\n",
      "6/6 [==============================] - 0s 54ms/step - loss: 0.6263 - accuracy: 0.9113 - val_loss: 0.7255 - val_accuracy: 0.7381\n",
      "Epoch 77/120\n",
      "6/6 [==============================] - 0s 54ms/step - loss: 0.7173 - accuracy: 0.7155 - val_loss: 0.6594 - val_accuracy: 0.8452\n",
      "Epoch 78/120\n",
      "6/6 [==============================] - 0s 55ms/step - loss: 0.6670 - accuracy: 0.8128 - val_loss: 0.6948 - val_accuracy: 0.7738\n",
      "Epoch 79/120\n",
      "6/6 [==============================] - 0s 53ms/step - loss: 0.6458 - accuracy: 0.8533 - val_loss: 0.6625 - val_accuracy: 0.8452\n",
      "Epoch 80/120\n",
      "6/6 [==============================] - 0s 55ms/step - loss: 0.6471 - accuracy: 0.8343 - val_loss: 0.6648 - val_accuracy: 0.8214\n",
      "Epoch 81/120\n",
      "6/6 [==============================] - 0s 53ms/step - loss: 0.6251 - accuracy: 0.8969 - val_loss: 0.6723 - val_accuracy: 0.7976\n",
      "Epoch 82/120\n",
      "6/6 [==============================] - 0s 54ms/step - loss: 0.6084 - accuracy: 0.9110 - val_loss: 0.6588 - val_accuracy: 0.8452\n",
      "Epoch 83/120\n",
      "6/6 [==============================] - 0s 57ms/step - loss: 0.6446 - accuracy: 0.8855 - val_loss: 0.6811 - val_accuracy: 0.8095\n",
      "Epoch 84/120\n",
      "6/6 [==============================] - 0s 57ms/step - loss: 0.6218 - accuracy: 0.9036 - val_loss: 0.6810 - val_accuracy: 0.8095\n",
      "Epoch 85/120\n",
      "6/6 [==============================] - 0s 56ms/step - loss: 0.6198 - accuracy: 0.8903 - val_loss: 0.6732 - val_accuracy: 0.8214\n",
      "Epoch 86/120\n",
      "6/6 [==============================] - 0s 54ms/step - loss: 0.6343 - accuracy: 0.8862 - val_loss: 0.6463 - val_accuracy: 0.8810\n",
      "Epoch 87/120\n",
      "6/6 [==============================] - 0s 54ms/step - loss: 0.6552 - accuracy: 0.8639 - val_loss: 0.6616 - val_accuracy: 0.8571\n",
      "Epoch 88/120\n",
      "6/6 [==============================] - 0s 55ms/step - loss: 0.6379 - accuracy: 0.8785 - val_loss: 0.6768 - val_accuracy: 0.8095\n",
      "Epoch 89/120\n",
      "6/6 [==============================] - 0s 54ms/step - loss: 0.6194 - accuracy: 0.9131 - val_loss: 0.6564 - val_accuracy: 0.8571\n",
      "Epoch 90/120\n",
      "6/6 [==============================] - 0s 55ms/step - loss: 0.6097 - accuracy: 0.9191 - val_loss: 0.6432 - val_accuracy: 0.8690\n",
      "Epoch 91/120\n",
      "6/6 [==============================] - 0s 55ms/step - loss: 0.6403 - accuracy: 0.9022 - val_loss: 0.6542 - val_accuracy: 0.8690\n",
      "Epoch 92/120\n",
      "6/6 [==============================] - 0s 54ms/step - loss: 0.6295 - accuracy: 0.8787 - val_loss: 0.6397 - val_accuracy: 0.8929\n",
      "Epoch 93/120\n",
      "6/6 [==============================] - 0s 54ms/step - loss: 0.6196 - accuracy: 0.9154 - val_loss: 0.6455 - val_accuracy: 0.8571\n",
      "Epoch 94/120\n",
      "6/6 [==============================] - 0s 53ms/step - loss: 0.6261 - accuracy: 0.9152 - val_loss: 0.6392 - val_accuracy: 0.8810\n",
      "Epoch 95/120\n",
      "6/6 [==============================] - 0s 53ms/step - loss: 0.6186 - accuracy: 0.9117 - val_loss: 0.6463 - val_accuracy: 0.8690\n",
      "Epoch 96/120\n",
      "6/6 [==============================] - 0s 52ms/step - loss: 0.6092 - accuracy: 0.9213 - val_loss: 0.6397 - val_accuracy: 0.8929\n",
      "Epoch 97/120\n",
      "6/6 [==============================] - 0s 53ms/step - loss: 0.6187 - accuracy: 0.9194 - val_loss: 0.6801 - val_accuracy: 0.7976\n",
      "Epoch 98/120\n",
      "6/6 [==============================] - 0s 55ms/step - loss: 0.6184 - accuracy: 0.8896 - val_loss: 0.6390 - val_accuracy: 0.8810\n",
      "Epoch 99/120\n",
      "6/6 [==============================] - 0s 54ms/step - loss: 0.5921 - accuracy: 0.9398 - val_loss: 0.6522 - val_accuracy: 0.8571\n",
      "Epoch 100/120\n",
      "6/6 [==============================] - 0s 55ms/step - loss: 0.6301 - accuracy: 0.9097 - val_loss: 0.6584 - val_accuracy: 0.8452\n",
      "Epoch 101/120\n",
      "6/6 [==============================] - 0s 55ms/step - loss: 0.5977 - accuracy: 0.9536 - val_loss: 0.6467 - val_accuracy: 0.8810\n",
      "Epoch 102/120\n",
      "6/6 [==============================] - 0s 55ms/step - loss: 0.5909 - accuracy: 0.9434 - val_loss: 0.6446 - val_accuracy: 0.8810\n",
      "Epoch 103/120\n",
      "6/6 [==============================] - 0s 55ms/step - loss: 0.5995 - accuracy: 0.9282 - val_loss: 0.6392 - val_accuracy: 0.8690\n",
      "Epoch 104/120\n",
      "6/6 [==============================] - 0s 53ms/step - loss: 0.6145 - accuracy: 0.9062 - val_loss: 0.6418 - val_accuracy: 0.8810\n",
      "Epoch 105/120\n",
      "6/6 [==============================] - 0s 54ms/step - loss: 0.6229 - accuracy: 0.8926 - val_loss: 0.6385 - val_accuracy: 0.8810\n",
      "Epoch 106/120\n",
      "6/6 [==============================] - 0s 53ms/step - loss: 0.6004 - accuracy: 0.9474 - val_loss: 0.6743 - val_accuracy: 0.8333\n",
      "Epoch 107/120\n",
      "6/6 [==============================] - 0s 54ms/step - loss: 0.6227 - accuracy: 0.8978 - val_loss: 0.6413 - val_accuracy: 0.8929\n",
      "Epoch 108/120\n",
      "6/6 [==============================] - 0s 55ms/step - loss: 0.6078 - accuracy: 0.9322 - val_loss: 0.6429 - val_accuracy: 0.8810\n",
      "Epoch 109/120\n",
      "6/6 [==============================] - 0s 54ms/step - loss: 0.6031 - accuracy: 0.9432 - val_loss: 0.6508 - val_accuracy: 0.8571\n",
      "Epoch 110/120\n",
      "6/6 [==============================] - 0s 54ms/step - loss: 0.6013 - accuracy: 0.9311 - val_loss: 0.6381 - val_accuracy: 0.8810\n",
      "Epoch 111/120\n",
      "6/6 [==============================] - 0s 55ms/step - loss: 0.6116 - accuracy: 0.9186 - val_loss: 0.6412 - val_accuracy: 0.8690\n",
      "Epoch 112/120\n",
      "6/6 [==============================] - 0s 52ms/step - loss: 0.6021 - accuracy: 0.9426 - val_loss: 0.6409 - val_accuracy: 0.8690\n",
      "Epoch 113/120\n",
      "6/6 [==============================] - 0s 54ms/step - loss: 0.6079 - accuracy: 0.9205 - val_loss: 0.6387 - val_accuracy: 0.8690\n",
      "Epoch 114/120\n",
      "6/6 [==============================] - 0s 57ms/step - loss: 0.5864 - accuracy: 0.9577 - val_loss: 0.6348 - val_accuracy: 0.8929\n",
      "Epoch 115/120\n",
      "6/6 [==============================] - 0s 56ms/step - loss: 0.5977 - accuracy: 0.9430 - val_loss: 0.6316 - val_accuracy: 0.9048\n",
      "Epoch 116/120\n",
      "6/6 [==============================] - 0s 53ms/step - loss: 0.5759 - accuracy: 0.9717 - val_loss: 0.6381 - val_accuracy: 0.8929\n",
      "Epoch 117/120\n"
     ]
    },
    {
     "name": "stdout",
     "output_type": "stream",
     "text": [
      "6/6 [==============================] - 0s 55ms/step - loss: 0.5994 - accuracy: 0.9423 - val_loss: 0.6326 - val_accuracy: 0.8929\n",
      "Epoch 118/120\n",
      "6/6 [==============================] - 0s 54ms/step - loss: 0.6243 - accuracy: 0.8930 - val_loss: 0.6371 - val_accuracy: 0.8929\n",
      "Epoch 119/120\n",
      "6/6 [==============================] - 0s 53ms/step - loss: 0.6003 - accuracy: 0.9354 - val_loss: 0.6448 - val_accuracy: 0.8690\n",
      "Epoch 120/120\n",
      "6/6 [==============================] - 0s 53ms/step - loss: 0.5926 - accuracy: 0.9507 - val_loss: 0.6358 - val_accuracy: 0.8929\n"
     ]
    }
   ],
   "source": [
    "history=cnn.fit(x = train, epochs = 120 ,validation_data=test)"
   ]
  },
  {
   "cell_type": "markdown",
   "metadata": {},
   "source": [
    "### Train accuracy"
   ]
  },
  {
   "cell_type": "code",
   "execution_count": 42,
   "metadata": {
    "execution": {
     "iopub.execute_input": "2021-05-20T10:51:09.133968Z",
     "iopub.status.busy": "2021-05-20T10:51:09.133643Z",
     "iopub.status.idle": "2021-05-20T10:51:10.142262Z",
     "shell.execute_reply": "2021-05-20T10:51:10.141364Z",
     "shell.execute_reply.started": "2021-05-20T10:51:09.133938Z"
    }
   },
   "outputs": [
    {
     "name": "stdout",
     "output_type": "stream",
     "text": [
      "6/6 [==============================] - 0s 36ms/step - loss: 0.5883 - accuracy: 0.9563\n"
     ]
    },
    {
     "data": {
      "text/plain": [
       "[0.5883370637893677, 0.9562841653823853]"
      ]
     },
     "execution_count": 42,
     "metadata": {},
     "output_type": "execute_result"
    }
   ],
   "source": [
    "cnn.evaluate(train)"
   ]
  },
  {
   "cell_type": "markdown",
   "metadata": {
    "execution": {
     "iopub.execute_input": "2021-05-20T10:52:21.412908Z",
     "iopub.status.busy": "2021-05-20T10:52:21.412575Z",
     "iopub.status.idle": "2021-05-20T10:52:21.416845Z",
     "shell.execute_reply": "2021-05-20T10:52:21.415840Z",
     "shell.execute_reply.started": "2021-05-20T10:52:21.412877Z"
    }
   },
   "source": [
    "### Test accuracy "
   ]
  },
  {
   "cell_type": "code",
   "execution_count": 43,
   "metadata": {
    "execution": {
     "iopub.execute_input": "2021-05-20T10:52:43.661824Z",
     "iopub.status.busy": "2021-05-20T10:52:43.661450Z",
     "iopub.status.idle": "2021-05-20T10:52:43.951190Z",
     "shell.execute_reply": "2021-05-20T10:52:43.950446Z",
     "shell.execute_reply.started": "2021-05-20T10:52:43.661792Z"
    }
   },
   "outputs": [
    {
     "name": "stdout",
     "output_type": "stream",
     "text": [
      "3/3 [==============================] - 0s 25ms/step - loss: 0.6358 - accuracy: 0.8929\n"
     ]
    },
    {
     "data": {
      "text/plain": [
       "[0.6358441114425659, 0.8928571343421936]"
      ]
     },
     "execution_count": 43,
     "metadata": {},
     "output_type": "execute_result"
    }
   ],
   "source": [
    "cnn.evaluate(test)"
   ]
  },
  {
   "cell_type": "code",
   "execution_count": 44,
   "metadata": {},
   "outputs": [],
   "source": [
    "def plot_metrics(history):\n",
    "    fig, (ax1, ax2) = plt.subplots(1,2,figsize=(15,5))\n",
    "\n",
    "    \n",
    "    train_loss = history.history['loss']\n",
    "    val_loss = history.history['val_loss']\n",
    "    train_acc = history.history['accuracy']\n",
    "    val_acc = history.history['val_accuracy']\n",
    "    \n",
    "    # Loss\n",
    "    ax1.plot(train_loss, label='Training Loss')\n",
    "    ax1.plot(val_loss, label='Validation Loss')\n",
    "    ax1.set_title('Loss')\n",
    "    ax1.legend()\n",
    "    #plt.show()\n",
    "    \n",
    "    # Accuracy\n",
    "    ax2.plot(train_acc, label='Training Accuracy')\n",
    "    ax2.plot(val_acc, label='Validation Accuracy')\n",
    "    ax2.set_title('Accuracy')\n",
    "    ax2.legend()\n",
    "    plt.show()"
   ]
  },
  {
   "cell_type": "code",
   "execution_count": 45,
   "metadata": {
    "scrolled": false
   },
   "outputs": [
    {
     "data": {
      "image/png": "[encoded data removed]",
      "text/plain": [
       "<Figure size 1080x360 with 2 Axes>"
      ]
     },
     "metadata": {
      "needs_background": "light"
     },
     "output_type": "display_data"
    }
   ],
   "source": [
    "plot_metrics(history)"
   ]
  },
  {
   "cell_type": "code",
   "execution_count": 46,
   "metadata": {},
   "outputs": [],
   "source": [
    "# Y_pred = cnn.predict(test)\n",
    "# y_pred = np.argmax(Y_pred, axis=1)\n",
    "\n",
    "# print('Confusion Matrix')\n",
    "# print(confusion_matrix(test.classes, y_pred))"
   ]
  },
  {
   "cell_type": "markdown",
   "metadata": {
    "id": "U3PZasO0006Z"
   },
   "source": [
    "## Part 4 - Making single predictions"
   ]
  },
  {
   "cell_type": "code",
   "execution_count": 47,
   "metadata": {
    "execution": {
     "iopub.execute_input": "2021-05-20T10:27:49.498521Z",
     "iopub.status.busy": "2021-05-20T10:27:49.498191Z",
     "iopub.status.idle": "2021-05-20T10:27:49.547436Z",
     "shell.execute_reply": "2021-05-20T10:27:49.546585Z",
     "shell.execute_reply.started": "2021-05-20T10:27:49.498471Z"
    },
    "id": "gsSiWEJY1BPB"
   },
   "outputs": [
    {
     "data": {
      "image/jpeg": "[encoded data removed]",
      "text/plain": [
       "<IPython.core.display.Image object>"
      ]
     },
     "metadata": {},
     "output_type": "display_data"
    },
    {
     "name": "stdout",
     "output_type": "stream",
     "text": [
      "Actual: No\n",
      "Predicted: Yes\n"
     ]
    }
   ],
   "source": [
    "display(Image(filename='./data/brain_tumor_dataset_split/val/no/7 no.jpg'))\n",
    "test_image = image.load_img('./data/brain_tumor_dataset_split/val/no/46 no.jpg', target_size = (IMG_SIZE, IMG_SIZE))\n",
    "test_image = image.img_to_array(test_image)\n",
    "test_image = np.expand_dims(test_image, axis = 0)\n",
    "result = cnn.predict(test_image)\n",
    "if result[0][0] == 1:\n",
    "    prediction = 'Yes'\n",
    "else:\n",
    "    prediction = 'No'\n",
    "\n",
    "print(\"Actual: No\")\n",
    "print(\"Predicted:\", prediction)"
   ]
  },
  {
   "cell_type": "code",
   "execution_count": 48,
   "metadata": {
    "execution": {
     "iopub.execute_input": "2021-05-20T10:27:57.620664Z",
     "iopub.status.busy": "2021-05-20T10:27:57.620283Z",
     "iopub.status.idle": "2021-05-20T10:27:57.670827Z",
     "shell.execute_reply": "2021-05-20T10:27:57.669770Z",
     "shell.execute_reply.started": "2021-05-20T10:27:57.620628Z"
    }
   },
   "outputs": [
    {
     "data": {
      "image/jpeg": "[encoded data removed]",
      "text/plain": [
       "<IPython.core.display.Image object>"
      ]
     },
     "metadata": {},
     "output_type": "display_data"
    },
    {
     "name": "stdout",
     "output_type": "stream",
     "text": [
      "Actual: Yes\n",
      "Predicted: Yes\n"
     ]
    }
   ],
   "source": [
    "display(Image(filename='./data/brain_tumor_dataset_split/val/yes/Y7.jpg'))\n",
    "test_image = image.load_img('./data/brain_tumor_dataset_split/val/yes/Y7.jpg', target_size = (IMG_SIZE, IMG_SIZE))\n",
    "test_image = image.img_to_array(test_image)\n",
    "test_image = np.expand_dims(test_image, axis = 0)\n",
    "result = cnn.predict(test_image)\n",
    "train.class_indices\n",
    "if result[0][0] == 1:\n",
    "    prediction = 'Yes'\n",
    "else:\n",
    "    prediction = 'No'\n",
    "\n",
    "print(\"Actual: Yes\")\n",
    "print(\"Predicted:\", prediction)"
   ]
  }
 ],
 "metadata": {
  "kernelspec": {
   "display_name": "Python 3",
   "language": "python",
   "name": "python3"
  },
  "language_info": {
   "codemirror_mode": {
    "name": "ipython",
    "version": 3
   },
   "file_extension": ".py",
   "mimetype": "text/x-python",
   "name": "python",
   "nbconvert_exporter": "python",
   "pygments_lexer": "ipython3",
   "version": "3.8.5"
  }
 },
 "nbformat": 4,
 "nbformat_minor": 4
}
